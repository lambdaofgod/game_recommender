{
 "cells": [
  {
   "cell_type": "code",
   "execution_count": 1,
   "metadata": {},
   "outputs": [],
   "source": [
    "#default_exp hybrid"
   ]
  },
  {
   "cell_type": "code",
   "execution_count": 2,
   "metadata": {},
   "outputs": [],
   "source": [
    "#export\n",
    "\n",
    "import os\n",
    "import pickle\n",
    "import attr\n",
    "\n",
    "import pandas as pd\n",
    "import scipy\n",
    "import numpy as np\n",
    "\n",
    "from game_recommender import steam_data, content_based, user_based"
   ]
  },
  {
   "cell_type": "code",
   "execution_count": 3,
   "metadata": {},
   "outputs": [
    {
     "name": "stdout",
     "output_type": "stream",
     "text": [
      "/home/kuba/Projects/game_recommender\n"
     ]
    }
   ],
   "source": [
    "%cd .."
   ]
  },
  {
   "cell_type": "code",
   "execution_count": 4,
   "metadata": {},
   "outputs": [],
   "source": [
    "game_dataset = steam_data.get_steam_ratings_dataset()"
   ]
  },
  {
   "cell_type": "code",
   "execution_count": 5,
   "metadata": {},
   "outputs": [],
   "source": [
    "user_based_recommender = user_based.UserBasedRecommender.make_from_steam_ratings('log_hours')"
   ]
  },
  {
   "cell_type": "code",
   "execution_count": 6,
   "metadata": {},
   "outputs": [],
   "source": [
    "content_based_recommender = content_based.ContentBasedRecommender.make_from_steam_metadata()"
   ]
  },
  {
   "cell_type": "code",
   "execution_count": 7,
   "metadata": {},
   "outputs": [],
   "source": [
    "steam_df = steam_data.load_steam_df() "
   ]
  },
  {
   "cell_type": "code",
   "execution_count": 8,
   "metadata": {},
   "outputs": [],
   "source": [
    "chosen_games_substring = 'counter strike'\n",
    "chosen_games_df = steam_data.get_games_by_name(steam_df, chosen_games_substring) "
   ]
  },
  {
   "cell_type": "code",
   "execution_count": 9,
   "metadata": {},
   "outputs": [],
   "source": [
    "ratings_df = pd.concat([game_dataset.data, game_dataset.target], axis=1)\n",
    "item_user_pivoted_df = ratings_df.pivot_table(index='name', columns='user_id', values='log_hours')\n",
    "\n",
    "\n",
    "i = 10\n",
    "user_id = user_based_recommender.user_similarity_searcher.df.iloc[10,0]\n",
    "user_ratings_raw = item_user_pivoted_df.iloc[:,10]\n",
    "user_ratings = user_ratings_raw[~user_ratings_raw.isna()]"
   ]
  },
  {
   "cell_type": "code",
   "execution_count": 10,
   "metadata": {},
   "outputs": [
    {
     "data": {
      "text/plain": [
       "name\n",
       "counter strike                     3.135494\n",
       "counter strike global offensive    6.194405\n",
       "counter strike nexon zombies       0.693147\n",
       "counter strike source              0.693147\n",
       "day of defeat                      0.693147\n",
       "deathmatch classic                 0.693147\n",
       "eldevin                            0.693147\n",
       "half life                          0.693147\n",
       "half life blue shift               0.693147\n",
       "half life opposing force           0.693147\n",
       "planetside 2                       0.693147\n",
       "raceroom racing experience         0.336472\n",
       "realm of the mad god               0.693147\n",
       "ricochet                           0.693147\n",
       "team fortress classic              0.693147\n",
       "unturned                           0.693147\n",
       "warface                            0.693147\n",
       "Name: 547685, dtype: float64"
      ]
     },
     "execution_count": 10,
     "metadata": {},
     "output_type": "execute_result"
    }
   ],
   "source": [
    "user_ratings"
   ]
  },
  {
   "cell_type": "code",
   "execution_count": 11,
   "metadata": {},
   "outputs": [
    {
     "ename": "TypeError",
     "evalue": "recommend_similar_games() got an unexpected keyword argument 'ratings'",
     "output_type": "error",
     "traceback": [
      "\u001b[0;31m---------------------------------------------------------------------------\u001b[0m",
      "\u001b[0;31mTypeError\u001b[0m                                 Traceback (most recent call last)",
      "\u001b[0;32m<ipython-input-11-1b76cb769807>\u001b[0m in \u001b[0;36m<module>\u001b[0;34m\u001b[0m\n\u001b[1;32m      3\u001b[0m     \u001b[0mratings\u001b[0m\u001b[0;34m=\u001b[0m\u001b[0muser_ratings\u001b[0m\u001b[0;34m.\u001b[0m\u001b[0mvalues\u001b[0m\u001b[0;34m,\u001b[0m\u001b[0;34m\u001b[0m\u001b[0;34m\u001b[0m\u001b[0m\n\u001b[1;32m      4\u001b[0m     \u001b[0mn_recommended\u001b[0m\u001b[0;34m=\u001b[0m\u001b[0;36m50\u001b[0m\u001b[0;34m,\u001b[0m\u001b[0;34m\u001b[0m\u001b[0;34m\u001b[0m\u001b[0m\n\u001b[0;32m----> 5\u001b[0;31m     \u001b[0mn_similar\u001b[0m\u001b[0;34m=\u001b[0m\u001b[0;36m10\u001b[0m\u001b[0;34m\u001b[0m\u001b[0;34m\u001b[0m\u001b[0m\n\u001b[0m\u001b[1;32m      6\u001b[0m )\n",
      "\u001b[0;31mTypeError\u001b[0m: recommend_similar_games() got an unexpected keyword argument 'ratings'"
     ]
    }
   ],
   "source": [
    "content_based_recommender.recommend_similar_games(\n",
    "    user_ratings.index,\n",
    "    ratings=user_ratings.values,\n",
    "    n_recommended=50,\n",
    "    n_similar=10\n",
    ")"
   ]
  },
  {
   "cell_type": "code",
   "execution_count": null,
   "metadata": {},
   "outputs": [],
   "source": [
    "user_based_recommender.recommend_games_from_similar_users(user_ratings=user_ratings, n_recommended=50, n_similar=10)"
   ]
  },
  {
   "cell_type": "code",
   "execution_count": null,
   "metadata": {},
   "outputs": [],
   "source": []
  }
 ],
 "metadata": {
  "kernelspec": {
   "display_name": "ml",
   "language": "python",
   "name": "ml"
  },
  "language_info": {
   "codemirror_mode": {
    "name": "ipython",
    "version": 3
   },
   "file_extension": ".py",
   "mimetype": "text/x-python",
   "name": "python",
   "nbconvert_exporter": "python",
   "pygments_lexer": "ipython3",
   "version": "3.7.7"
  }
 },
 "nbformat": 4,
 "nbformat_minor": 4
}
