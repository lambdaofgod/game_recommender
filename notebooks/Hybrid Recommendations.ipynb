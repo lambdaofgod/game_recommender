{
 "cells": [
  {
   "cell_type": "code",
   "execution_count": null,
   "metadata": {},
   "outputs": [],
   "source": [
    "#default_exp hybrid"
   ]
  },
  {
   "cell_type": "code",
   "execution_count": 2,
   "metadata": {},
   "outputs": [],
   "source": [
    "#export\n",
    "\n",
    "import os\n",
    "import pickle\n",
    "import attr\n",
    "\n",
    "import pandas as pd\n",
    "import scipy\n",
    "import numpy as np\n",
    "\n",
    "from game_recommender import steam_data, content_based, user_based"
   ]
  },
  {
   "cell_type": "code",
   "execution_count": 3,
   "metadata": {},
   "outputs": [
    {
     "name": "stdout",
     "output_type": "stream",
     "text": [
      "/home/kuba/Projects/game_recommender\n"
     ]
    }
   ],
   "source": [
    "%cd .."
   ]
  },
  {
   "cell_type": "code",
   "execution_count": 4,
   "metadata": {},
   "outputs": [],
   "source": [
    "game_dataset = steam_data.get_steam_ratings_dataset()"
   ]
  },
  {
   "cell_type": "code",
   "execution_count": 5,
   "metadata": {},
   "outputs": [],
   "source": [
    "user_based_recommender = user_based.UserBasedRecommender.make_from_steam_ratings('log_hours')"
   ]
  },
  {
   "cell_type": "code",
   "execution_count": 6,
   "metadata": {},
   "outputs": [],
   "source": [
    "content_based_recommender = content_based.ContentBasedRecommender.make_from_steam_metadata()"
   ]
  },
  {
   "cell_type": "code",
   "execution_count": 7,
   "metadata": {},
   "outputs": [],
   "source": [
    "steam_df = steam_data.load_steam_df() "
   ]
  },
  {
   "cell_type": "code",
   "execution_count": 8,
   "metadata": {},
   "outputs": [],
   "source": [
    "chosen_games_substring = 'counter strike'\n",
    "chosen_games_df = steam_data.get_games_by_name(steam_df, chosen_games_substring) "
   ]
  },
  {
   "cell_type": "code",
   "execution_count": 9,
   "metadata": {},
   "outputs": [],
   "source": [
    "ratings_df = pd.concat([game_dataset.data, game_dataset.target], axis=1)\n",
    "item_user_pivoted_df = ratings_df.pivot_table(index='name', columns='user_id', values='log_hours')\n",
    "\n",
    "\n",
    "i = 10\n",
    "user_id = user_based_recommender.user_similarity_searcher.df.iloc[10,0]\n",
    "user_ratings_raw = item_user_pivoted_df.iloc[:,10]\n",
    "user_ratings = user_ratings_raw[~user_ratings_raw.isna()]"
   ]
  },
  {
   "cell_type": "code",
   "execution_count": 10,
   "metadata": {},
   "outputs": [
    {
     "data": {
      "text/plain": [
       "name\n",
       "counter strike                     3.135494\n",
       "counter strike global offensive    6.194405\n",
       "counter strike nexon zombies       0.693147\n",
       "counter strike source              0.693147\n",
       "day of defeat                      0.693147\n",
       "deathmatch classic                 0.693147\n",
       "eldevin                            0.693147\n",
       "half life                          0.693147\n",
       "half life blue shift               0.693147\n",
       "half life opposing force           0.693147\n",
       "planetside 2                       0.693147\n",
       "raceroom racing experience         0.336472\n",
       "realm of the mad god               0.693147\n",
       "ricochet                           0.693147\n",
       "team fortress classic              0.693147\n",
       "unturned                           0.693147\n",
       "warface                            0.693147\n",
       "Name: 547685, dtype: float64"
      ]
     },
     "execution_count": 10,
     "metadata": {},
     "output_type": "execute_result"
    }
   ],
   "source": [
    "user_ratings"
   ]
  },
  {
   "cell_type": "code",
   "execution_count": 11,
   "metadata": {},
   "outputs": [
    {
     "data": {
      "text/plain": [
       "planetside 2                       2.177436\n",
       "world of tanks blitz mmo           2.022441\n",
       "black squad                        1.820021\n",
       "tanki online                       1.772372\n",
       "blockade classic                   1.738157\n",
       "heliborne                          1.709596\n",
       "counter strike global offensive    1.639987\n",
       "post scriptum                      0.996020\n",
       "argo                               0.959608\n",
       "squad                              0.955189\n",
       "insurgency                         0.846770\n",
       "supreme commander 2                0.795574\n",
       "rise of liberty                    0.723758\n",
       "ravenfield                         0.713363\n",
       "day of defeat source               0.693147\n",
       "fortress forever                   0.693147\n",
       "starbreak                          0.693147\n",
       "infestation the new z              0.693147\n",
       "deathmatch classic                 0.693147\n",
       "iracing                            0.693147\n",
       "tom clancys rainbow six 3 gold     0.693147\n",
       "allods online                      0.693147\n",
       "arma 2 operation arrowhead         0.505133\n",
       "half life opposing force           0.468300\n",
       "left 4 dead                        0.466305\n",
       "romeros aftermath                  0.444969\n",
       "counter strike source              0.429304\n",
       "quake                              0.386342\n",
       "splitgate arena warfare            0.351103\n",
       "call of duty 4 modern warfare      0.346084\n",
       "half life 2                        0.337460\n",
       "call of duty modern warfare 2      0.291637\n",
       "half life blue shift               0.270582\n",
       "nomad                              0.259911\n",
       "copa petrobras de marcas           0.256884\n",
       "hero plus                          0.252189\n",
       "assetto corsa competizione         0.246046\n",
       "everquest 2                        0.245500\n",
       "the fifth day                      0.243805\n",
       "high octane drift                  0.243719\n",
       "florensia                          0.240168\n",
       "f1 2017                            0.238188\n",
       "wasteland survival                 0.230969\n",
       "dark war                           0.226969\n",
       "grid autosport                     0.226609\n",
       "heroes and generals                0.226309\n",
       "locus solus                        0.224587\n",
       "revelation online                  0.223798\n",
       "need for speed shift               0.223239\n",
       "stein.world                        0.222607\n",
       "dtype: float64"
      ]
     },
     "execution_count": 11,
     "metadata": {},
     "output_type": "execute_result"
    }
   ],
   "source": [
    "content_based_recommender.recommend_similar_games(\n",
    "    user_ratings,\n",
    "    n_recommended=50,\n",
    "    n_similar=10\n",
    ")"
   ]
  },
  {
   "cell_type": "code",
   "execution_count": 12,
   "metadata": {},
   "outputs": [
    {
     "data": {
      "text/plain": [
       "name\n",
       "counter strike global offensive              5.144231\n",
       "counter strike                               3.207789\n",
       "call of duty 4 modern warfare                2.571812\n",
       "counter strike nexon zombies                 1.436040\n",
       "counter strike source                        1.070542\n",
       "team fortress 2                              0.995118\n",
       "call of duty black ops 2                     0.964861\n",
       "tera                                         0.821691\n",
       "dota 2                                       0.704395\n",
       "team fortress classic                        0.657487\n",
       "half life                                    0.657487\n",
       "half life opposing force                     0.657487\n",
       "half life blue shift                         0.657487\n",
       "deathmatch classic                           0.641388\n",
       "day of defeat                                0.641388\n",
       "ricochet                                     0.641388\n",
       "half life 2 deathmatch                       0.637845\n",
       "just cause 2                                 0.633761\n",
       "warface                                      0.622983\n",
       "crysis                                       0.621585\n",
       "half life source                             0.621585\n",
       "half life deathmatch source                  0.621585\n",
       "half life 2 episode two                      0.621585\n",
       "half life 2 episode one                      0.621585\n",
       "crysis warhead                               0.621585\n",
       "half life 2                                  0.621585\n",
       "portal                                       0.621585\n",
       "left 4 dead                                  0.621585\n",
       "rage                                         0.602848\n",
       "day of defeat source                         0.394143\n",
       "portal 2                                     0.370726\n",
       "hatred                                       0.352746\n",
       "unturned                                     0.342541\n",
       "magicka                                      0.307645\n",
       "freedom planet                               0.000000\n",
       "from the depths                              0.000000\n",
       "game tycoon 1.5                              0.000000\n",
       "freedom force                                0.000000\n",
       "gameguru                                     0.000000\n",
       "from dust                                    0.000000\n",
       "gang beasts                                  0.000000\n",
       "full spectrum warrior                        0.000000\n",
       "front mission evolved                        0.000000\n",
       "game of thrones                              0.000000\n",
       "full mojo rampage                            0.000000\n",
       "frontlines fuel of war                       0.000000\n",
       "galaxy on fire 2 full hd                     0.000000\n",
       "galactic civilizations i ultimate edition    0.000000\n",
       "galactic civilizations 3                     0.000000\n",
       "future wars                                  0.000000\n",
       "dtype: float64"
      ]
     },
     "execution_count": 12,
     "metadata": {},
     "output_type": "execute_result"
    }
   ],
   "source": [
    "user_based_recommender.recommend_games_from_similar_users(user_ratings=user_ratings, n_recommended=50, n_similar=10)"
   ]
  },
  {
   "cell_type": "code",
   "execution_count": 21,
   "metadata": {},
   "outputs": [],
   "source": [
    "#export\n",
    "\n",
    "\n",
    "@attr.s\n",
    "class HybridRecommender:\n",
    "    \n",
    "    content_based_recommender: content_based.ContentBasedRecommender = attr.ib()\n",
    "    user_based_recommender: user_based.UserBasedRecommender = attr.ib()\n",
    "\n",
    "    def get_weighted_recommendations(\n",
    "            self,\n",
    "            user_ratings,\n",
    "            n_recommended,\n",
    "            user_recommendation_weight,\n",
    "            content_recommendation_weight,\n",
    "            mean_content_recommendation_weight,\n",
    "            n_similar_users=10,\n",
    "            n_similar_items=10):\n",
    "        user_based_recommendations = user_recommendation_weight * self.user_based_recommender.recommend_games_from_similar_users(\n",
    "            user_ratings=user_ratings,\n",
    "            n_recommended=n_recommended,\n",
    "            n_similar=n_similar_users\n",
    "        )\n",
    "        content_based_recommendations = content_recommendation_weight * self.content_based_recommender.recommend_similar_games(\n",
    "            user_ratings=user_ratings,\n",
    "            n_similar=n_similar_items,\n",
    "            n_recommended=n_recommended\n",
    "        )\n",
    "        mean_content_based_recommendations = mean_content_recommendation_weight * self.content_based_recommender.recommend_mean_similar_games(\n",
    "            user_ratings=user_ratings,\n",
    "            n_similar=n_similar_items,\n",
    "            n_recommended=n_recommended\n",
    "        )\n",
    "        all_recommendations = pd.concat([\n",
    "            user_based_recommendations,\n",
    "            content_based_recommendations,\n",
    "            mean_content_based_recommendations\n",
    "        ])\n",
    "        deduplicated_recommendations = all_recommendations.groupby(all_recommendations.index).agg('mean')\n",
    "        best_recommendations_indices = deduplicated_recommendations.argsort()[::-1]\n",
    "        return deduplicated_recommendations[best_recommendations_indices[:n_recommended]]"
   ]
  },
  {
   "cell_type": "code",
   "execution_count": 22,
   "metadata": {},
   "outputs": [
    {
     "data": {
      "text/plain": [
       "call of duty 4 modern warfare      2.571812\n",
       "counter strike global offensive    2.442003\n",
       "world of tanks blitz mmo           2.022441\n",
       "counter strike                     1.857210\n",
       "tanki online                       1.772372\n",
       "blockade classic                   1.738157\n",
       "heliborne                          1.709596\n",
       "planetside 2                       1.367108\n",
       "black squad                        1.161432\n",
       "post scriptum                      0.996020\n",
       "dtype: float64"
      ]
     },
     "execution_count": 22,
     "metadata": {},
     "output_type": "execute_result"
    }
   ],
   "source": [
    "recommender = HybridRecommender(content_based_recommender, user_based_recommender)\n",
    "\n",
    "recommender.get_weighted_recommendations(user_ratings, 10, 1, 1, 1)"
   ]
  }
 ],
 "metadata": {
  "kernelspec": {
   "display_name": "ml",
   "language": "python",
   "name": "ml"
  },
  "language_info": {
   "codemirror_mode": {
    "name": "ipython",
    "version": 3
   },
   "file_extension": ".py",
   "mimetype": "text/x-python",
   "name": "python",
   "nbconvert_exporter": "python",
   "pygments_lexer": "ipython3",
   "version": "3.7.7"
  }
 },
 "nbformat": 4,
 "nbformat_minor": 4
}
