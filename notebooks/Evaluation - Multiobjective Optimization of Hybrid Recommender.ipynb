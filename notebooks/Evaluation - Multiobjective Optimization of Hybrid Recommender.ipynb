{
 "cells": [
  {
   "cell_type": "code",
   "execution_count": 1,
   "metadata": {},
   "outputs": [],
   "source": [
    "#default_exp evaluation"
   ]
  },
  {
   "cell_type": "code",
   "execution_count": 2,
   "metadata": {},
   "outputs": [
    {
     "name": "stderr",
     "output_type": "stream",
     "text": [
      "WARNING:root:tensorflow or tensorflow-hub not found, loading tfhub models won't work\n"
     ]
    }
   ],
   "source": [
    "#export\n",
    "\n",
    "import os\n",
    "import pickle\n",
    "import attr\n",
    "from typing import List\n",
    "\n",
    "import pandas as pd\n",
    "import scipy\n",
    "import numpy as np\n",
    "from functools import partial\n",
    "import matplotlib.pyplot as plt\n",
    "import seaborn as sns\n",
    "\n",
    "import warnings\n",
    "warnings.simplefilter('ignore')\n",
    "\n",
    "from game_recommender import steam_data, content_based, user_based, hybrid\n",
    "from mlutil.evolutionary_algorithms import multiobjective\n",
    "\n",
    "np.random.seed(0)"
   ]
  },
  {
   "cell_type": "code",
   "execution_count": 3,
   "metadata": {},
   "outputs": [
    {
     "name": "stdout",
     "output_type": "stream",
     "text": [
      "/home/kuba/Projects/game_recommender\n"
     ]
    }
   ],
   "source": [
    "%cd .."
   ]
  },
  {
   "cell_type": "code",
   "execution_count": 4,
   "metadata": {},
   "outputs": [],
   "source": [
    "game_dataset = steam_data.get_steam_ratings_dataset()"
   ]
  },
  {
   "cell_type": "code",
   "execution_count": 5,
   "metadata": {},
   "outputs": [],
   "source": [
    "user_based_recommender = user_based.UserBasedRecommender.make_from_steam_data('log_hours')\n",
    "content_based_recommender = content_based.ContentBasedRecommender.make_from_steam_metadata()"
   ]
  },
  {
   "cell_type": "code",
   "execution_count": 6,
   "metadata": {},
   "outputs": [],
   "source": [
    "def display_2d_jointplot(arr, labels=[0, 1]):\n",
    "    df = pd.DataFrame(arr, columns=labels)\n",
    "    sns.jointplot(*labels, df)"
   ]
  },
  {
   "cell_type": "markdown",
   "metadata": {},
   "source": [
    "# Recommendation evaluation metrics\n",
    "\n",
    "We will use two ranking metrics to evaluate the recommender.\n",
    "\n",
    "\n",
    "## recall@k\n",
    "It is  essentially false negative rate for top $k$ items. For a sequence $I$ of ratings and $\\hat{I}$ of predicted items \n",
    "\n",
    "$recall@k(I, \\hat{I}) = \\frac{1}{min(k, |I|)}|I \\cap \\hat{I}| $\n",
    "\n",
    "## Kendall's $\\tau$\n",
    "The second metric is used to measure how similar are orderings of $I$ and $\\hat{I}$.\n",
    "\n",
    "For a pair of zipped of items from $I, I'$\n",
    "\n",
    "$((i_k, i'_k)$ $(i_j, i'_j))$ is said to be *concordant* if their signs are not zero and coincide: $sign(i_k -  i_j) = sign(i'_k - i'_j)$. It is said to be *disconcordant* if the signs are not equal.\n",
    "\n",
    "Kendall rank correlation coefficient for two rankings with $n_c$ concordant pairs and $n_d$ disconcordant pairs is defined as\n",
    "\n",
    "$\\tau = \\frac{n_c - n_d}{n \\choose k}$\n",
    "\n",
    "\n",
    "## Tradeoffs\n",
    "\n",
    "Since recall measures false negative rate, increasing number of recommended items will never decrease it. On the other hand adding recommendations changes ranking, so by adding noisy entries it might decrease $\\tau$\n",
    "\n"
   ]
  },
  {
   "cell_type": "code",
   "execution_count": 7,
   "metadata": {},
   "outputs": [],
   "source": [
    "#export\n",
    "\n",
    "\n",
    "class metrics:\n",
    "        \n",
    "    @staticmethod\n",
    "    def get_correlation(user_ratings, recommendations, method=scipy.stats.kendalltau):\n",
    "        user_ratings_with_zeros, recommendations_with_zeros, n_compared = metrics._make_data_for_correlation_comparison(user_ratings, recommendations) \n",
    "        return method(user_ratings_with_zeros[:n_compared], recommendations_with_zeros[:n_compared])[0]\n",
    "\n",
    "    @staticmethod\n",
    "    def get_recall_at(user_ratings, recommendations, k=10):\n",
    "        user_games = user_ratings.sort_values(ascending=False)[:k]\n",
    "        recommended_games = recommendations.sort_values(ascending=False)[:k]\n",
    "        return recommended_games.index.isin(user_games.index).sum() / len(user_games)\n",
    "\n",
    "    @staticmethod\n",
    "    def _fill_nonexistent_with_zeros(source, target):\n",
    "        not_in_source = target[~target.index.isin(source.index)].index\n",
    "        zeroed_not_in_source = pd.Series(index=not_in_source, data=np.zeros_like(not_in_source))\n",
    "        return pd.concat([source, zeroed_not_in_source])\n",
    "\n",
    "    @staticmethod\n",
    "    def _make_data_for_correlation_comparison(user_ratings, recommendations):\n",
    "        user_ratings_with_zeros = metrics._fill_nonexistent_with_zeros(recommendations, user_ratings)\n",
    "        recommendations_with_zeros = metrics._fill_nonexistent_with_zeros(user_ratings, recommendations)[user_ratings_with_zeros.index]\n",
    "        n_compared = min([len(user_ratings), len(recommendations)])\n",
    "        return user_ratings_with_zeros, recommendations_with_zeros, n_compared\n"
   ]
  },
  {
   "cell_type": "code",
   "execution_count": 8,
   "metadata": {},
   "outputs": [],
   "source": [
    "user_item_df = game_dataset.get_user_item_df()"
   ]
  },
  {
   "cell_type": "markdown",
   "metadata": {},
   "source": [
    "# Evaluating recommendations for an example user"
   ]
  },
  {
   "cell_type": "code",
   "execution_count": 9,
   "metadata": {},
   "outputs": [],
   "source": [
    "i = 10\n",
    "user_id = user_based_recommender.user_similarity_searcher.df.iloc[i,0]\n",
    "user_ratings_raw = user_item_df.iloc[i]\n",
    "user_ratings = user_ratings_raw[~user_ratings_raw.isna()]"
   ]
  },
  {
   "cell_type": "code",
   "execution_count": 10,
   "metadata": {},
   "outputs": [
    {
     "data": {
      "text/plain": [
       "name\n",
       "counter strike                     3.135494\n",
       "counter strike global offensive    6.194405\n",
       "counter strike nexon zombies       0.693147\n",
       "counter strike source              0.693147\n",
       "day of defeat                      0.693147\n",
       "deathmatch classic                 0.693147\n",
       "eldevin                            0.693147\n",
       "half life                          0.693147\n",
       "half life blue shift               0.693147\n",
       "half life opposing force           0.693147\n",
       "planetside 2                       0.693147\n",
       "raceroom racing experience         0.336472\n",
       "realm of the mad god               0.693147\n",
       "ricochet                           0.693147\n",
       "team fortress classic              0.693147\n",
       "unturned                           0.693147\n",
       "warface                            0.693147\n",
       "Name: 547685, dtype: float64"
      ]
     },
     "execution_count": 10,
     "metadata": {},
     "output_type": "execute_result"
    }
   ],
   "source": [
    "user_ratings"
   ]
  },
  {
   "cell_type": "markdown",
   "metadata": {},
   "source": [
    "### Example recommendations"
   ]
  },
  {
   "cell_type": "code",
   "execution_count": 11,
   "metadata": {},
   "outputs": [
    {
     "data": {
      "text/plain": [
       "counter strike global offensive    2.800790\n",
       "call of duty 4 modern warfare      2.518721\n",
       "world of tanks blitz mmo           1.916409\n",
       "counter strike                     1.832181\n",
       "tanki online                       1.738157\n",
       "blockade classic                   1.729970\n",
       "team fortress 2                    0.986183\n",
       "warface                            0.967958\n",
       "post scriptum                      0.961721\n",
       "planetside 2                       0.957287\n",
       "call of duty black ops 2           0.956847\n",
       "argo                               0.954355\n",
       "squad                              0.952416\n",
       "counter strike source              0.913655\n",
       "counter strike nexon zombies       0.883508\n",
       "tera                               0.804729\n",
       "arma 2 operation arrowhead         0.795574\n",
       "supreme commander 2                0.760804\n",
       "insurgency                         0.746282\n",
       "rise of liberty                    0.713363\n",
       "dtype: float64"
      ]
     },
     "execution_count": 11,
     "metadata": {},
     "output_type": "execute_result"
    }
   ],
   "source": [
    "recommender = hybrid.HybridRecommender(content_based_recommender, user_based_recommender)\n",
    "recommendations = recommender.get_weighted_recommendations(user_ratings, 20, user_recommendation_weight=1, content_recommendation_weight=1, mean_content_recommendation_weight=1)\n",
    "recommendations"
   ]
  },
  {
   "cell_type": "markdown",
   "metadata": {},
   "source": [
    "Recall"
   ]
  },
  {
   "cell_type": "code",
   "execution_count": 12,
   "metadata": {},
   "outputs": [
    {
     "data": {
      "text/plain": [
       "0.3"
      ]
     },
     "execution_count": 12,
     "metadata": {},
     "output_type": "execute_result"
    }
   ],
   "source": [
    "metrics.get_recall_at(user_ratings, recommendations)"
   ]
  },
  {
   "cell_type": "markdown",
   "metadata": {},
   "source": [
    "Kendall $\\tau$"
   ]
  },
  {
   "cell_type": "code",
   "execution_count": 13,
   "metadata": {},
   "outputs": [
    {
     "data": {
      "text/plain": [
       "0.12871918058696763"
      ]
     },
     "execution_count": 13,
     "metadata": {},
     "output_type": "execute_result"
    }
   ],
   "source": [
    "metrics.get_correlation(user_ratings, recommendations, method=scipy.stats.kendalltau)"
   ]
  },
  {
   "cell_type": "markdown",
   "metadata": {},
   "source": [
    "# Hybrid recommender\n",
    "\n",
    "Hybrid recommender combines three recommendation methods:\n",
    "\n",
    "1. user-based similarity\n",
    "\n",
    "2. content-based similarity\n",
    "\n",
    "3. mean content based similarity\n",
    "\n",
    "\n",
    "Using recommendations from different sources gives is beneficial because different methods may suffer from different problems.\n",
    "\n",
    "\n",
    "### 1. User-based similarity\n",
    "\n",
    "This method for given ratings calculates users that have similar taste: it compares users using cosine similarity of their ratings.\n",
    "\n",
    "User-based collaborative filtering is \n",
    "\n",
    "Drawbacks:\n",
    "\n",
    "- cold start problem - we do not know what to recommend to users that have very few ratings.\n",
    "- the method will have very different quality depending on number of rated items. In our dataset we have less than 20 ratings for most of users, but some of them rated more than 100 games.\n",
    "\n",
    "\n",
    "### 2. Content-based similarity\n",
    "\n",
    "Calculates similarity, but for items instead of users. Then returns games that were similar to rated games - their ratings are interpolated from rated games weighted by cosine similarity.\n",
    "\n",
    "For content features [steam metadata](https://www.kaggle.com/trolukovich/steam-games-complete-dataset) was used: for each game columns with tags and descriptions were vectorized using TF-IDF.\n",
    "\n",
    "By definition will recommend items similar to the ones that were rated. This may result in too conservative recommendations - there is no serendipity.\n",
    "\n",
    "### 3. Mean content-based similarity\n",
    "\n",
    "This method computes mean of item feature vectors and then "
   ]
  },
  {
   "cell_type": "code",
   "execution_count": 14,
   "metadata": {},
   "outputs": [],
   "source": [
    "@attr.s\n",
    "class HybridRecommenderEvaluator:\n",
    "    \n",
    "    recommender: hybrid.HybridRecommender = attr.ib()\n",
    "        \n",
    "    def get_per_user_recommendation_groups(self, users_ratings, n_recommended=20, n_similar_users=10, n_similar_items=10):\n",
    "        return [recommender.get_recommendation_groups(user_ratings, n_similar_users, n_similar_items) for user_ratings in users_ratings]\n",
    "    \n",
    "    def get_metric_values(\n",
    "            self,\n",
    "            users_ratings,\n",
    "            user_recommendations_groups,\n",
    "            n_recommended,\n",
    "            metric,\n",
    "            user_recommendation_weight=1,\n",
    "            content_recommendation_weight=1,\n",
    "            mean_content_recommendation_weight=1\n",
    "            ):\n",
    "        \n",
    "        weights = [user_recommendation_weight, content_recommendation_weight, mean_content_recommendation_weight]\n",
    "        metric_values = [\n",
    "            metric(users_ratings, recommender.weigh_recommendations(user_recommendation_group, weights, n_recommended))\n",
    "            for users_ratings, user_recommendation_group in zip(user_ratings, user_recommendations_groups)\n",
    "        ]\n",
    "        return pd.Series(metric_values)"
   ]
  },
  {
   "cell_type": "code",
   "execution_count": 15,
   "metadata": {},
   "outputs": [],
   "source": [
    "class HybridRecommenderOptimizer:\n",
    "    \n",
    "    def __init__(\n",
    "            self,\n",
    "            evaluator: HybridRecommenderEvaluator,\n",
    "            users_ratings: List[pd.Series],\n",
    "            n_recommended=10,\n",
    "            n_similar_users=5,\n",
    "            n_similar_items=5,\n",
    "            k_recall=10):\n",
    "        self.evaluator = evaluator\n",
    "        self.users_ratings = users_ratings\n",
    "        self.n_recommended = n_recommended\n",
    "        self.recommendation_groups = evaluator.get_per_user_recommendation_groups(user_ratings, n_recommended, n_similar_users, n_similar_items)\n",
    "        self.k_recall = k_recall\n",
    "    \n",
    "    def problem_function(self, weights):\n",
    "        if len(weights) == 2:\n",
    "            [user_recommendation_weight, content_recommendation_weight] = weights\n",
    "            mean_content_recommendation_weight = max(0, 1 - user_recommendation_weight - content_recommendation_weight)\n",
    "        else:\n",
    "            [user_recommendation_weight, content_recommendation_weight, mean_content_recommendation_weight] = weights / weights.sum() \n",
    "        recall = self.evaluator.get_metric_values(\n",
    "            self.users_ratings,\n",
    "            self.recommendation_groups,\n",
    "            self.n_recommended,\n",
    "            partial(metrics.get_recall_at, k=self.k_recall),\n",
    "            user_recommendation_weight,\n",
    "            content_recommendation_weight,\n",
    "            mean_content_recommendation_weight\n",
    "        )\n",
    "\n",
    "        rank_correlation = self.evaluator.get_metric_values(\n",
    "            self.users_ratings,\n",
    "            self.recommendation_groups,\n",
    "            self.n_recommended,\n",
    "            metrics.get_correlation,\n",
    "            user_recommendation_weight,\n",
    "            content_recommendation_weight,\n",
    "            mean_content_recommendation_weight\n",
    "        )\n",
    "        return np.array([recall.mean(), rank_correlation.mean()])\n",
    "    \n",
    "    def problem_function_vectorized(self, weights):\n",
    "        recalls = []\n",
    "        rank_correlations = []\n",
    "        for i in range(len(weights)):\n",
    "            recall, rank_correlation = self.problem_function(weights[i])\n",
    "            recalls.append(recall.mean())\n",
    "            rank_correlations.append(rank_correlation.mean())\n",
    "        return np.column_stack([recalls, rank_correlations])\n"
   ]
  },
  {
   "cell_type": "markdown",
   "metadata": {},
   "source": [
    "# Evaluating Hybrid Recommender\n",
    "\n",
    "Since our recommenders use kNN models, it makes sense to evaluate recommendations for separate users separately: this is basically Leave One Out scheme for crossvalidation."
   ]
  },
  {
   "cell_type": "code",
   "execution_count": 16,
   "metadata": {},
   "outputs": [],
   "source": [
    "user_item_df_with_rankings = user_item_df[user_item_df.var(axis=1) > 1e-4]"
   ]
  },
  {
   "cell_type": "code",
   "execution_count": 17,
   "metadata": {},
   "outputs": [],
   "source": [
    "n_test = 100 \n",
    "users_ratings_raw = user_item_df_with_rankings.iloc[:n_test]\n",
    "user_ratings = [ratings.dropna() for (__, ratings) in users_ratings_raw.iterrows()]\n",
    "rating_counts = [len(ratings) for ratings in user_ratings]"
   ]
  },
  {
   "cell_type": "code",
   "execution_count": 18,
   "metadata": {},
   "outputs": [],
   "source": [
    "evaluator = HybridRecommenderEvaluator(recommender)"
   ]
  },
  {
   "cell_type": "code",
   "execution_count": 19,
   "metadata": {},
   "outputs": [
    {
     "name": "stdout",
     "output_type": "stream",
     "text": [
      "CPU times: user 32 s, sys: 1.26 s, total: 33.3 s\n",
      "Wall time: 33.3 s\n"
     ]
    }
   ],
   "source": [
    "%%time\n",
    "optimizer = HybridRecommenderOptimizer(evaluator, user_ratings)"
   ]
  },
  {
   "cell_type": "code",
   "execution_count": 20,
   "metadata": {},
   "outputs": [],
   "source": [
    "rec_groups = optimizer.recommendation_groups"
   ]
  },
  {
   "cell_type": "markdown",
   "metadata": {},
   "source": [
    "## Baseline results \n",
    "\n",
    "Baseline results are retrieved using equal weights for different recommendation methods."
   ]
  },
  {
   "cell_type": "markdown",
   "metadata": {},
   "source": [
    "## recall@10"
   ]
  },
  {
   "cell_type": "code",
   "execution_count": 21,
   "metadata": {},
   "outputs": [
    {
     "name": "stdout",
     "output_type": "stream",
     "text": [
      "mean recall: 0.674\n"
     ]
    },
    {
     "data": {
      "image/png": "[encoded data removed]",
      "text/plain": [
       "<Figure size 432x288 with 1 Axes>"
      ]
     },
     "metadata": {
      "needs_background": "light"
     },
     "output_type": "display_data"
    }
   ],
   "source": [
    "recall = evaluator.get_metric_values(rec_groups, rec_groups, 10, metrics.get_recall_at, 1, 1, 1)\n",
    "recall.plot.hist()\n",
    "print('mean recall: {:.3f}'.format(recall.mean()))"
   ]
  },
  {
   "cell_type": "code",
   "execution_count": 22,
   "metadata": {},
   "outputs": [
    {
     "data": {
      "image/png": "[encoded data removed]",
      "text/plain": [
       "<Figure size 432x432 with 3 Axes>"
      ]
     },
     "metadata": {
      "needs_background": "light"
     },
     "output_type": "display_data"
    }
   ],
   "source": [
    "display_2d_jointplot(np.column_stack([rating_counts, recall]), ('Number of ratings', 'recall@10'))"
   ]
  },
  {
   "cell_type": "markdown",
   "metadata": {},
   "source": [
    "## Kendall $\\tau$"
   ]
  },
  {
   "cell_type": "code",
   "execution_count": 23,
   "metadata": {},
   "outputs": [
    {
     "name": "stdout",
     "output_type": "stream",
     "text": [
      "mean tau: 0.147\n"
     ]
    },
    {
     "data": {
      "image/png": "[encoded data removed]",
      "text/plain": [
       "<Figure size 432x288 with 1 Axes>"
      ]
     },
     "metadata": {
      "needs_background": "light"
     },
     "output_type": "display_data"
    }
   ],
   "source": [
    "tau = evaluator.get_metric_values(rec_groups, rec_groups, 10, partial(metrics.get_correlation, method=scipy.stats.kendalltau), 1, 1, 1)\n",
    "tau.plot.hist()\n",
    "print('mean tau: {:.3f}'.format(tau.mean()))"
   ]
  },
  {
   "cell_type": "code",
   "execution_count": 24,
   "metadata": {},
   "outputs": [
    {
     "data": {
      "image/png": "[encoded data removed]",
      "text/plain": [
       "<Figure size 432x432 with 3 Axes>"
      ]
     },
     "metadata": {
      "needs_background": "light"
     },
     "output_type": "display_data"
    }
   ],
   "source": [
    "display_2d_jointplot(np.column_stack([rating_counts, tau]), ('Number of ratings', 'Kendall tau'))"
   ]
  },
  {
   "cell_type": "markdown",
   "metadata": {},
   "source": [
    "## Multiobjective optimization\n",
    "\n",
    "Since we're interested in optimizing with respect to two metrics, we need to use multiobjective optimization methods.\n",
    "\n",
    "One evolutionary method that can be used with multiple criterions is [NSGA-II algorithm](https://www.iitk.ac.in/kangal/Deb_NSGA-II.pdf).\n",
    "\n",
    "In the following we try to find Pareto frontier for jointly optimizing recall and Kendall $\\tau$."
   ]
  },
  {
   "cell_type": "code",
   "execution_count": 25,
   "metadata": {},
   "outputs": [],
   "source": [
    "\n",
    "nsga_alg = multiobjective.NSGAII(\n",
    "    optimizer.problem_function,\n",
    "    chromosome_size=3,\n",
    "    mutation_function=partial(multiobjective.bounded_gaussian_noise_mutation, sigma=0.05),\n",
    "    objective_names=('recall@10', 'Kendall tau'),\n",
    "    minimize=False\n",
    ")"
   ]
  },
  {
   "cell_type": "code",
   "execution_count": null,
   "metadata": {
    "scrolled": false
   },
   "outputs": [
    {
     "name": "stderr",
     "output_type": "stream",
     "text": [
      "\r",
      "  0%|          | 0/10 [00:00<?, ?it/s]"
     ]
    }
   ],
   "source": [
    "%%time\n",
    "recommender_weights_simple = nsga_alg.optimize(population_size=100, n_selected=10, n_iterations=10, log_period=1)"
   ]
  },
  {
   "cell_type": "markdown",
   "metadata": {},
   "source": [
    "# NSGA with bigger population size"
   ]
  },
  {
   "cell_type": "code",
   "execution_count": null,
   "metadata": {
    "scrolled": false
   },
   "outputs": [],
   "source": [
    "%%time\n",
    "recommender_weights = nsga_alg.optimize(population_size=1000, n_selected=100, n_iterations=10, log_period=1)"
   ]
  },
  {
   "cell_type": "markdown",
   "metadata": {},
   "source": [
    "# Visualizing weights\n",
    "\n",
    "Because the input is 3d vector for which scale is irrelevant (multiplying rating weights doesn't change ordering) the weights can be visualized as points from 2d simplex.\n",
    "\n",
    "The following plot visualizes selected weights as a subset of a triangle. "
   ]
  },
  {
   "cell_type": "code",
   "execution_count": null,
   "metadata": {},
   "outputs": [],
   "source": [
    "def display_2d_jointplot(arr):\n",
    "    df = pd.DataFrame(arr)\n",
    "    sns.jointplot(0, 1, df)\n",
    "\n",
    "    \n",
    "def display_weights_simplex(recommender_weights):\n",
    "    norm_weights = recommender_weights / recommender_weights.sum(axis=1)[:,np.newaxis]\n",
    "    plt.scatter(norm_weights[:,0], norm_weights[:,1], c='black');\n",
    "\n",
    "    plt.plot([0, 1], [1, 0], c='red')\n",
    "    plt.plot([0, 0], [1, 0], c='red')\n",
    "    plt.plot([0, 1], [0, 0], c='red')\n",
    "    plt.show()\n",
    "    display_2d_jointplot(norm_weights)\n",
    "    plt.show()"
   ]
  },
  {
   "cell_type": "markdown",
   "metadata": {},
   "source": [
    "Since weights found by NSGA occupy only a small fraction of all possible weights, let's zoom in.\n",
    "\n",
    "It seems like genetic algorithm indeed found several potential solutions."
   ]
  },
  {
   "cell_type": "code",
   "execution_count": null,
   "metadata": {},
   "outputs": [],
   "source": [
    "display_weights_simplex(recommender_weights)"
   ]
  },
  {
   "cell_type": "markdown",
   "metadata": {},
   "source": [
    "# MOEA/D"
   ]
  },
  {
   "cell_type": "code",
   "execution_count": 26,
   "metadata": {},
   "outputs": [],
   "source": [
    "from pymoo.model.problem import get_problem_from_func"
   ]
  },
  {
   "cell_type": "code",
   "execution_count": 49,
   "metadata": {},
   "outputs": [],
   "source": [
    "def pymoo_optimized_function_wrapper(x, out, *args, **kwargs):\n",
    "    values = [optimizer.problem_function(x[i]) for i in range(len(x))]\n",
    "    out['F'] = -np.array(values)\n",
    "    \n",
    "\n",
    "pymoo_problem = get_problem_from_func(pymoo_optimized_function_wrapper, xl=1e-6, xu=1, n_var=3)"
   ]
  },
  {
   "cell_type": "code",
   "execution_count": 53,
   "metadata": {},
   "outputs": [],
   "source": [
    "from pymoo.algorithms import moead, nsga2\n",
    "from pymoo.factory import get_reference_directions\n",
    "from pymoo import optimize\n",
    "\n",
    "\n",
    "\n",
    "algorithm = moead.MOEAD(\n",
    "    get_reference_directions(\"das-dennis\", 2, n_partitions=25),\n",
    "    n_neighbors=15,\n",
    "    decomposition=\"pbi\",\n",
    "    prob_neighbor_mating=0.7,\n",
    "    seed=1\n",
    ")"
   ]
  },
  {
   "cell_type": "code",
   "execution_count": null,
   "metadata": {},
   "outputs": [],
   "source": []
  },
  {
   "cell_type": "code",
   "execution_count": 54,
   "metadata": {},
   "outputs": [
    {
     "name": "stdout",
     "output_type": "stream",
     "text": [
      "======================================================================\n",
      "n_gen |  n_eval |  n_nds  | delta_ideal  | delta_nadir  |   delta_f   \n",
      "======================================================================\n",
      "    1 |      26 |       1 |            - |            - |            -\n",
      "    2 |      52 |      25 |  1.870492094 |  2.870492094 |  2.300895960\n",
      "    3 |      78 |      20 |  0.578947368 |  0.523593198 |  0.206281977\n",
      "    4 |     104 |      22 |  1.111111111 |  2.349150445 |  0.997587784\n",
      "    5 |     130 |      20 |  0.00000E+00 |  0.00000E+00 |  0.00000E+00\n",
      "    6 |     156 |      17 |  0.00000E+00 |  0.00000E+00 |  0.00000E+00\n",
      "    7 |     182 |      16 |  1.11022E-13 |  0.418564613 |  0.026160288\n",
      "    8 |     208 |       8 |  0.100000000 |  0.333450881 |  0.098238096\n",
      "    9 |     234 |       7 |  0.473684211 |  0.116097389 |  0.224048142\n",
      "   10 |     260 |       7 |  0.00000E+00 |  0.00000E+00 |  0.00000E+00\n",
      "CPU times: user 2min 40s, sys: 52.1 ms, total: 2min 41s\n",
      "Wall time: 2min 40s\n"
     ]
    }
   ],
   "source": [
    "%%time\n",
    "res = optimize.minimize(pymoo_problem, algorithm, termination=('n_gen', 10), verbose=True)"
   ]
  },
  {
   "cell_type": "code",
   "execution_count": 55,
   "metadata": {},
   "outputs": [
    {
     "data": {
      "image/png": "[encoded data removed]",
      "text/plain": [
       "<Figure size 432x432 with 3 Axes>"
      ]
     },
     "metadata": {
      "needs_background": "light"
     },
     "output_type": "display_data"
    }
   ],
   "source": [
    "display_2d_jointplot(-res.F)"
   ]
  }
 ],
 "metadata": {
  "kernelspec": {
   "display_name": "ml",
   "language": "python",
   "name": "ml"
  },
  "language_info": {
   "codemirror_mode": {
    "name": "ipython",
    "version": 3
   },
   "file_extension": ".py",
   "mimetype": "text/x-python",
   "name": "python",
   "nbconvert_exporter": "python",
   "pygments_lexer": "ipython3",
   "version": "3.7.7"
  }
 },
 "nbformat": 4,
 "nbformat_minor": 4
}
