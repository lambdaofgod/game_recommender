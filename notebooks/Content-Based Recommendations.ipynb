{
 "cells": [
  {
   "cell_type": "code",
   "execution_count": 1,
   "metadata": {},
   "outputs": [],
   "source": [
    "#default_exp content_based "
   ]
  },
  {
   "cell_type": "code",
   "execution_count": 35,
   "metadata": {},
   "outputs": [],
   "source": [
    "#export \n",
    "\n",
    "import scipy\n",
    "import pandas as pd\n",
    "import numpy as np\n",
    "\n",
    "\n",
    "from sklearn import compose, feature_extraction, metrics\n",
    "from functools import reduce, partial\n",
    "import attr\n",
    "from typing import Union\n",
    "\n",
    "from game_recommender import steam_data"
   ]
  },
  {
   "cell_type": "code",
   "execution_count": 3,
   "metadata": {},
   "outputs": [
    {
     "name": "stdout",
     "output_type": "stream",
     "text": [
      "/home/kuba/Projects/game_recommender\n"
     ]
    }
   ],
   "source": [
    "%cd .."
   ]
  },
  {
   "cell_type": "code",
   "execution_count": 4,
   "metadata": {},
   "outputs": [],
   "source": [
    "steam_df = steam_data.load_steam_df() "
   ]
  },
  {
   "cell_type": "code",
   "execution_count": 5,
   "metadata": {},
   "outputs": [],
   "source": [
    "chosen_games_substring = 'S.T.A.L.K'"
   ]
  },
  {
   "cell_type": "code",
   "execution_count": 6,
   "metadata": {},
   "outputs": [],
   "source": [
    "chosen_games_df = steam_data.get_games_by_name(steam_df, chosen_games_substring) "
   ]
  },
  {
   "cell_type": "code",
   "execution_count": 7,
   "metadata": {},
   "outputs": [
    {
     "data": {
      "text/plain": [
       "376     S.T.A.L.K.E.R.: Shadow of Chernobyl\n",
       "1276        S.T.A.L.K.E.R.: Call of Pripyat\n",
       "7253              S.T.A.L.K.E.R.: Clear Sky\n",
       "Name: name, dtype: object"
      ]
     },
     "execution_count": 7,
     "metadata": {},
     "output_type": "execute_result"
    }
   ],
   "source": [
    "chosen_games_df['name']"
   ]
  },
  {
   "cell_type": "code",
   "execution_count": 8,
   "metadata": {},
   "outputs": [
    {
     "data": {
      "text/plain": [
       "'atmospheric,post-apocalyptic,open world,fps,survival,masterpiece,action,rpg,survival horror,shooter,horror,first-person,singleplayer,classic,based on a novel,moddable,adventure,sci-fi,inventory management,difficult'"
      ]
     },
     "execution_count": 8,
     "metadata": {},
     "output_type": "execute_result"
    }
   ],
   "source": [
    "chosen_games_df.iloc[0]['popular_tags']"
   ]
  },
  {
   "cell_type": "code",
   "execution_count": 9,
   "metadata": {},
   "outputs": [
    {
     "data": {
      "text/plain": [
       "'single-player,multi-player'"
      ]
     },
     "execution_count": 9,
     "metadata": {},
     "output_type": "execute_result"
    }
   ],
   "source": [
    "chosen_games_df.iloc[0]['game_details']"
   ]
  },
  {
   "cell_type": "code",
   "execution_count": 10,
   "metadata": {},
   "outputs": [
    {
     "data": {
      "text/plain": [
       "'action,rpg'"
      ]
     },
     "execution_count": 10,
     "metadata": {},
     "output_type": "execute_result"
    }
   ],
   "source": [
    "chosen_games_df.iloc[0]['genre']"
   ]
  },
  {
   "cell_type": "code",
   "execution_count": 11,
   "metadata": {},
   "outputs": [
    {
     "data": {
      "text/plain": [
       "\" About This Game In 1986, the world's worst nuclear disaster occurred at the Chernobyl Nuclear Power Plant. Soviet authorities established an 'Exclusion Zone' around, but a second explosion hit the reactor in 2006, creating The Zone as we know it – dangerous place, filled with mutated creatures, deadly radiation, and a strange, anomalous energy. The Zone was cordoned off by the military, who would shoot on sight anyone foolish enough to get inside.  Year 2012. The Zone is still a dangerous place and a threat to all mankind. Mercenaries, bounty hunters and explorers ventured further and further into the heart of the Zone driven by reports of strange 'artifacts' imbued with anomalous energy. To sell them on the black market or trying to find the 'truth' behind the Zone. Whatever their motivation, over time these individuals - Scavengers, Trespassers, Adventurers, Loners, Killers, Explorers and Robbers - have become known as S.T.A.L.K.E.R.s.  You will have to find your own way to survive in the Zone!  An immersive storyline, seamlessly blended with a living, breathing, non-linear open-world environment. An accurately modeled real-world buildings and locations from deep inside of the Chernobyl Exclusion Zone. Unique 'Survival FPS' gameplay, which combines action, stealth, survival and RPG elements - to create an incomparable experience in the Zone. Enemy Threat Evaluation AI system - NPC characters react to changes in environments and situations. Realistic combat mechanics with accurate ballistic properties. Dynamic day-night cycle and weather system, that directly impacts gameplay. Advanced physics and dynamic lighting effects powered by the 'X-Ray Engine'. Intense multiplayer action, supporting up to 32 players. \""
      ]
     },
     "execution_count": 11,
     "metadata": {},
     "output_type": "execute_result"
    }
   ],
   "source": [
    "chosen_games_df['game_description'].iloc[0]"
   ]
  },
  {
   "cell_type": "code",
   "execution_count": 12,
   "metadata": {},
   "outputs": [
    {
     "data": {
      "text/plain": [
       "'atmospheric,post-apocalyptic,open world,fps,survival,masterpiece,action,rpg,survival horror,shooter,horror,first-person,singleplayer,classic,based on a novel,moddable,adventure,sci-fi,inventory management,difficult'"
      ]
     },
     "execution_count": 12,
     "metadata": {},
     "output_type": "execute_result"
    }
   ],
   "source": [
    "chosen_games_df['popular_tags'].iloc[0]"
   ]
  },
  {
   "cell_type": "code",
   "execution_count": 13,
   "metadata": {},
   "outputs": [],
   "source": [
    "game_descriptions = steam_df['game_description']"
   ]
  },
  {
   "cell_type": "markdown",
   "metadata": {},
   "source": [
    "# Finding games with similar descriptions"
   ]
  },
  {
   "cell_type": "code",
   "execution_count": 14,
   "metadata": {},
   "outputs": [],
   "source": [
    "from collections import defaultdict"
   ]
  },
  {
   "cell_type": "code",
   "execution_count": 15,
   "metadata": {},
   "outputs": [],
   "source": [
    "#export\n",
    "\n",
    "def split_by_comma_tokenizer(text):\n",
    "    return text.split(',') \n",
    "\n",
    "\n",
    "def _regroup_weights(weights, column_groups):\n",
    "    assert len(weights) == len(column_groups), 'specify weight for each column group'\n",
    "    return {\n",
    "        col: weight / len(col_group)\n",
    "        for (weight, col_group) in zip(weights, column_groups)\n",
    "        for col in col_group\n",
    "    }\n",
    "\n",
    "\n",
    "def make_df_column_vectorizer(\n",
    "        column_groups,\n",
    "        vectorizer_classes=feature_extraction.text.TfidfVectorizer,\n",
    "        weights=None,\n",
    "        tokenizers=None\n",
    "    ):\n",
    "    if type(vectorizer_classes) is not list:\n",
    "        vectorizer_classes = [vectorizer_classes for __ in range(len(column_groups))]\n",
    "    if tokenizers is None:\n",
    "        tokenizers = [None for __ in range(len(column_groups))]\n",
    "    vectorizers = [vectorizer_class(tokenizer=tokenizer) for (vectorizer_class, grp, tokenizer) in zip(vectorizer_classes, column_groups, tokenizers)] \n",
    "    if type(weights) is list:\n",
    "        weights = _regroup_weights(weights, column_groups)\n",
    "    \n",
    "    return compose.ColumnTransformer(\n",
    "        [\n",
    "            (col + '_tfidf', vectorizer, col)\n",
    "            for columns, vectorizer in zip(column_groups, vectorizers)\n",
    "            for col in columns\n",
    "        ],\n",
    "        transformer_weights=weights\n",
    "    )"
   ]
  },
  {
   "cell_type": "code",
   "execution_count": 16,
   "metadata": {},
   "outputs": [],
   "source": [
    "vectorizer = make_df_column_vectorizer([\n",
    "        ['popular_tags'],\n",
    "        ['game_description', 'desc_snippet'],\n",
    "    ],\n",
    "    vectorizer_classes=partial(\n",
    "            feature_extraction.text.TfidfVectorizer,\n",
    "            binary=True,\n",
    "            min_df=5\n",
    "    ),\n",
    "    tokenizers=[split_by_comma_tokenizer, None]\n",
    ")\n",
    "\n",
    "steam_metadata_vectors = vectorizer.fit_transform(steam_df)"
   ]
  },
  {
   "cell_type": "code",
   "execution_count": 17,
   "metadata": {},
   "outputs": [
    {
     "data": {
      "text/plain": [
       "(24210, 20)"
      ]
     },
     "execution_count": 17,
     "metadata": {},
     "output_type": "execute_result"
    }
   ],
   "source": [
    "steam_df.shape"
   ]
  },
  {
   "cell_type": "code",
   "execution_count": 18,
   "metadata": {},
   "outputs": [
    {
     "data": {
      "text/plain": [
       "(24210, 31455)"
      ]
     },
     "execution_count": 18,
     "metadata": {},
     "output_type": "execute_result"
    }
   ],
   "source": [
    "steam_metadata_vectors.shape"
   ]
  },
  {
   "cell_type": "code",
   "execution_count": 40,
   "metadata": {},
   "outputs": [
    {
     "data": {
      "text/plain": [
       "scipy.sparse.csc.csc_matrix"
      ]
     },
     "execution_count": 40,
     "metadata": {},
     "output_type": "execute_result"
    }
   ],
   "source": [
    "\n",
    "\n",
    "type(scipy.sparse.csc_matrix([]))"
   ]
  },
  {
   "cell_type": "code",
   "execution_count": 59,
   "metadata": {},
   "outputs": [],
   "source": [
    "#export\n",
    "\n",
    "@attr.s\n",
    "class MetadataSimilaritySearcher:\n",
    "    \n",
    "    metadata_df: pd.DataFrame = attr.ib()\n",
    "    metadata_vectors: Union[scipy.sparse.csr.csr_matrix, np.array] = attr.ib()\n",
    "    similarity = attr.ib(metrics.pairwise.cosine_similarity)\n",
    "    \n",
    "    def find_similar(\n",
    "            self,\n",
    "            chosen_games_df,\n",
    "            n_similar=20):\n",
    "        def get_names_from_indices(indices):\n",
    "            return self.metadata_df['name'].iloc[indices].values\n",
    "\n",
    "        chosen_metadata_vectors = self.metadata_vectors[chosen_games_df.index]\n",
    "        mean_metadata_vector = chosen_metadata_vectors.mean(axis=0)\n",
    "        similarities = self.similarity(chosen_metadata_vectors, self.metadata_vectors)\n",
    "        similarity_sorted_indices = similarities.argsort(axis=1)[:,::-1]\n",
    "        similarities_sorted = np.array([similarities[i, similarity_sorted_indices[i]] for i in range(len(chosen_games_df))])\n",
    "        mean_similarity = self.similarity(mean_metadata_vector.reshape(1,-1), self.metadata_vectors)\n",
    "        mean_metadata_similarity_sorted_indices = mean_similarity.argsort(axis=1)[:,::-1]\n",
    "        mean_similarities_sorted = mean_similarity[0,mean_metadata_similarity_sorted_indices.reshape(-1)]\n",
    "\n",
    "        mean_similar = get_names_from_indices(mean_metadata_similarity_sorted_indices[0][:n_similar])\n",
    "        game_names = {}\n",
    "        similarities = {}\n",
    "\n",
    "        for (i, name) in enumerate(chosen_games_df['name'].values):\n",
    "            game_names[name] = ( \n",
    "                    get_names_from_indices(\n",
    "                        similarity_sorted_indices[i][1:n_similar+1]\n",
    "                    )\n",
    "            )\n",
    "            similarities[name + '_similarities'] = similarities_sorted[i][1:n_similar+1]\n",
    "\n",
    "        game_names['mean'] = mean_similar\n",
    "        similarities['mean_similarity'] = mean_similarities_sorted[1:n_similar+1] \n",
    "        return pd.DataFrame(game_names), pd.DataFrame(similarities)"
   ]
  },
  {
   "cell_type": "code",
   "execution_count": null,
   "metadata": {},
   "outputs": [],
   "source": []
  },
  {
   "cell_type": "code",
   "execution_count": 53,
   "metadata": {},
   "outputs": [],
   "source": [
    "#export\n",
    "\n",
    "def make_stacked_results_df(game_names, similarities):\n",
    "    df = pd.concat([game_names, similarities], axis=1)\n",
    "    return df.reindex(sorted(df.columns), axis=1)"
   ]
  },
  {
   "cell_type": "code",
   "execution_count": 54,
   "metadata": {},
   "outputs": [],
   "source": [
    "metadata_df = steam_df\n",
    "n_similar=20\n",
    "metadata_vectors = steam_metadata_vectors\n"
   ]
  },
  {
   "cell_type": "code",
   "execution_count": 55,
   "metadata": {},
   "outputs": [],
   "source": [
    "from sklearn import decomposition\n",
    "\n",
    "n_components = 250\n",
    "\n",
    "\n",
    "tsvd = decomposition.TruncatedSVD(n_components=n_components)\n",
    "nmf = decomposition.NMF(n_components=n_components, solver='mu')"
   ]
  },
  {
   "cell_type": "code",
   "execution_count": 30,
   "metadata": {},
   "outputs": [
    {
     "name": "stdout",
     "output_type": "stream",
     "text": [
      "CPU times: user 31.8 s, sys: 15.1 s, total: 46.8 s\n",
      "Wall time: 11.3 s\n"
     ]
    }
   ],
   "source": [
    "%%time\n",
    "steam_metadata_reduced_vectors = tsvd.fit_transform(steam_metadata_vectors)"
   ]
  },
  {
   "cell_type": "code",
   "execution_count": 60,
   "metadata": {},
   "outputs": [],
   "source": [
    "similarity_searcher = MetadataSimilaritySearcher(steam_df, steam_metadata_reduced_vectors)"
   ]
  },
  {
   "cell_type": "code",
   "execution_count": 58,
   "metadata": {},
   "outputs": [],
   "source": [
    "import pickle\n",
    "\n",
    "pickle.dump(similarity_searcher, open('data/tsvd_similarity_searcher.pkl', 'wb'))"
   ]
  },
  {
   "cell_type": "markdown",
   "metadata": {},
   "source": [
    "# Searching by SVD reduced data"
   ]
  },
  {
   "cell_type": "code",
   "execution_count": 61,
   "metadata": {},
   "outputs": [
    {
     "data": {
      "text/html": [
       "<div>\n",
       "<style scoped>\n",
       "    .dataframe tbody tr th:only-of-type {\n",
       "        vertical-align: middle;\n",
       "    }\n",
       "\n",
       "    .dataframe tbody tr th {\n",
       "        vertical-align: top;\n",
       "    }\n",
       "\n",
       "    .dataframe thead th {\n",
       "        text-align: right;\n",
       "    }\n",
       "</style>\n",
       "<table border=\"1\" class=\"dataframe\">\n",
       "  <thead>\n",
       "    <tr style=\"text-align: right;\">\n",
       "      <th></th>\n",
       "      <th>S.T.A.L.K.E.R.: Call of Pripyat</th>\n",
       "      <th>S.T.A.L.K.E.R.: Call of Pripyat_similarities</th>\n",
       "      <th>S.T.A.L.K.E.R.: Clear Sky</th>\n",
       "      <th>S.T.A.L.K.E.R.: Clear Sky_similarities</th>\n",
       "      <th>S.T.A.L.K.E.R.: Shadow of Chernobyl</th>\n",
       "      <th>S.T.A.L.K.E.R.: Shadow of Chernobyl_similarities</th>\n",
       "      <th>mean</th>\n",
       "      <th>mean_similarity</th>\n",
       "    </tr>\n",
       "  </thead>\n",
       "  <tbody>\n",
       "    <tr>\n",
       "      <th>0</th>\n",
       "      <td>S.T.A.L.K.E.R.: Clear Sky</td>\n",
       "      <td>0.897464</td>\n",
       "      <td>S.T.A.L.K.E.R.: Call of Pripyat</td>\n",
       "      <td>0.897464</td>\n",
       "      <td>S.T.A.L.K.E.R.: Clear Sky</td>\n",
       "      <td>0.838078</td>\n",
       "      <td>S.T.A.L.K.E.R.: Clear Sky</td>\n",
       "      <td>0.947430</td>\n",
       "    </tr>\n",
       "    <tr>\n",
       "      <th>1</th>\n",
       "      <td>S.T.A.L.K.E.R.: Shadow of Chernobyl</td>\n",
       "      <td>0.780530</td>\n",
       "      <td>S.T.A.L.K.E.R.: Shadow of Chernobyl</td>\n",
       "      <td>0.838078</td>\n",
       "      <td>S.T.A.L.K.E.R.: Call of Pripyat</td>\n",
       "      <td>0.780530</td>\n",
       "      <td>S.T.A.L.K.E.R.: Call of Pripyat</td>\n",
       "      <td>0.921327</td>\n",
       "    </tr>\n",
       "    <tr>\n",
       "      <th>2</th>\n",
       "      <td>Metro: Last Light Redux</td>\n",
       "      <td>0.679446</td>\n",
       "      <td>Metro: Last Light Redux</td>\n",
       "      <td>0.684372</td>\n",
       "      <td>Metro: Last Light Redux</td>\n",
       "      <td>0.705726</td>\n",
       "      <td>S.T.A.L.K.E.R.: Shadow of Chernobyl</td>\n",
       "      <td>0.729820</td>\n",
       "    </tr>\n",
       "    <tr>\n",
       "      <th>3</th>\n",
       "      <td>DayZ</td>\n",
       "      <td>0.675076</td>\n",
       "      <td>Time Ramesside (A New Reckoning)</td>\n",
       "      <td>0.676534</td>\n",
       "      <td>Metro 2033 Redux</td>\n",
       "      <td>0.665219</td>\n",
       "      <td>Metro: Last Light Redux</td>\n",
       "      <td>0.710673</td>\n",
       "    </tr>\n",
       "    <tr>\n",
       "      <th>4</th>\n",
       "      <td>Metro 2033 Redux</td>\n",
       "      <td>0.672855</td>\n",
       "      <td>Metro 2033 Redux</td>\n",
       "      <td>0.676193</td>\n",
       "      <td>Nosferatu: The Wrath of Malachi</td>\n",
       "      <td>0.626620</td>\n",
       "      <td>Metro 2033 Redux</td>\n",
       "      <td>0.671281</td>\n",
       "    </tr>\n",
       "    <tr>\n",
       "      <th>5</th>\n",
       "      <td>Far Cry®</td>\n",
       "      <td>0.671834</td>\n",
       "      <td>ZOMBI</td>\n",
       "      <td>0.668388</td>\n",
       "      <td>Metro Exodus</td>\n",
       "      <td>0.622124</td>\n",
       "      <td>Time Ramesside (A New Reckoning)</td>\n",
       "      <td>0.667812</td>\n",
       "    </tr>\n",
       "    <tr>\n",
       "      <th>6</th>\n",
       "      <td>Unreal 2: The Awakening</td>\n",
       "      <td>0.651053</td>\n",
       "      <td>DOOM 3</td>\n",
       "      <td>0.658594</td>\n",
       "      <td>Creature Hunt</td>\n",
       "      <td>0.614082</td>\n",
       "      <td>Unreal 2: The Awakening</td>\n",
       "      <td>0.658057</td>\n",
       "    </tr>\n",
       "    <tr>\n",
       "      <th>7</th>\n",
       "      <td>DOOM 3</td>\n",
       "      <td>0.648683</td>\n",
       "      <td>Unreal 2: The Awakening</td>\n",
       "      <td>0.655083</td>\n",
       "      <td>Fallout 3</td>\n",
       "      <td>0.607511</td>\n",
       "      <td>DOOM 3</td>\n",
       "      <td>0.656788</td>\n",
       "    </tr>\n",
       "    <tr>\n",
       "      <th>8</th>\n",
       "      <td>Doom 3: BFG Edition</td>\n",
       "      <td>0.648503</td>\n",
       "      <td>Doom 3: BFG Edition</td>\n",
       "      <td>0.648950</td>\n",
       "      <td>A.I.M.2 Clan Wars</td>\n",
       "      <td>0.600061</td>\n",
       "      <td>Dead Effect</td>\n",
       "      <td>0.656701</td>\n",
       "    </tr>\n",
       "    <tr>\n",
       "      <th>9</th>\n",
       "      <td>Shadows of Kurgansk</td>\n",
       "      <td>0.648089</td>\n",
       "      <td>Dead Effect</td>\n",
       "      <td>0.648827</td>\n",
       "      <td>Fallout: New Vegas</td>\n",
       "      <td>0.595463</td>\n",
       "      <td>Fallout 3</td>\n",
       "      <td>0.655331</td>\n",
       "    </tr>\n",
       "    <tr>\n",
       "      <th>10</th>\n",
       "      <td>Fallout 3</td>\n",
       "      <td>0.645104</td>\n",
       "      <td>Half-Life 2: Episode Two</td>\n",
       "      <td>0.638268</td>\n",
       "      <td>Zone Anomaly</td>\n",
       "      <td>0.594999</td>\n",
       "      <td>ZOMBI</td>\n",
       "      <td>0.654542</td>\n",
       "    </tr>\n",
       "    <tr>\n",
       "      <th>11</th>\n",
       "      <td>Half-Life 2: Episode Two</td>\n",
       "      <td>0.640251</td>\n",
       "      <td>Estranged: Act I</td>\n",
       "      <td>0.631783</td>\n",
       "      <td>System Shock 2</td>\n",
       "      <td>0.589573</td>\n",
       "      <td>Far Cry®</td>\n",
       "      <td>0.648938</td>\n",
       "    </tr>\n",
       "    <tr>\n",
       "      <th>12</th>\n",
       "      <td>Time Ramesside (A New Reckoning)</td>\n",
       "      <td>0.640171</td>\n",
       "      <td>Far Cry®</td>\n",
       "      <td>0.626095</td>\n",
       "      <td>Fallout 3: Game of the Year Edition</td>\n",
       "      <td>0.586515</td>\n",
       "      <td>Fallout: New Vegas</td>\n",
       "      <td>0.646022</td>\n",
       "    </tr>\n",
       "    <tr>\n",
       "      <th>13</th>\n",
       "      <td>ZOMBI</td>\n",
       "      <td>0.638603</td>\n",
       "      <td>Singularity™</td>\n",
       "      <td>0.624721</td>\n",
       "      <td>Dead Effect</td>\n",
       "      <td>0.585627</td>\n",
       "      <td>Half-Life 2: Episode Two</td>\n",
       "      <td>0.644948</td>\n",
       "    </tr>\n",
       "    <tr>\n",
       "      <th>14</th>\n",
       "      <td>Fallout: New Vegas</td>\n",
       "      <td>0.633015</td>\n",
       "      <td>Arizona Sunshine</td>\n",
       "      <td>0.622590</td>\n",
       "      <td>Unreal 2: The Awakening</td>\n",
       "      <td>0.584948</td>\n",
       "      <td>Doom 3: BFG Edition</td>\n",
       "      <td>0.644541</td>\n",
       "    </tr>\n",
       "    <tr>\n",
       "      <th>15</th>\n",
       "      <td>Dying Light</td>\n",
       "      <td>0.632108</td>\n",
       "      <td>DayZ</td>\n",
       "      <td>0.611069</td>\n",
       "      <td>Time Ramesside (A New Reckoning)</td>\n",
       "      <td>0.584897</td>\n",
       "      <td>DayZ</td>\n",
       "      <td>0.640253</td>\n",
       "    </tr>\n",
       "    <tr>\n",
       "      <th>16</th>\n",
       "      <td>Dead Effect</td>\n",
       "      <td>0.626332</td>\n",
       "      <td>Nosferatu: The Wrath of Malachi</td>\n",
       "      <td>0.609971</td>\n",
       "      <td>I Am Alive</td>\n",
       "      <td>0.583765</td>\n",
       "      <td>Nosferatu: The Wrath of Malachi</td>\n",
       "      <td>0.638529</td>\n",
       "    </tr>\n",
       "    <tr>\n",
       "      <th>17</th>\n",
       "      <td>Estranged: Act I</td>\n",
       "      <td>0.623918</td>\n",
       "      <td>Fallout: New Vegas</td>\n",
       "      <td>0.609621</td>\n",
       "      <td>Alien: Isolation</td>\n",
       "      <td>0.580034</td>\n",
       "      <td>Metro Exodus</td>\n",
       "      <td>0.636771</td>\n",
       "    </tr>\n",
       "    <tr>\n",
       "      <th>18</th>\n",
       "      <td>Unturned</td>\n",
       "      <td>0.617272</td>\n",
       "      <td>Fallout 3</td>\n",
       "      <td>0.607321</td>\n",
       "      <td>Singularity™</td>\n",
       "      <td>0.578707</td>\n",
       "      <td>Singularity™</td>\n",
       "      <td>0.634262</td>\n",
       "    </tr>\n",
       "    <tr>\n",
       "      <th>19</th>\n",
       "      <td>State of Decay</td>\n",
       "      <td>0.613386</td>\n",
       "      <td>Metro Exodus</td>\n",
       "      <td>0.601697</td>\n",
       "      <td>Brigand: Oaxaca</td>\n",
       "      <td>0.573504</td>\n",
       "      <td>Arizona Sunshine</td>\n",
       "      <td>0.631121</td>\n",
       "    </tr>\n",
       "  </tbody>\n",
       "</table>\n",
       "</div>"
      ],
      "text/plain": [
       "        S.T.A.L.K.E.R.: Call of Pripyat  \\\n",
       "0             S.T.A.L.K.E.R.: Clear Sky   \n",
       "1   S.T.A.L.K.E.R.: Shadow of Chernobyl   \n",
       "2               Metro: Last Light Redux   \n",
       "3                                  DayZ   \n",
       "4                      Metro 2033 Redux   \n",
       "5                              Far Cry®   \n",
       "6               Unreal 2: The Awakening   \n",
       "7                                DOOM 3   \n",
       "8                   Doom 3: BFG Edition   \n",
       "9                   Shadows of Kurgansk   \n",
       "10                            Fallout 3   \n",
       "11             Half-Life 2: Episode Two   \n",
       "12     Time Ramesside (A New Reckoning)   \n",
       "13                                ZOMBI   \n",
       "14                   Fallout: New Vegas   \n",
       "15                          Dying Light   \n",
       "16                          Dead Effect   \n",
       "17                     Estranged: Act I   \n",
       "18                             Unturned   \n",
       "19                       State of Decay   \n",
       "\n",
       "    S.T.A.L.K.E.R.: Call of Pripyat_similarities  \\\n",
       "0                                       0.897464   \n",
       "1                                       0.780530   \n",
       "2                                       0.679446   \n",
       "3                                       0.675076   \n",
       "4                                       0.672855   \n",
       "5                                       0.671834   \n",
       "6                                       0.651053   \n",
       "7                                       0.648683   \n",
       "8                                       0.648503   \n",
       "9                                       0.648089   \n",
       "10                                      0.645104   \n",
       "11                                      0.640251   \n",
       "12                                      0.640171   \n",
       "13                                      0.638603   \n",
       "14                                      0.633015   \n",
       "15                                      0.632108   \n",
       "16                                      0.626332   \n",
       "17                                      0.623918   \n",
       "18                                      0.617272   \n",
       "19                                      0.613386   \n",
       "\n",
       "              S.T.A.L.K.E.R.: Clear Sky  \\\n",
       "0       S.T.A.L.K.E.R.: Call of Pripyat   \n",
       "1   S.T.A.L.K.E.R.: Shadow of Chernobyl   \n",
       "2               Metro: Last Light Redux   \n",
       "3      Time Ramesside (A New Reckoning)   \n",
       "4                      Metro 2033 Redux   \n",
       "5                                 ZOMBI   \n",
       "6                                DOOM 3   \n",
       "7               Unreal 2: The Awakening   \n",
       "8                   Doom 3: BFG Edition   \n",
       "9                           Dead Effect   \n",
       "10             Half-Life 2: Episode Two   \n",
       "11                     Estranged: Act I   \n",
       "12                             Far Cry®   \n",
       "13                         Singularity™   \n",
       "14                     Arizona Sunshine   \n",
       "15                                 DayZ   \n",
       "16      Nosferatu: The Wrath of Malachi   \n",
       "17                   Fallout: New Vegas   \n",
       "18                            Fallout 3   \n",
       "19                         Metro Exodus   \n",
       "\n",
       "    S.T.A.L.K.E.R.: Clear Sky_similarities  \\\n",
       "0                                 0.897464   \n",
       "1                                 0.838078   \n",
       "2                                 0.684372   \n",
       "3                                 0.676534   \n",
       "4                                 0.676193   \n",
       "5                                 0.668388   \n",
       "6                                 0.658594   \n",
       "7                                 0.655083   \n",
       "8                                 0.648950   \n",
       "9                                 0.648827   \n",
       "10                                0.638268   \n",
       "11                                0.631783   \n",
       "12                                0.626095   \n",
       "13                                0.624721   \n",
       "14                                0.622590   \n",
       "15                                0.611069   \n",
       "16                                0.609971   \n",
       "17                                0.609621   \n",
       "18                                0.607321   \n",
       "19                                0.601697   \n",
       "\n",
       "    S.T.A.L.K.E.R.: Shadow of Chernobyl  \\\n",
       "0             S.T.A.L.K.E.R.: Clear Sky   \n",
       "1       S.T.A.L.K.E.R.: Call of Pripyat   \n",
       "2               Metro: Last Light Redux   \n",
       "3                      Metro 2033 Redux   \n",
       "4       Nosferatu: The Wrath of Malachi   \n",
       "5                          Metro Exodus   \n",
       "6                         Creature Hunt   \n",
       "7                             Fallout 3   \n",
       "8                     A.I.M.2 Clan Wars   \n",
       "9                    Fallout: New Vegas   \n",
       "10                         Zone Anomaly   \n",
       "11                       System Shock 2   \n",
       "12  Fallout 3: Game of the Year Edition   \n",
       "13                          Dead Effect   \n",
       "14              Unreal 2: The Awakening   \n",
       "15     Time Ramesside (A New Reckoning)   \n",
       "16                           I Am Alive   \n",
       "17                     Alien: Isolation   \n",
       "18                         Singularity™   \n",
       "19                      Brigand: Oaxaca   \n",
       "\n",
       "    S.T.A.L.K.E.R.: Shadow of Chernobyl_similarities  \\\n",
       "0                                           0.838078   \n",
       "1                                           0.780530   \n",
       "2                                           0.705726   \n",
       "3                                           0.665219   \n",
       "4                                           0.626620   \n",
       "5                                           0.622124   \n",
       "6                                           0.614082   \n",
       "7                                           0.607511   \n",
       "8                                           0.600061   \n",
       "9                                           0.595463   \n",
       "10                                          0.594999   \n",
       "11                                          0.589573   \n",
       "12                                          0.586515   \n",
       "13                                          0.585627   \n",
       "14                                          0.584948   \n",
       "15                                          0.584897   \n",
       "16                                          0.583765   \n",
       "17                                          0.580034   \n",
       "18                                          0.578707   \n",
       "19                                          0.573504   \n",
       "\n",
       "                                   mean  mean_similarity  \n",
       "0             S.T.A.L.K.E.R.: Clear Sky         0.947430  \n",
       "1       S.T.A.L.K.E.R.: Call of Pripyat         0.921327  \n",
       "2   S.T.A.L.K.E.R.: Shadow of Chernobyl         0.729820  \n",
       "3               Metro: Last Light Redux         0.710673  \n",
       "4                      Metro 2033 Redux         0.671281  \n",
       "5      Time Ramesside (A New Reckoning)         0.667812  \n",
       "6               Unreal 2: The Awakening         0.658057  \n",
       "7                                DOOM 3         0.656788  \n",
       "8                           Dead Effect         0.656701  \n",
       "9                             Fallout 3         0.655331  \n",
       "10                                ZOMBI         0.654542  \n",
       "11                             Far Cry®         0.648938  \n",
       "12                   Fallout: New Vegas         0.646022  \n",
       "13             Half-Life 2: Episode Two         0.644948  \n",
       "14                  Doom 3: BFG Edition         0.644541  \n",
       "15                                 DayZ         0.640253  \n",
       "16      Nosferatu: The Wrath of Malachi         0.638529  \n",
       "17                         Metro Exodus         0.636771  \n",
       "18                         Singularity™         0.634262  \n",
       "19                     Arizona Sunshine         0.631121  "
      ]
     },
     "execution_count": 61,
     "metadata": {},
     "output_type": "execute_result"
    }
   ],
   "source": [
    "show_stacked_results(*similarity_searcher.find_similar(chosen_games_df))"
   ]
  },
  {
   "cell_type": "markdown",
   "metadata": {},
   "source": [
    "# Searching by NMF reduced data"
   ]
  },
  {
   "cell_type": "code",
   "execution_count": null,
   "metadata": {},
   "outputs": [],
   "source": [
    "#%%time\n",
    "#steam_metadata_nmf_vectors = nmf.fit_transform(steam_metadata_vectors)"
   ]
  },
  {
   "cell_type": "code",
   "execution_count": 32,
   "metadata": {},
   "outputs": [],
   "source": [
    "#similar_games(chosen_games_df, steam_df, steam_metadata_nmf_vectors)"
   ]
  },
  {
   "cell_type": "code",
   "execution_count": 33,
   "metadata": {},
   "outputs": [],
   "source": [
    "# Recommending"
   ]
  },
  {
   "cell_type": "code",
   "execution_count": null,
   "metadata": {},
   "outputs": [],
   "source": [
    "def recommend_similar_games(chosen_games, ratings):\n",
    "    "
   ]
  }
 ],
 "metadata": {
  "kernelspec": {
   "display_name": "ml",
   "language": "python",
   "name": "ml"
  },
  "language_info": {
   "codemirror_mode": {
    "name": "ipython",
    "version": 3
   },
   "file_extension": ".py",
   "mimetype": "text/x-python",
   "name": "python",
   "nbconvert_exporter": "python",
   "pygments_lexer": "ipython3",
   "version": "3.7.7"
  }
 },
 "nbformat": 4,
 "nbformat_minor": 2
}
