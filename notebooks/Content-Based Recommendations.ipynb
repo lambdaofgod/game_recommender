{
 "cells": [
  {
   "cell_type": "code",
   "execution_count": 1,
   "metadata": {},
   "outputs": [],
   "source": [
    "#default_exp content_based "
   ]
  },
  {
   "cell_type": "code",
   "execution_count": 2,
   "metadata": {},
   "outputs": [],
   "source": [
    "#export \n",
    "\n",
    "import scipy\n",
    "import pandas as pd\n",
    "import numpy as np\n",
    "\n",
    "\n",
    "from sklearn import compose, feature_extraction, metrics\n",
    "from functools import reduce, partial\n",
    "import attr\n",
    "from typing import Union\n",
    "\n",
    "from game_recommender import steam_data"
   ]
  },
  {
   "cell_type": "code",
   "execution_count": 3,
   "metadata": {},
   "outputs": [
    {
     "name": "stdout",
     "output_type": "stream",
     "text": [
      "/home/kuba/Projects/game_recommender\n"
     ]
    }
   ],
   "source": [
    "%cd .."
   ]
  },
  {
   "cell_type": "code",
   "execution_count": 4,
   "metadata": {},
   "outputs": [],
   "source": [
    "steam_df = steam_data.load_steam_df() "
   ]
  },
  {
   "cell_type": "code",
   "execution_count": 5,
   "metadata": {},
   "outputs": [],
   "source": [
    "chosen_games_substring = 's.t.a.l.k'"
   ]
  },
  {
   "cell_type": "code",
   "execution_count": 6,
   "metadata": {},
   "outputs": [],
   "source": [
    "chosen_games_df = steam_data.get_games_by_name(steam_df, chosen_games_substring) "
   ]
  },
  {
   "cell_type": "code",
   "execution_count": 7,
   "metadata": {},
   "outputs": [
    {
     "data": {
      "text/plain": [
       "376     s.t.a.l.k.e.r. shadow of chernobyl\n",
       "1276        s.t.a.l.k.e.r. call of pripyat\n",
       "7253              s.t.a.l.k.e.r. clear sky\n",
       "Name: name, dtype: object"
      ]
     },
     "execution_count": 7,
     "metadata": {},
     "output_type": "execute_result"
    }
   ],
   "source": [
    "chosen_games_df['name']"
   ]
  },
  {
   "cell_type": "code",
   "execution_count": 8,
   "metadata": {},
   "outputs": [
    {
     "data": {
      "text/plain": [
       "'atmospheric,post-apocalyptic,open world,fps,survival,masterpiece,action,rpg,survival horror,shooter,horror,first-person,singleplayer,classic,based on a novel,moddable,adventure,sci-fi,inventory management,difficult'"
      ]
     },
     "execution_count": 8,
     "metadata": {},
     "output_type": "execute_result"
    }
   ],
   "source": [
    "chosen_games_df.iloc[0]['popular_tags']"
   ]
  },
  {
   "cell_type": "code",
   "execution_count": 9,
   "metadata": {},
   "outputs": [
    {
     "data": {
      "text/plain": [
       "'single-player,multi-player'"
      ]
     },
     "execution_count": 9,
     "metadata": {},
     "output_type": "execute_result"
    }
   ],
   "source": [
    "chosen_games_df.iloc[0]['game_details']"
   ]
  },
  {
   "cell_type": "code",
   "execution_count": 10,
   "metadata": {},
   "outputs": [
    {
     "data": {
      "text/plain": [
       "'action,rpg'"
      ]
     },
     "execution_count": 10,
     "metadata": {},
     "output_type": "execute_result"
    }
   ],
   "source": [
    "chosen_games_df.iloc[0]['genre']"
   ]
  },
  {
   "cell_type": "code",
   "execution_count": 11,
   "metadata": {},
   "outputs": [
    {
     "data": {
      "text/plain": [
       "\" About This Game In 1986, the world's worst nuclear disaster occurred at the Chernobyl Nuclear Power Plant. Soviet authorities established an 'Exclusion Zone' around, but a second explosion hit the reactor in 2006, creating The Zone as we know it – dangerous place, filled with mutated creatures, deadly radiation, and a strange, anomalous energy. The Zone was cordoned off by the military, who would shoot on sight anyone foolish enough to get inside.  Year 2012. The Zone is still a dangerous place and a threat to all mankind. Mercenaries, bounty hunters and explorers ventured further and further into the heart of the Zone driven by reports of strange 'artifacts' imbued with anomalous energy. To sell them on the black market or trying to find the 'truth' behind the Zone. Whatever their motivation, over time these individuals - Scavengers, Trespassers, Adventurers, Loners, Killers, Explorers and Robbers - have become known as S.T.A.L.K.E.R.s.  You will have to find your own way to survive in the Zone!  An immersive storyline, seamlessly blended with a living, breathing, non-linear open-world environment. An accurately modeled real-world buildings and locations from deep inside of the Chernobyl Exclusion Zone. Unique 'Survival FPS' gameplay, which combines action, stealth, survival and RPG elements - to create an incomparable experience in the Zone. Enemy Threat Evaluation AI system - NPC characters react to changes in environments and situations. Realistic combat mechanics with accurate ballistic properties. Dynamic day-night cycle and weather system, that directly impacts gameplay. Advanced physics and dynamic lighting effects powered by the 'X-Ray Engine'. Intense multiplayer action, supporting up to 32 players. \""
      ]
     },
     "execution_count": 11,
     "metadata": {},
     "output_type": "execute_result"
    }
   ],
   "source": [
    "chosen_games_df['game_description'].iloc[0]"
   ]
  },
  {
   "cell_type": "code",
   "execution_count": 12,
   "metadata": {},
   "outputs": [
    {
     "data": {
      "text/plain": [
       "'atmospheric,post-apocalyptic,open world,fps,survival,masterpiece,action,rpg,survival horror,shooter,horror,first-person,singleplayer,classic,based on a novel,moddable,adventure,sci-fi,inventory management,difficult'"
      ]
     },
     "execution_count": 12,
     "metadata": {},
     "output_type": "execute_result"
    }
   ],
   "source": [
    "chosen_games_df['popular_tags'].iloc[0]"
   ]
  },
  {
   "cell_type": "code",
   "execution_count": 13,
   "metadata": {},
   "outputs": [],
   "source": [
    "game_descriptions = steam_df['game_description']"
   ]
  },
  {
   "cell_type": "markdown",
   "metadata": {},
   "source": [
    "# Finding games with similar descriptions"
   ]
  },
  {
   "cell_type": "code",
   "execution_count": 14,
   "metadata": {},
   "outputs": [],
   "source": [
    "from collections import defaultdict"
   ]
  },
  {
   "cell_type": "code",
   "execution_count": 15,
   "metadata": {},
   "outputs": [],
   "source": [
    "#export\n",
    "\n",
    "def split_by_comma_tokenizer(text):\n",
    "    return text.split(',') \n",
    "\n",
    "\n",
    "def _regroup_weights(weights, column_groups):\n",
    "    assert len(weights) == len(column_groups), 'specify weight for each column group'\n",
    "    return {\n",
    "        col: weight / len(col_group)\n",
    "        for (weight, col_group) in zip(weights, column_groups)\n",
    "        for col in col_group\n",
    "    }\n",
    "\n",
    "\n",
    "def make_df_column_vectorizer(\n",
    "        column_groups,\n",
    "        vectorizer_classes=feature_extraction.text.TfidfVectorizer,\n",
    "        weights=None,\n",
    "        tokenizers=None\n",
    "    ):\n",
    "    if type(vectorizer_classes) is not list:\n",
    "        vectorizer_classes = [vectorizer_classes for __ in range(len(column_groups))]\n",
    "    if tokenizers is None:\n",
    "        tokenizers = [None for __ in range(len(column_groups))]\n",
    "    vectorizers = [vectorizer_class(tokenizer=tokenizer) for (vectorizer_class, grp, tokenizer) in zip(vectorizer_classes, column_groups, tokenizers)] \n",
    "    if type(weights) is list:\n",
    "        weights = _regroup_weights(weights, column_groups)\n",
    "    \n",
    "    return compose.ColumnTransformer(\n",
    "        [\n",
    "            (col + '_tfidf', vectorizer, col)\n",
    "            for columns, vectorizer in zip(column_groups, vectorizers)\n",
    "            for col in columns\n",
    "        ],\n",
    "        transformer_weights=weights\n",
    "    )"
   ]
  },
  {
   "cell_type": "code",
   "execution_count": 16,
   "metadata": {},
   "outputs": [],
   "source": [
    "vectorizer = make_df_column_vectorizer([\n",
    "        ['popular_tags'],\n",
    "        ['game_description', 'desc_snippet'],\n",
    "    ],\n",
    "    vectorizer_classes=partial(\n",
    "            feature_extraction.text.TfidfVectorizer,\n",
    "            binary=True,\n",
    "            min_df=5\n",
    "    ),\n",
    "    tokenizers=[split_by_comma_tokenizer, None]\n",
    ")\n",
    "\n",
    "steam_metadata_vectors = vectorizer.fit_transform(steam_df)"
   ]
  },
  {
   "cell_type": "code",
   "execution_count": 17,
   "metadata": {},
   "outputs": [
    {
     "data": {
      "text/plain": [
       "(24210, 21)"
      ]
     },
     "execution_count": 17,
     "metadata": {},
     "output_type": "execute_result"
    }
   ],
   "source": [
    "steam_df.shape"
   ]
  },
  {
   "cell_type": "code",
   "execution_count": 18,
   "metadata": {},
   "outputs": [
    {
     "data": {
      "text/plain": [
       "(24210, 31455)"
      ]
     },
     "execution_count": 18,
     "metadata": {},
     "output_type": "execute_result"
    }
   ],
   "source": [
    "steam_metadata_vectors.shape"
   ]
  },
  {
   "cell_type": "code",
   "execution_count": 20,
   "metadata": {},
   "outputs": [],
   "source": [
    "#export\n",
    "\n",
    "@attr.s\n",
    "class MetadataSimilaritySearcher:\n",
    "    \n",
    "    metadata_df: pd.DataFrame = attr.ib()\n",
    "    metadata_vectors: Union[scipy.sparse.csr.csr_matrix, np.array] = attr.ib()\n",
    "    similarity = attr.ib(metrics.pairwise.cosine_similarity)\n",
    "    \n",
    "    def find_similar(\n",
    "            self,\n",
    "            chosen_games,\n",
    "            n_similar=20):\n",
    "        def get_names_from_indices(indices):\n",
    "            return self.metadata_df['name'].iloc[indices].values\n",
    "\n",
    "        chosen_metadata_vectors = self.metadata_vectors[chosen_games_df.index]\n",
    "        mean_metadata_vector = chosen_metadata_vectors.mean(axis=0)\n",
    "        similarities = self.similarity(chosen_metadata_vectors, self.metadata_vectors)\n",
    "        similarity_sorted_indices = similarities.argsort(axis=1)[:,::-1]\n",
    "        similarities_sorted = np.array([similarities[i, similarity_sorted_indices[i]] for i in range(len(chosen_games_df))])\n",
    "        mean_similarity = self.similarity(mean_metadata_vector.reshape(1,-1), self.metadata_vectors)\n",
    "        mean_metadata_similarity_sorted_indices = mean_similarity.argsort(axis=1)[:,::-1]\n",
    "        mean_similarities_sorted = mean_similarity[0,mean_metadata_similarity_sorted_indices.reshape(-1)]\n",
    "\n",
    "        mean_similar = get_names_from_indices(mean_metadata_similarity_sorted_indices[0][:n_similar])\n",
    "        game_names = {}\n",
    "        similarities = {}\n",
    "    \n",
    "        for (i, name) in enumerate(chosen_games.values):\n",
    "            game_names[name] = ( \n",
    "                    get_names_from_indices(\n",
    "                        similarity_sorted_indices[i][1:n_similar+1]\n",
    "                    )\n",
    "            )\n",
    "            similarities[name + '_similarities'] = similarities_sorted[i][1:n_similar+1]\n",
    "\n",
    "        game_names['mean'] = mean_similar\n",
    "        similarities['mean_similarity'] = mean_similarities_sorted[1:n_similar+1] \n",
    "        return pd.DataFrame(game_names), pd.DataFrame(similarities)"
   ]
  },
  {
   "cell_type": "code",
   "execution_count": 21,
   "metadata": {},
   "outputs": [],
   "source": [
    "#export\n",
    "\n",
    "def make_stacked_results_df(game_names, similarities):\n",
    "    df = pd.concat([game_names, similarities], axis=1)\n",
    "    return df.reindex(sorted(df.columns), axis=1)"
   ]
  },
  {
   "cell_type": "code",
   "execution_count": 22,
   "metadata": {},
   "outputs": [],
   "source": [
    "metadata_df = steam_df\n",
    "n_similar=20\n",
    "metadata_vectors = steam_metadata_vectors\n"
   ]
  },
  {
   "cell_type": "code",
   "execution_count": 23,
   "metadata": {},
   "outputs": [],
   "source": [
    "from sklearn import decomposition\n",
    "\n",
    "n_components = 250\n",
    "\n",
    "\n",
    "tsvd = decomposition.TruncatedSVD(n_components=n_components)\n",
    "nmf = decomposition.NMF(n_components=n_components, solver='mu')"
   ]
  },
  {
   "cell_type": "code",
   "execution_count": 24,
   "metadata": {},
   "outputs": [
    {
     "name": "stdout",
     "output_type": "stream",
     "text": [
      "CPU times: user 33.8 s, sys: 16.8 s, total: 50.7 s\n",
      "Wall time: 12 s\n"
     ]
    }
   ],
   "source": [
    "%%time\n",
    "steam_metadata_reduced_vectors = tsvd.fit_transform(steam_metadata_vectors)"
   ]
  },
  {
   "cell_type": "code",
   "execution_count": 25,
   "metadata": {},
   "outputs": [],
   "source": [
    "similarity_searcher = MetadataSimilaritySearcher(steam_df, steam_metadata_reduced_vectors)"
   ]
  },
  {
   "cell_type": "markdown",
   "metadata": {},
   "source": [
    "# Searching by SVD reduced data"
   ]
  },
  {
   "cell_type": "code",
   "execution_count": 26,
   "metadata": {},
   "outputs": [
    {
     "data": {
      "text/html": [
       "<div>\n",
       "<style scoped>\n",
       "    .dataframe tbody tr th:only-of-type {\n",
       "        vertical-align: middle;\n",
       "    }\n",
       "\n",
       "    .dataframe tbody tr th {\n",
       "        vertical-align: top;\n",
       "    }\n",
       "\n",
       "    .dataframe thead th {\n",
       "        text-align: right;\n",
       "    }\n",
       "</style>\n",
       "<table border=\"1\" class=\"dataframe\">\n",
       "  <thead>\n",
       "    <tr style=\"text-align: right;\">\n",
       "      <th></th>\n",
       "      <th>mean</th>\n",
       "      <th>mean_similarity</th>\n",
       "      <th>s.t.a.l.k.e.r. call of pripyat</th>\n",
       "      <th>s.t.a.l.k.e.r. call of pripyat_similarities</th>\n",
       "      <th>s.t.a.l.k.e.r. clear sky</th>\n",
       "      <th>s.t.a.l.k.e.r. clear sky_similarities</th>\n",
       "      <th>s.t.a.l.k.e.r. shadow of chernobyl</th>\n",
       "      <th>s.t.a.l.k.e.r. shadow of chernobyl_similarities</th>\n",
       "    </tr>\n",
       "  </thead>\n",
       "  <tbody>\n",
       "    <tr>\n",
       "      <th>0</th>\n",
       "      <td>s.t.a.l.k.e.r. clear sky</td>\n",
       "      <td>0.948137</td>\n",
       "      <td>s.t.a.l.k.e.r. clear sky</td>\n",
       "      <td>0.900482</td>\n",
       "      <td>s.t.a.l.k.e.r. call of pripyat</td>\n",
       "      <td>0.900482</td>\n",
       "      <td>s.t.a.l.k.e.r. clear sky</td>\n",
       "      <td>0.829932</td>\n",
       "    </tr>\n",
       "    <tr>\n",
       "      <th>1</th>\n",
       "      <td>s.t.a.l.k.e.r. call of pripyat</td>\n",
       "      <td>0.919584</td>\n",
       "      <td>s.t.a.l.k.e.r. shadow of chernobyl</td>\n",
       "      <td>0.778954</td>\n",
       "      <td>s.t.a.l.k.e.r. shadow of chernobyl</td>\n",
       "      <td>0.829932</td>\n",
       "      <td>s.t.a.l.k.e.r. call of pripyat</td>\n",
       "      <td>0.778954</td>\n",
       "    </tr>\n",
       "    <tr>\n",
       "      <th>2</th>\n",
       "      <td>s.t.a.l.k.e.r. shadow of chernobyl</td>\n",
       "      <td>0.729318</td>\n",
       "      <td>metro last light redux</td>\n",
       "      <td>0.686936</td>\n",
       "      <td>metro last light redux</td>\n",
       "      <td>0.688384</td>\n",
       "      <td>metro last light redux</td>\n",
       "      <td>0.690112</td>\n",
       "    </tr>\n",
       "    <tr>\n",
       "      <th>3</th>\n",
       "      <td>metro last light redux</td>\n",
       "      <td>0.711629</td>\n",
       "      <td>metro 2033 redux</td>\n",
       "      <td>0.684926</td>\n",
       "      <td>metro 2033 redux</td>\n",
       "      <td>0.681347</td>\n",
       "      <td>metro 2033 redux</td>\n",
       "      <td>0.648290</td>\n",
       "    </tr>\n",
       "    <tr>\n",
       "      <th>4</th>\n",
       "      <td>metro 2033 redux</td>\n",
       "      <td>0.660792</td>\n",
       "      <td>dayz</td>\n",
       "      <td>0.674454</td>\n",
       "      <td>time ramesside (a new reckoning)</td>\n",
       "      <td>0.674091</td>\n",
       "      <td>nosferatu the wrath of malachi</td>\n",
       "      <td>0.621481</td>\n",
       "    </tr>\n",
       "    <tr>\n",
       "      <th>5</th>\n",
       "      <td>time ramesside (a new reckoning)</td>\n",
       "      <td>0.658031</td>\n",
       "      <td>far cry</td>\n",
       "      <td>0.668818</td>\n",
       "      <td>zombi</td>\n",
       "      <td>0.661498</td>\n",
       "      <td>metro exodus</td>\n",
       "      <td>0.612087</td>\n",
       "    </tr>\n",
       "    <tr>\n",
       "      <th>6</th>\n",
       "      <td>fallout 3</td>\n",
       "      <td>0.657447</td>\n",
       "      <td>doom 3 bfg edition</td>\n",
       "      <td>0.647770</td>\n",
       "      <td>doom 3</td>\n",
       "      <td>0.652039</td>\n",
       "      <td>fallout 3</td>\n",
       "      <td>0.608774</td>\n",
       "    </tr>\n",
       "    <tr>\n",
       "      <th>7</th>\n",
       "      <td>unreal 2 the awakening</td>\n",
       "      <td>0.652278</td>\n",
       "      <td>shadows of kurgansk</td>\n",
       "      <td>0.645745</td>\n",
       "      <td>unreal 2 the awakening</td>\n",
       "      <td>0.647671</td>\n",
       "      <td>creature hunt</td>\n",
       "      <td>0.601122</td>\n",
       "    </tr>\n",
       "    <tr>\n",
       "      <th>8</th>\n",
       "      <td>far cry</td>\n",
       "      <td>0.650726</td>\n",
       "      <td>unreal 2 the awakening</td>\n",
       "      <td>0.644693</td>\n",
       "      <td>doom 3 bfg edition</td>\n",
       "      <td>0.645029</td>\n",
       "      <td>fallout new vegas</td>\n",
       "      <td>0.591957</td>\n",
       "    </tr>\n",
       "    <tr>\n",
       "      <th>9</th>\n",
       "      <td>doom 3</td>\n",
       "      <td>0.650045</td>\n",
       "      <td>time ramesside (a new reckoning)</td>\n",
       "      <td>0.643885</td>\n",
       "      <td>halflife 2 episode two</td>\n",
       "      <td>0.635007</td>\n",
       "      <td>zone anomaly</td>\n",
       "      <td>0.585953</td>\n",
       "    </tr>\n",
       "    <tr>\n",
       "      <th>10</th>\n",
       "      <td>zombi</td>\n",
       "      <td>0.648982</td>\n",
       "      <td>halflife 2 episode two</td>\n",
       "      <td>0.643496</td>\n",
       "      <td>dead effect</td>\n",
       "      <td>0.634053</td>\n",
       "      <td>fallout 3 game of the year edition</td>\n",
       "      <td>0.584928</td>\n",
       "    </tr>\n",
       "    <tr>\n",
       "      <th>11</th>\n",
       "      <td>fallout new vegas</td>\n",
       "      <td>0.645315</td>\n",
       "      <td>zombi</td>\n",
       "      <td>0.642868</td>\n",
       "      <td>far cry</td>\n",
       "      <td>0.629638</td>\n",
       "      <td>red faction</td>\n",
       "      <td>0.581171</td>\n",
       "    </tr>\n",
       "    <tr>\n",
       "      <th>12</th>\n",
       "      <td>dead effect</td>\n",
       "      <td>0.638961</td>\n",
       "      <td>fallout 3</td>\n",
       "      <td>0.642633</td>\n",
       "      <td>arizona sunshine</td>\n",
       "      <td>0.626407</td>\n",
       "      <td>a.i.m.2 clan wars</td>\n",
       "      <td>0.580771</td>\n",
       "    </tr>\n",
       "    <tr>\n",
       "      <th>13</th>\n",
       "      <td>dayz</td>\n",
       "      <td>0.637329</td>\n",
       "      <td>doom 3</td>\n",
       "      <td>0.636731</td>\n",
       "      <td>estranged act i</td>\n",
       "      <td>0.620464</td>\n",
       "      <td>singularity™</td>\n",
       "      <td>0.575181</td>\n",
       "    </tr>\n",
       "    <tr>\n",
       "      <th>14</th>\n",
       "      <td>metro exodus</td>\n",
       "      <td>0.637207</td>\n",
       "      <td>fallout new vegas</td>\n",
       "      <td>0.635039</td>\n",
       "      <td>singularity™</td>\n",
       "      <td>0.617635</td>\n",
       "      <td>i am alive</td>\n",
       "      <td>0.573740</td>\n",
       "    </tr>\n",
       "    <tr>\n",
       "      <th>15</th>\n",
       "      <td>nosferatu the wrath of malachi</td>\n",
       "      <td>0.637067</td>\n",
       "      <td>dying light</td>\n",
       "      <td>0.632214</td>\n",
       "      <td>dayz</td>\n",
       "      <td>0.611538</td>\n",
       "      <td>system shock 2</td>\n",
       "      <td>0.570238</td>\n",
       "    </tr>\n",
       "    <tr>\n",
       "      <th>16</th>\n",
       "      <td>doom 3 bfg edition</td>\n",
       "      <td>0.635860</td>\n",
       "      <td>estranged act i</td>\n",
       "      <td>0.627446</td>\n",
       "      <td>fallout 3</td>\n",
       "      <td>0.610916</td>\n",
       "      <td>brigand oaxaca</td>\n",
       "      <td>0.570091</td>\n",
       "    </tr>\n",
       "    <tr>\n",
       "      <th>17</th>\n",
       "      <td>halflife 2 episode two</td>\n",
       "      <td>0.633837</td>\n",
       "      <td>dead effect</td>\n",
       "      <td>0.622996</td>\n",
       "      <td>fallout new vegas</td>\n",
       "      <td>0.609658</td>\n",
       "      <td>dead effect</td>\n",
       "      <td>0.569695</td>\n",
       "    </tr>\n",
       "    <tr>\n",
       "      <th>18</th>\n",
       "      <td>arizona sunshine</td>\n",
       "      <td>0.633773</td>\n",
       "      <td>arizona sunshine</td>\n",
       "      <td>0.621346</td>\n",
       "      <td>metro exodus</td>\n",
       "      <td>0.605598</td>\n",
       "      <td>alien isolation</td>\n",
       "      <td>0.568780</td>\n",
       "    </tr>\n",
       "    <tr>\n",
       "      <th>19</th>\n",
       "      <td>singularity™</td>\n",
       "      <td>0.629583</td>\n",
       "      <td>fallout 3 game of the year edition</td>\n",
       "      <td>0.618329</td>\n",
       "      <td>nosferatu the wrath of malachi</td>\n",
       "      <td>0.603672</td>\n",
       "      <td>witch hunt</td>\n",
       "      <td>0.568740</td>\n",
       "    </tr>\n",
       "  </tbody>\n",
       "</table>\n",
       "</div>"
      ],
      "text/plain": [
       "                                  mean  mean_similarity  \\\n",
       "0             s.t.a.l.k.e.r. clear sky         0.948137   \n",
       "1       s.t.a.l.k.e.r. call of pripyat         0.919584   \n",
       "2   s.t.a.l.k.e.r. shadow of chernobyl         0.729318   \n",
       "3               metro last light redux         0.711629   \n",
       "4                     metro 2033 redux         0.660792   \n",
       "5     time ramesside (a new reckoning)         0.658031   \n",
       "6                            fallout 3         0.657447   \n",
       "7               unreal 2 the awakening         0.652278   \n",
       "8                              far cry         0.650726   \n",
       "9                               doom 3         0.650045   \n",
       "10                               zombi         0.648982   \n",
       "11                   fallout new vegas         0.645315   \n",
       "12                         dead effect         0.638961   \n",
       "13                                dayz         0.637329   \n",
       "14                        metro exodus         0.637207   \n",
       "15      nosferatu the wrath of malachi         0.637067   \n",
       "16                  doom 3 bfg edition         0.635860   \n",
       "17              halflife 2 episode two         0.633837   \n",
       "18                    arizona sunshine         0.633773   \n",
       "19                        singularity™         0.629583   \n",
       "\n",
       "        s.t.a.l.k.e.r. call of pripyat  \\\n",
       "0             s.t.a.l.k.e.r. clear sky   \n",
       "1   s.t.a.l.k.e.r. shadow of chernobyl   \n",
       "2               metro last light redux   \n",
       "3                     metro 2033 redux   \n",
       "4                                 dayz   \n",
       "5                              far cry   \n",
       "6                   doom 3 bfg edition   \n",
       "7                  shadows of kurgansk   \n",
       "8               unreal 2 the awakening   \n",
       "9     time ramesside (a new reckoning)   \n",
       "10              halflife 2 episode two   \n",
       "11                               zombi   \n",
       "12                           fallout 3   \n",
       "13                              doom 3   \n",
       "14                   fallout new vegas   \n",
       "15                         dying light   \n",
       "16                     estranged act i   \n",
       "17                         dead effect   \n",
       "18                    arizona sunshine   \n",
       "19  fallout 3 game of the year edition   \n",
       "\n",
       "    s.t.a.l.k.e.r. call of pripyat_similarities  \\\n",
       "0                                      0.900482   \n",
       "1                                      0.778954   \n",
       "2                                      0.686936   \n",
       "3                                      0.684926   \n",
       "4                                      0.674454   \n",
       "5                                      0.668818   \n",
       "6                                      0.647770   \n",
       "7                                      0.645745   \n",
       "8                                      0.644693   \n",
       "9                                      0.643885   \n",
       "10                                     0.643496   \n",
       "11                                     0.642868   \n",
       "12                                     0.642633   \n",
       "13                                     0.636731   \n",
       "14                                     0.635039   \n",
       "15                                     0.632214   \n",
       "16                                     0.627446   \n",
       "17                                     0.622996   \n",
       "18                                     0.621346   \n",
       "19                                     0.618329   \n",
       "\n",
       "              s.t.a.l.k.e.r. clear sky  s.t.a.l.k.e.r. clear sky_similarities  \\\n",
       "0       s.t.a.l.k.e.r. call of pripyat                               0.900482   \n",
       "1   s.t.a.l.k.e.r. shadow of chernobyl                               0.829932   \n",
       "2               metro last light redux                               0.688384   \n",
       "3                     metro 2033 redux                               0.681347   \n",
       "4     time ramesside (a new reckoning)                               0.674091   \n",
       "5                                zombi                               0.661498   \n",
       "6                               doom 3                               0.652039   \n",
       "7               unreal 2 the awakening                               0.647671   \n",
       "8                   doom 3 bfg edition                               0.645029   \n",
       "9               halflife 2 episode two                               0.635007   \n",
       "10                         dead effect                               0.634053   \n",
       "11                             far cry                               0.629638   \n",
       "12                    arizona sunshine                               0.626407   \n",
       "13                     estranged act i                               0.620464   \n",
       "14                        singularity™                               0.617635   \n",
       "15                                dayz                               0.611538   \n",
       "16                           fallout 3                               0.610916   \n",
       "17                   fallout new vegas                               0.609658   \n",
       "18                        metro exodus                               0.605598   \n",
       "19      nosferatu the wrath of malachi                               0.603672   \n",
       "\n",
       "    s.t.a.l.k.e.r. shadow of chernobyl  \\\n",
       "0             s.t.a.l.k.e.r. clear sky   \n",
       "1       s.t.a.l.k.e.r. call of pripyat   \n",
       "2               metro last light redux   \n",
       "3                     metro 2033 redux   \n",
       "4       nosferatu the wrath of malachi   \n",
       "5                         metro exodus   \n",
       "6                            fallout 3   \n",
       "7                        creature hunt   \n",
       "8                    fallout new vegas   \n",
       "9                         zone anomaly   \n",
       "10  fallout 3 game of the year edition   \n",
       "11                         red faction   \n",
       "12                   a.i.m.2 clan wars   \n",
       "13                        singularity™   \n",
       "14                          i am alive   \n",
       "15                      system shock 2   \n",
       "16                      brigand oaxaca   \n",
       "17                         dead effect   \n",
       "18                     alien isolation   \n",
       "19                          witch hunt   \n",
       "\n",
       "    s.t.a.l.k.e.r. shadow of chernobyl_similarities  \n",
       "0                                          0.829932  \n",
       "1                                          0.778954  \n",
       "2                                          0.690112  \n",
       "3                                          0.648290  \n",
       "4                                          0.621481  \n",
       "5                                          0.612087  \n",
       "6                                          0.608774  \n",
       "7                                          0.601122  \n",
       "8                                          0.591957  \n",
       "9                                          0.585953  \n",
       "10                                         0.584928  \n",
       "11                                         0.581171  \n",
       "12                                         0.580771  \n",
       "13                                         0.575181  \n",
       "14                                         0.573740  \n",
       "15                                         0.570238  \n",
       "16                                         0.570091  \n",
       "17                                         0.569695  \n",
       "18                                         0.568780  \n",
       "19                                         0.568740  "
      ]
     },
     "execution_count": 26,
     "metadata": {},
     "output_type": "execute_result"
    }
   ],
   "source": [
    "make_stacked_results_df(*similarity_searcher.find_similar(chosen_games_df['name']))"
   ]
  },
  {
   "cell_type": "markdown",
   "metadata": {},
   "source": [
    "# Searching by NMF reduced data"
   ]
  },
  {
   "cell_type": "code",
   "execution_count": 27,
   "metadata": {},
   "outputs": [],
   "source": [
    "#%%time\n",
    "#steam_metadata_nmf_vectors = nmf.fit_transform(steam_metadata_vectors)"
   ]
  },
  {
   "cell_type": "code",
   "execution_count": 28,
   "metadata": {},
   "outputs": [],
   "source": [
    "#similar_games(chosen_games_df, steam_df, steam_metadata_nmf_vectors)"
   ]
  },
  {
   "cell_type": "code",
   "execution_count": 29,
   "metadata": {},
   "outputs": [],
   "source": [
    "# Recommending"
   ]
  },
  {
   "cell_type": "code",
   "execution_count": 30,
   "metadata": {},
   "outputs": [],
   "source": [
    "#export\n",
    "\n",
    "\n",
    "@attr.s\n",
    "class ContentBasedRecommender:\n",
    "    \n",
    "    similarity_searcher: MetadataSimilaritySearcher = attr.ib()\n",
    "        \n",
    "    def recommend_similar_games(self, rated_games, ratings, n_recommended, n_similar=20):\n",
    "        similar_games, similarities = self.similarity_searcher.find_similar(rated_games, n_similar=n_similar)\n",
    "        mean_similar_games = similar_games.pop('mean')\n",
    "        mean_similarities = similarities.pop('mean_similarity')\n",
    "        \n",
    "        predicted_ratings = ratings * similarities / similarities.max()\n",
    "        predicted_ratings_flat = pd.concat([predicted_ratings[col] for col in predicted_ratings.columns])\n",
    "        similar_games_flat = pd.concat([similar_games[col] for col in similar_games.columns])\n",
    "        # TODO: is this best way to handle duplicates?\n",
    "        pred_df = pd.DataFrame({\n",
    "            'game': similar_games_flat,\n",
    "            'rating ': predicted_ratings_flat\n",
    "        }).groupby('game').agg('mean')\n",
    "        predicted_ratings_flat = pred_df.iloc[:,0].values\n",
    "        similar_games_flat = pred_df.index.values\n",
    "        \n",
    "        best_rated_indices = np.argsort(predicted_ratings_flat)[::-1][:n_recommended]\n",
    "        best_ratings = predicted_ratings_flat[best_rated_indices]\n",
    "        best_rated_games = similar_games_flat[best_rated_indices]\n",
    "        return best_rated_games, best_ratings\n",
    "        \n",
    "    def recommend_mean_similar_games(self, rated_games, ratings, n_recommended, n_similar=20):\n",
    "        similar_games, similarities = self.similarity_searcher.find_similar(rated_games_df, n_similar=n_similar)\n",
    "        mean_similar_games = similar_games.pop('mean')\n",
    "        mean_similarities = similarities.pop('mean_similarity')\n",
    "        return mean_similar_games, mean_similarities"
   ]
  },
  {
   "cell_type": "code",
   "execution_count": 31,
   "metadata": {},
   "outputs": [],
   "source": [
    "ratings = [4, 5, 6]\n",
    "rated_games = chosen_games_df['name']"
   ]
  },
  {
   "cell_type": "code",
   "execution_count": 32,
   "metadata": {},
   "outputs": [],
   "source": [
    "content_recommender = ContentBasedRecommender(similarity_searcher)\n",
    "recommended_games, ratings = content_recommender.recommend_similar_games(rated_games, ratings, 20)"
   ]
  },
  {
   "cell_type": "code",
   "execution_count": 33,
   "metadata": {},
   "outputs": [
    {
     "data": {
      "text/plain": [
       "array(['s.t.a.l.k.e.r. shadow of chernobyl',\n",
       "       's.t.a.l.k.e.r. call of pripyat', 's.t.a.l.k.e.r. clear sky',\n",
       "       'time ramesside (a new reckoning)', 'zombi', 'far cry',\n",
       "       'unreal 2 the awakening', 'doom 3 bfg edition', 'doom 3', 'dayz',\n",
       "       'metro last light redux', 'halflife 2 episode two',\n",
       "       'metro 2033 redux', 'arizona sunshine', 'estranged act i',\n",
       "       'shadows of kurgansk', 'fallout 3', 'dying light',\n",
       "       'nosferatu the wrath of malachi', 'metro exodus'], dtype=object)"
      ]
     },
     "execution_count": 33,
     "metadata": {},
     "output_type": "execute_result"
    }
   ],
   "source": [
    "recommended_games"
   ]
  }
 ],
 "metadata": {
  "kernelspec": {
   "display_name": "ml",
   "language": "python",
   "name": "ml"
  },
  "language_info": {
   "codemirror_mode": {
    "name": "ipython",
    "version": 3
   },
   "file_extension": ".py",
   "mimetype": "text/x-python",
   "name": "python",
   "nbconvert_exporter": "python",
   "pygments_lexer": "ipython3",
   "version": "3.7.7"
  }
 },
 "nbformat": 4,
 "nbformat_minor": 2
}
