{
 "cells": [
  {
   "cell_type": "code",
   "execution_count": null,
   "metadata": {},
   "outputs": [],
   "source": [
    "#default_exp content_based "
   ]
  },
  {
   "cell_type": "code",
   "execution_count": 2,
   "metadata": {},
   "outputs": [],
   "source": [
    "#export \n",
    "\n",
    "import scipy\n",
    "import pandas as pd\n",
    "import numpy as np\n",
    "\n",
    "\n",
    "from sklearn import compose, feature_extraction, metrics\n",
    "from functools import reduce, partial\n",
    "import attr\n",
    "from typing import Union\n",
    "\n",
    "from game_recommender import steam_data"
   ]
  },
  {
   "cell_type": "code",
   "execution_count": 3,
   "metadata": {},
   "outputs": [
    {
     "name": "stdout",
     "output_type": "stream",
     "text": [
      "/home/kuba/Projects/game_recommender\n"
     ]
    }
   ],
   "source": [
    "%cd .."
   ]
  },
  {
   "cell_type": "code",
   "execution_count": 4,
   "metadata": {},
   "outputs": [
    {
     "data": {
      "text/plain": [
       "\u001b[0;31mSignature:\u001b[0m\n",
       "\u001b[0msteam_data\u001b[0m\u001b[0;34m.\u001b[0m\u001b[0mload_steam_df\u001b[0m\u001b[0;34m(\u001b[0m\u001b[0;34m\u001b[0m\n",
       "\u001b[0;34m\u001b[0m    \u001b[0msteam_games_metadata_path\u001b[0m\u001b[0;34m=\u001b[0m\u001b[0;34m'data/steam_games_metadata/steam_games.csv'\u001b[0m\u001b[0;34m,\u001b[0m\u001b[0;34m\u001b[0m\n",
       "\u001b[0;34m\u001b[0m\u001b[0;34m)\u001b[0m\u001b[0;34m\u001b[0m\u001b[0;34m\u001b[0m\u001b[0m\n",
       "\u001b[0;31mDocstring:\u001b[0m <no docstring>\n",
       "\u001b[0;31mSource:\u001b[0m   \n",
       "\u001b[0;32mdef\u001b[0m \u001b[0mload_steam_df\u001b[0m\u001b[0;34m(\u001b[0m\u001b[0msteam_games_metadata_path\u001b[0m\u001b[0;34m=\u001b[0m\u001b[0mSTEAM_GAME_METADATA_PATH\u001b[0m\u001b[0;34m)\u001b[0m\u001b[0;34m:\u001b[0m\u001b[0;34m\u001b[0m\n",
       "\u001b[0;34m\u001b[0m    \u001b[0;32mreturn\u001b[0m \u001b[0mclean_steam_df\u001b[0m\u001b[0;34m(\u001b[0m\u001b[0mpd\u001b[0m\u001b[0;34m.\u001b[0m\u001b[0mread_csv\u001b[0m\u001b[0;34m(\u001b[0m\u001b[0msteam_games_metadata_path\u001b[0m\u001b[0;34m)\u001b[0m\u001b[0;34m)\u001b[0m\u001b[0;34m\u001b[0m\u001b[0;34m\u001b[0m\u001b[0m\n",
       "\u001b[0;31mFile:\u001b[0m      ~/Projects/game_recommender/game_recommender/steam_data.py\n",
       "\u001b[0;31mType:\u001b[0m      function\n"
      ]
     },
     "metadata": {},
     "output_type": "display_data"
    }
   ],
   "source": [
    "??steam_data.load_steam_df"
   ]
  },
  {
   "cell_type": "code",
   "execution_count": 5,
   "metadata": {},
   "outputs": [],
   "source": [
    "steam_df = steam_data.load_steam_df() "
   ]
  },
  {
   "cell_type": "code",
   "execution_count": 6,
   "metadata": {},
   "outputs": [],
   "source": [
    "chosen_games_substring = 's.t.a.l.k'"
   ]
  },
  {
   "cell_type": "code",
   "execution_count": 7,
   "metadata": {},
   "outputs": [],
   "source": [
    "chosen_games_df = steam_data.get_games_by_name(steam_df, chosen_games_substring) "
   ]
  },
  {
   "cell_type": "code",
   "execution_count": 8,
   "metadata": {},
   "outputs": [
    {
     "data": {
      "text/plain": [
       "376     s.t.a.l.k.e.r. shadow of chernobyl\n",
       "1276        s.t.a.l.k.e.r. call of pripyat\n",
       "7253              s.t.a.l.k.e.r. clear sky\n",
       "Name: name, dtype: object"
      ]
     },
     "execution_count": 8,
     "metadata": {},
     "output_type": "execute_result"
    }
   ],
   "source": [
    "chosen_games_df['name']"
   ]
  },
  {
   "cell_type": "code",
   "execution_count": 9,
   "metadata": {},
   "outputs": [
    {
     "data": {
      "text/plain": [
       "'atmospheric,post-apocalyptic,open world,fps,survival,masterpiece,action,rpg,survival horror,shooter,horror,first-person,singleplayer,classic,based on a novel,moddable,adventure,sci-fi,inventory management,difficult'"
      ]
     },
     "execution_count": 9,
     "metadata": {},
     "output_type": "execute_result"
    }
   ],
   "source": [
    "chosen_games_df.iloc[0]['popular_tags']"
   ]
  },
  {
   "cell_type": "code",
   "execution_count": 10,
   "metadata": {},
   "outputs": [
    {
     "data": {
      "text/plain": [
       "'single-player,multi-player'"
      ]
     },
     "execution_count": 10,
     "metadata": {},
     "output_type": "execute_result"
    }
   ],
   "source": [
    "chosen_games_df.iloc[0]['game_details']"
   ]
  },
  {
   "cell_type": "code",
   "execution_count": 11,
   "metadata": {},
   "outputs": [
    {
     "data": {
      "text/plain": [
       "'action,rpg'"
      ]
     },
     "execution_count": 11,
     "metadata": {},
     "output_type": "execute_result"
    }
   ],
   "source": [
    "chosen_games_df.iloc[0]['genre']"
   ]
  },
  {
   "cell_type": "code",
   "execution_count": 12,
   "metadata": {},
   "outputs": [
    {
     "data": {
      "text/plain": [
       "\" About This Game In 1986, the world's worst nuclear disaster occurred at the Chernobyl Nuclear Power Plant. Soviet authorities established an 'Exclusion Zone' around, but a second explosion hit the reactor in 2006, creating The Zone as we know it – dangerous place, filled with mutated creatures, deadly radiation, and a strange, anomalous energy. The Zone was cordoned off by the military, who would shoot on sight anyone foolish enough to get inside.  Year 2012. The Zone is still a dangerous place and a threat to all mankind. Mercenaries, bounty hunters and explorers ventured further and further into the heart of the Zone driven by reports of strange 'artifacts' imbued with anomalous energy. To sell them on the black market or trying to find the 'truth' behind the Zone. Whatever their motivation, over time these individuals - Scavengers, Trespassers, Adventurers, Loners, Killers, Explorers and Robbers - have become known as S.T.A.L.K.E.R.s.  You will have to find your own way to survive in the Zone!  An immersive storyline, seamlessly blended with a living, breathing, non-linear open-world environment. An accurately modeled real-world buildings and locations from deep inside of the Chernobyl Exclusion Zone. Unique 'Survival FPS' gameplay, which combines action, stealth, survival and RPG elements - to create an incomparable experience in the Zone. Enemy Threat Evaluation AI system - NPC characters react to changes in environments and situations. Realistic combat mechanics with accurate ballistic properties. Dynamic day-night cycle and weather system, that directly impacts gameplay. Advanced physics and dynamic lighting effects powered by the 'X-Ray Engine'. Intense multiplayer action, supporting up to 32 players. \""
      ]
     },
     "execution_count": 12,
     "metadata": {},
     "output_type": "execute_result"
    }
   ],
   "source": [
    "chosen_games_df['game_description'].iloc[0]"
   ]
  },
  {
   "cell_type": "code",
   "execution_count": 13,
   "metadata": {},
   "outputs": [
    {
     "data": {
      "text/plain": [
       "'atmospheric,post-apocalyptic,open world,fps,survival,masterpiece,action,rpg,survival horror,shooter,horror,first-person,singleplayer,classic,based on a novel,moddable,adventure,sci-fi,inventory management,difficult'"
      ]
     },
     "execution_count": 13,
     "metadata": {},
     "output_type": "execute_result"
    }
   ],
   "source": [
    "chosen_games_df['popular_tags'].iloc[0]"
   ]
  },
  {
   "cell_type": "code",
   "execution_count": 14,
   "metadata": {},
   "outputs": [],
   "source": [
    "game_descriptions = steam_df['game_description']"
   ]
  },
  {
   "cell_type": "markdown",
   "metadata": {},
   "source": [
    "# Finding games with similar descriptions"
   ]
  },
  {
   "cell_type": "code",
   "execution_count": 15,
   "metadata": {},
   "outputs": [],
   "source": [
    "from collections import defaultdict"
   ]
  },
  {
   "cell_type": "code",
   "execution_count": 16,
   "metadata": {},
   "outputs": [],
   "source": [
    "#export\n",
    "\n",
    "def split_by_comma_tokenizer(text):\n",
    "    return text.split(',') \n",
    "\n",
    "\n",
    "def _regroup_weights(weights, column_groups):\n",
    "    assert len(weights) == len(column_groups), 'specify weight for each column group'\n",
    "    return {\n",
    "        col: weight / len(col_group)\n",
    "        for (weight, col_group) in zip(weights, column_groups)\n",
    "        for col in col_group\n",
    "    }\n",
    "\n",
    "\n",
    "def make_df_column_vectorizer(\n",
    "        column_groups,\n",
    "        vectorizer_classes=feature_extraction.text.TfidfVectorizer,\n",
    "        weights=None,\n",
    "        tokenizers=None\n",
    "    ):\n",
    "    if type(vectorizer_classes) is not list:\n",
    "        vectorizer_classes = [vectorizer_classes for __ in range(len(column_groups))]\n",
    "    if tokenizers is None:\n",
    "        tokenizers = [None for __ in range(len(column_groups))]\n",
    "    vectorizers = [vectorizer_class(tokenizer=tokenizer) for (vectorizer_class, grp, tokenizer) in zip(vectorizer_classes, column_groups, tokenizers)] \n",
    "    if type(weights) is list:\n",
    "        weights = _regroup_weights(weights, column_groups)\n",
    "    \n",
    "    return compose.ColumnTransformer(\n",
    "        [\n",
    "            (col + '_tfidf', vectorizer, col)\n",
    "            for columns, vectorizer in zip(column_groups, vectorizers)\n",
    "            for col in columns\n",
    "        ],\n",
    "        transformer_weights=weights\n",
    "    )"
   ]
  },
  {
   "cell_type": "code",
   "execution_count": 17,
   "metadata": {},
   "outputs": [],
   "source": [
    "vectorizer = make_df_column_vectorizer([\n",
    "        ['popular_tags'],\n",
    "        ['game_description', 'desc_snippet'],\n",
    "    ],\n",
    "    vectorizer_classes=partial(\n",
    "            feature_extraction.text.TfidfVectorizer,\n",
    "            binary=True,\n",
    "            min_df=5\n",
    "    ),\n",
    "    tokenizers=[split_by_comma_tokenizer, None]\n",
    ")\n",
    "\n",
    "steam_metadata_vectors = vectorizer.fit_transform(steam_df)"
   ]
  },
  {
   "cell_type": "code",
   "execution_count": 18,
   "metadata": {},
   "outputs": [
    {
     "data": {
      "text/plain": [
       "(24210, 21)"
      ]
     },
     "execution_count": 18,
     "metadata": {},
     "output_type": "execute_result"
    }
   ],
   "source": [
    "steam_df.shape"
   ]
  },
  {
   "cell_type": "code",
   "execution_count": 19,
   "metadata": {},
   "outputs": [
    {
     "data": {
      "text/plain": [
       "(24210, 31455)"
      ]
     },
     "execution_count": 19,
     "metadata": {},
     "output_type": "execute_result"
    }
   ],
   "source": [
    "steam_metadata_vectors.shape"
   ]
  },
  {
   "cell_type": "code",
   "execution_count": 20,
   "metadata": {},
   "outputs": [],
   "source": [
    "#export\n",
    "\n",
    "@attr.s\n",
    "class SimilaritySearcher:\n",
    "    \n",
    "    df: pd.DataFrame = attr.ib()\n",
    "    vectors: Union[scipy.sparse.csr.csr_matrix, np.array] = attr.ib()\n",
    "    similarity = attr.ib(default=metrics.pairwise.cosine_similarity)\n",
    "    name_col = attr.ib(default='name')\n",
    "    \n",
    "    def find_similar(\n",
    "            self,\n",
    "            chosen_items,\n",
    "            n_similar=20):\n",
    "        def get_names_from_indices(indices):\n",
    "            return self.df[self.name_col].iloc[indices].values\n",
    "\n",
    "        idxs = self.df[self.df[self.name_col].isin(chosen_items)].index\n",
    "        chosen_vectors = self.vectors[idxs]\n",
    "        mean_vector = chosen_vectors.mean(axis=0)\n",
    "        similarities = self.similarity(chosen_vectors, self.vectors)\n",
    "        similarity_sorted_indices = similarities.argsort(axis=1)[:,::-1]\n",
    "        similarities_sorted = np.array([similarities[i, similarity_sorted_indices[i]] for i in range(len(chosen_items))])\n",
    "        mean_similarity = self.similarity(mean_vector.reshape(1,-1), self.vectors)\n",
    "        mean_similarity_sorted_indices = mean_similarity.argsort(axis=1)[:,::-1]\n",
    "        mean_similarities_sorted = mean_similarity[0,mean_similarity_sorted_indices.reshape(-1)]\n",
    "\n",
    "        mean_similar = get_names_from_indices(mean_similarity_sorted_indices[0][:n_similar])\n",
    "        game_names = {}\n",
    "        similarities = {}\n",
    "    \n",
    "        for (i, name) in enumerate(chosen_items):\n",
    "            game_names[str(name)] = ( \n",
    "                    get_names_from_indices(\n",
    "                        similarity_sorted_indices[i][1:n_similar+1]\n",
    "                    )\n",
    "            )\n",
    "            similarities[str(name) + '_similarities'] = similarities_sorted[i][:n_similar]\n",
    "\n",
    "        game_names['mean'] = mean_similar\n",
    "        similarities['mean_similarity'] = mean_similarities_sorted[1:n_similar+1] \n",
    "        return pd.DataFrame(game_names), pd.DataFrame(similarities)"
   ]
  },
  {
   "cell_type": "code",
   "execution_count": 21,
   "metadata": {},
   "outputs": [],
   "source": [
    "#export\n",
    "\n",
    "def make_stacked_results_df(game_names, similarities):\n",
    "    df = pd.concat([game_names, similarities], axis=1)\n",
    "    return df.reindex(sorted(df.columns), axis=1)"
   ]
  },
  {
   "cell_type": "code",
   "execution_count": 22,
   "metadata": {},
   "outputs": [],
   "source": [
    "metadata_df = steam_df\n",
    "n_similar=20\n",
    "metadata_vectors = steam_metadata_vectors\n"
   ]
  },
  {
   "cell_type": "code",
   "execution_count": 23,
   "metadata": {},
   "outputs": [],
   "source": [
    "from sklearn import decomposition\n",
    "\n",
    "n_components = 250\n",
    "\n",
    "\n",
    "tsvd = decomposition.TruncatedSVD(n_components=n_components)\n",
    "nmf = decomposition.NMF(n_components=n_components, solver='mu')"
   ]
  },
  {
   "cell_type": "code",
   "execution_count": 24,
   "metadata": {},
   "outputs": [
    {
     "name": "stdout",
     "output_type": "stream",
     "text": [
      "CPU times: user 33.4 s, sys: 16.5 s, total: 49.8 s\n",
      "Wall time: 11.8 s\n"
     ]
    }
   ],
   "source": [
    "%%time\n",
    "steam_metadata_reduced_vectors = tsvd.fit_transform(steam_metadata_vectors)"
   ]
  },
  {
   "cell_type": "code",
   "execution_count": 25,
   "metadata": {},
   "outputs": [],
   "source": [
    "similarity_searcher = SimilaritySearcher(steam_df, steam_metadata_reduced_vectors)"
   ]
  },
  {
   "cell_type": "markdown",
   "metadata": {},
   "source": [
    "# Searching by SVD reduced data"
   ]
  },
  {
   "cell_type": "code",
   "execution_count": null,
   "metadata": {},
   "outputs": [],
   "source": []
  },
  {
   "cell_type": "code",
   "execution_count": 26,
   "metadata": {},
   "outputs": [
    {
     "data": {
      "text/html": [
       "<div>\n",
       "<style scoped>\n",
       "    .dataframe tbody tr th:only-of-type {\n",
       "        vertical-align: middle;\n",
       "    }\n",
       "\n",
       "    .dataframe tbody tr th {\n",
       "        vertical-align: top;\n",
       "    }\n",
       "\n",
       "    .dataframe thead th {\n",
       "        text-align: right;\n",
       "    }\n",
       "</style>\n",
       "<table border=\"1\" class=\"dataframe\">\n",
       "  <thead>\n",
       "    <tr style=\"text-align: right;\">\n",
       "      <th></th>\n",
       "      <th>mean</th>\n",
       "      <th>mean_similarity</th>\n",
       "      <th>s.t.a.l.k.e.r. call of pripyat</th>\n",
       "      <th>s.t.a.l.k.e.r. call of pripyat_similarities</th>\n",
       "      <th>s.t.a.l.k.e.r. clear sky</th>\n",
       "      <th>s.t.a.l.k.e.r. clear sky_similarities</th>\n",
       "      <th>s.t.a.l.k.e.r. shadow of chernobyl</th>\n",
       "      <th>s.t.a.l.k.e.r. shadow of chernobyl_similarities</th>\n",
       "    </tr>\n",
       "  </thead>\n",
       "  <tbody>\n",
       "    <tr>\n",
       "      <th>0</th>\n",
       "      <td>s.t.a.l.k.e.r. clear sky</td>\n",
       "      <td>0.947670</td>\n",
       "      <td>s.t.a.l.k.e.r. clear sky</td>\n",
       "      <td>1.000000</td>\n",
       "      <td>s.t.a.l.k.e.r. call of pripyat</td>\n",
       "      <td>1.000000</td>\n",
       "      <td>s.t.a.l.k.e.r. clear sky</td>\n",
       "      <td>1.000000</td>\n",
       "    </tr>\n",
       "    <tr>\n",
       "      <th>1</th>\n",
       "      <td>s.t.a.l.k.e.r. call of pripyat</td>\n",
       "      <td>0.918316</td>\n",
       "      <td>s.t.a.l.k.e.r. shadow of chernobyl</td>\n",
       "      <td>0.899797</td>\n",
       "      <td>s.t.a.l.k.e.r. shadow of chernobyl</td>\n",
       "      <td>0.899797</td>\n",
       "      <td>s.t.a.l.k.e.r. call of pripyat</td>\n",
       "      <td>0.830202</td>\n",
       "    </tr>\n",
       "    <tr>\n",
       "      <th>2</th>\n",
       "      <td>s.t.a.l.k.e.r. shadow of chernobyl</td>\n",
       "      <td>0.737528</td>\n",
       "      <td>metro last light redux</td>\n",
       "      <td>0.775911</td>\n",
       "      <td>metro last light redux</td>\n",
       "      <td>0.830202</td>\n",
       "      <td>metro last light redux</td>\n",
       "      <td>0.775911</td>\n",
       "    </tr>\n",
       "    <tr>\n",
       "      <th>3</th>\n",
       "      <td>metro last light redux</td>\n",
       "      <td>0.721175</td>\n",
       "      <td>metro 2033 redux</td>\n",
       "      <td>0.687445</td>\n",
       "      <td>metro 2033 redux</td>\n",
       "      <td>0.696545</td>\n",
       "      <td>metro 2033 redux</td>\n",
       "      <td>0.704464</td>\n",
       "    </tr>\n",
       "    <tr>\n",
       "      <th>4</th>\n",
       "      <td>metro 2033 redux</td>\n",
       "      <td>0.671775</td>\n",
       "      <td>dayz</td>\n",
       "      <td>0.684979</td>\n",
       "      <td>time ramesside a new reckoning</td>\n",
       "      <td>0.687418</td>\n",
       "      <td>metro exodus</td>\n",
       "      <td>0.668832</td>\n",
       "    </tr>\n",
       "    <tr>\n",
       "      <th>5</th>\n",
       "      <td>time ramesside a new reckoning</td>\n",
       "      <td>0.664509</td>\n",
       "      <td>far cry</td>\n",
       "      <td>0.676159</td>\n",
       "      <td>zombi</td>\n",
       "      <td>0.678284</td>\n",
       "      <td>nosferatu the wrath of malachi</td>\n",
       "      <td>0.630517</td>\n",
       "    </tr>\n",
       "    <tr>\n",
       "      <th>6</th>\n",
       "      <td>unreal 2 the awakening</td>\n",
       "      <td>0.658309</td>\n",
       "      <td>shadows of kurgansk</td>\n",
       "      <td>0.672839</td>\n",
       "      <td>doom 3</td>\n",
       "      <td>0.670487</td>\n",
       "      <td>creature hunt</td>\n",
       "      <td>0.628873</td>\n",
       "    </tr>\n",
       "    <tr>\n",
       "      <th>7</th>\n",
       "      <td>fallout 3</td>\n",
       "      <td>0.657512</td>\n",
       "      <td>time ramesside a new reckoning</td>\n",
       "      <td>0.649991</td>\n",
       "      <td>unreal 2 the awakening</td>\n",
       "      <td>0.651587</td>\n",
       "      <td>fallout 3</td>\n",
       "      <td>0.608828</td>\n",
       "    </tr>\n",
       "    <tr>\n",
       "      <th>8</th>\n",
       "      <td>far cry</td>\n",
       "      <td>0.656840</td>\n",
       "      <td>unreal 2 the awakening</td>\n",
       "      <td>0.649415</td>\n",
       "      <td>dead effect</td>\n",
       "      <td>0.646362</td>\n",
       "      <td>fallout new vegas</td>\n",
       "      <td>0.607839</td>\n",
       "    </tr>\n",
       "    <tr>\n",
       "      <th>9</th>\n",
       "      <td>dead effect</td>\n",
       "      <td>0.656077</td>\n",
       "      <td>doom 3 bfg edition</td>\n",
       "      <td>0.647965</td>\n",
       "      <td>doom 3 bfg edition</td>\n",
       "      <td>0.645923</td>\n",
       "      <td>fallout 3 game of the year edition</td>\n",
       "      <td>0.602699</td>\n",
       "    </tr>\n",
       "    <tr>\n",
       "      <th>10</th>\n",
       "      <td>fallout new vegas</td>\n",
       "      <td>0.653536</td>\n",
       "      <td>fallout 3</td>\n",
       "      <td>0.645626</td>\n",
       "      <td>half life 2 episode two</td>\n",
       "      <td>0.642361</td>\n",
       "      <td>singularity</td>\n",
       "      <td>0.596164</td>\n",
       "    </tr>\n",
       "    <tr>\n",
       "      <th>11</th>\n",
       "      <td>zombi</td>\n",
       "      <td>0.652921</td>\n",
       "      <td>half life 2 episode two</td>\n",
       "      <td>0.643151</td>\n",
       "      <td>far cry</td>\n",
       "      <td>0.636583</td>\n",
       "      <td>a.i.m.2 clan wars</td>\n",
       "      <td>0.592199</td>\n",
       "    </tr>\n",
       "    <tr>\n",
       "      <th>12</th>\n",
       "      <td>doom 3</td>\n",
       "      <td>0.647609</td>\n",
       "      <td>fallout new vegas</td>\n",
       "      <td>0.642471</td>\n",
       "      <td>arizona sunshine</td>\n",
       "      <td>0.632629</td>\n",
       "      <td>red faction</td>\n",
       "      <td>0.591155</td>\n",
       "    </tr>\n",
       "    <tr>\n",
       "      <th>13</th>\n",
       "      <td>metro exodus</td>\n",
       "      <td>0.645121</td>\n",
       "      <td>estranged act i</td>\n",
       "      <td>0.639737</td>\n",
       "      <td>estranged act i</td>\n",
       "      <td>0.630231</td>\n",
       "      <td>unreal 2 the awakening</td>\n",
       "      <td>0.585264</td>\n",
       "    </tr>\n",
       "    <tr>\n",
       "      <th>14</th>\n",
       "      <td>dayz</td>\n",
       "      <td>0.645106</td>\n",
       "      <td>zombi</td>\n",
       "      <td>0.637395</td>\n",
       "      <td>singularity</td>\n",
       "      <td>0.629831</td>\n",
       "      <td>system shock 2</td>\n",
       "      <td>0.585254</td>\n",
       "    </tr>\n",
       "    <tr>\n",
       "      <th>15</th>\n",
       "      <td>nosferatu the wrath of malachi</td>\n",
       "      <td>0.644066</td>\n",
       "      <td>doom 3</td>\n",
       "      <td>0.636526</td>\n",
       "      <td>dayz</td>\n",
       "      <td>0.623417</td>\n",
       "      <td>zone anomaly</td>\n",
       "      <td>0.584411</td>\n",
       "    </tr>\n",
       "    <tr>\n",
       "      <th>16</th>\n",
       "      <td>half life 2 episode two</td>\n",
       "      <td>0.641377</td>\n",
       "      <td>dead effect</td>\n",
       "      <td>0.634565</td>\n",
       "      <td>nosferatu the wrath of malachi</td>\n",
       "      <td>0.618999</td>\n",
       "      <td>alien isolation</td>\n",
       "      <td>0.582609</td>\n",
       "    </tr>\n",
       "    <tr>\n",
       "      <th>17</th>\n",
       "      <td>singularity</td>\n",
       "      <td>0.639309</td>\n",
       "      <td>dying light</td>\n",
       "      <td>0.632998</td>\n",
       "      <td>fallout new vegas</td>\n",
       "      <td>0.614819</td>\n",
       "      <td>dead effect</td>\n",
       "      <td>0.580561</td>\n",
       "    </tr>\n",
       "    <tr>\n",
       "      <th>18</th>\n",
       "      <td>arizona sunshine</td>\n",
       "      <td>0.639178</td>\n",
       "      <td>arizona sunshine</td>\n",
       "      <td>0.631615</td>\n",
       "      <td>fallout 3</td>\n",
       "      <td>0.613567</td>\n",
       "      <td>time ramesside a new reckoning</td>\n",
       "      <td>0.579389</td>\n",
       "    </tr>\n",
       "    <tr>\n",
       "      <th>19</th>\n",
       "      <td>doom 3 bfg edition</td>\n",
       "      <td>0.634432</td>\n",
       "      <td>fallout 3 game of the year edition</td>\n",
       "      <td>0.619216</td>\n",
       "      <td>metro exodus</td>\n",
       "      <td>0.611292</td>\n",
       "      <td>affliction</td>\n",
       "      <td>0.572535</td>\n",
       "    </tr>\n",
       "  </tbody>\n",
       "</table>\n",
       "</div>"
      ],
      "text/plain": [
       "                                  mean  mean_similarity  \\\n",
       "0             s.t.a.l.k.e.r. clear sky         0.947670   \n",
       "1       s.t.a.l.k.e.r. call of pripyat         0.918316   \n",
       "2   s.t.a.l.k.e.r. shadow of chernobyl         0.737528   \n",
       "3               metro last light redux         0.721175   \n",
       "4                     metro 2033 redux         0.671775   \n",
       "5       time ramesside a new reckoning         0.664509   \n",
       "6               unreal 2 the awakening         0.658309   \n",
       "7                            fallout 3         0.657512   \n",
       "8                              far cry         0.656840   \n",
       "9                          dead effect         0.656077   \n",
       "10                   fallout new vegas         0.653536   \n",
       "11                               zombi         0.652921   \n",
       "12                              doom 3         0.647609   \n",
       "13                        metro exodus         0.645121   \n",
       "14                                dayz         0.645106   \n",
       "15      nosferatu the wrath of malachi         0.644066   \n",
       "16             half life 2 episode two         0.641377   \n",
       "17                         singularity         0.639309   \n",
       "18                    arizona sunshine         0.639178   \n",
       "19                  doom 3 bfg edition         0.634432   \n",
       "\n",
       "        s.t.a.l.k.e.r. call of pripyat  \\\n",
       "0             s.t.a.l.k.e.r. clear sky   \n",
       "1   s.t.a.l.k.e.r. shadow of chernobyl   \n",
       "2               metro last light redux   \n",
       "3                     metro 2033 redux   \n",
       "4                                 dayz   \n",
       "5                              far cry   \n",
       "6                  shadows of kurgansk   \n",
       "7       time ramesside a new reckoning   \n",
       "8               unreal 2 the awakening   \n",
       "9                   doom 3 bfg edition   \n",
       "10                           fallout 3   \n",
       "11             half life 2 episode two   \n",
       "12                   fallout new vegas   \n",
       "13                     estranged act i   \n",
       "14                               zombi   \n",
       "15                              doom 3   \n",
       "16                         dead effect   \n",
       "17                         dying light   \n",
       "18                    arizona sunshine   \n",
       "19  fallout 3 game of the year edition   \n",
       "\n",
       "    s.t.a.l.k.e.r. call of pripyat_similarities  \\\n",
       "0                                      1.000000   \n",
       "1                                      0.899797   \n",
       "2                                      0.775911   \n",
       "3                                      0.687445   \n",
       "4                                      0.684979   \n",
       "5                                      0.676159   \n",
       "6                                      0.672839   \n",
       "7                                      0.649991   \n",
       "8                                      0.649415   \n",
       "9                                      0.647965   \n",
       "10                                     0.645626   \n",
       "11                                     0.643151   \n",
       "12                                     0.642471   \n",
       "13                                     0.639737   \n",
       "14                                     0.637395   \n",
       "15                                     0.636526   \n",
       "16                                     0.634565   \n",
       "17                                     0.632998   \n",
       "18                                     0.631615   \n",
       "19                                     0.619216   \n",
       "\n",
       "              s.t.a.l.k.e.r. clear sky  s.t.a.l.k.e.r. clear sky_similarities  \\\n",
       "0       s.t.a.l.k.e.r. call of pripyat                               1.000000   \n",
       "1   s.t.a.l.k.e.r. shadow of chernobyl                               0.899797   \n",
       "2               metro last light redux                               0.830202   \n",
       "3                     metro 2033 redux                               0.696545   \n",
       "4       time ramesside a new reckoning                               0.687418   \n",
       "5                                zombi                               0.678284   \n",
       "6                               doom 3                               0.670487   \n",
       "7               unreal 2 the awakening                               0.651587   \n",
       "8                          dead effect                               0.646362   \n",
       "9                   doom 3 bfg edition                               0.645923   \n",
       "10             half life 2 episode two                               0.642361   \n",
       "11                             far cry                               0.636583   \n",
       "12                    arizona sunshine                               0.632629   \n",
       "13                     estranged act i                               0.630231   \n",
       "14                         singularity                               0.629831   \n",
       "15                                dayz                               0.623417   \n",
       "16      nosferatu the wrath of malachi                               0.618999   \n",
       "17                   fallout new vegas                               0.614819   \n",
       "18                           fallout 3                               0.613567   \n",
       "19                        metro exodus                               0.611292   \n",
       "\n",
       "    s.t.a.l.k.e.r. shadow of chernobyl  \\\n",
       "0             s.t.a.l.k.e.r. clear sky   \n",
       "1       s.t.a.l.k.e.r. call of pripyat   \n",
       "2               metro last light redux   \n",
       "3                     metro 2033 redux   \n",
       "4                         metro exodus   \n",
       "5       nosferatu the wrath of malachi   \n",
       "6                        creature hunt   \n",
       "7                            fallout 3   \n",
       "8                    fallout new vegas   \n",
       "9   fallout 3 game of the year edition   \n",
       "10                         singularity   \n",
       "11                   a.i.m.2 clan wars   \n",
       "12                         red faction   \n",
       "13              unreal 2 the awakening   \n",
       "14                      system shock 2   \n",
       "15                        zone anomaly   \n",
       "16                     alien isolation   \n",
       "17                         dead effect   \n",
       "18      time ramesside a new reckoning   \n",
       "19                          affliction   \n",
       "\n",
       "    s.t.a.l.k.e.r. shadow of chernobyl_similarities  \n",
       "0                                          1.000000  \n",
       "1                                          0.830202  \n",
       "2                                          0.775911  \n",
       "3                                          0.704464  \n",
       "4                                          0.668832  \n",
       "5                                          0.630517  \n",
       "6                                          0.628873  \n",
       "7                                          0.608828  \n",
       "8                                          0.607839  \n",
       "9                                          0.602699  \n",
       "10                                         0.596164  \n",
       "11                                         0.592199  \n",
       "12                                         0.591155  \n",
       "13                                         0.585264  \n",
       "14                                         0.585254  \n",
       "15                                         0.584411  \n",
       "16                                         0.582609  \n",
       "17                                         0.580561  \n",
       "18                                         0.579389  \n",
       "19                                         0.572535  "
      ]
     },
     "execution_count": 26,
     "metadata": {},
     "output_type": "execute_result"
    }
   ],
   "source": [
    "make_stacked_results_df(*similarity_searcher.find_similar(chosen_games_df['name']))"
   ]
  },
  {
   "cell_type": "markdown",
   "metadata": {},
   "source": [
    "# Searching by NMF reduced data"
   ]
  },
  {
   "cell_type": "code",
   "execution_count": 27,
   "metadata": {},
   "outputs": [],
   "source": [
    "#%%time\n",
    "#steam_metadata_nmf_vectors = nmf.fit_transform(steam_metadata_vectors)"
   ]
  },
  {
   "cell_type": "code",
   "execution_count": 28,
   "metadata": {},
   "outputs": [],
   "source": [
    "#similar_games(chosen_games_df, steam_df, steam_metadata_nmf_vectors)"
   ]
  },
  {
   "cell_type": "code",
   "execution_count": 29,
   "metadata": {},
   "outputs": [],
   "source": [
    "# Recommending"
   ]
  },
  {
   "cell_type": "code",
   "execution_count": 30,
   "metadata": {},
   "outputs": [],
   "source": [
    "#export\n",
    "\n",
    "\n",
    "@attr.s\n",
    "class ContentBasedRecommender:\n",
    "    \n",
    "    similarity_searcher: SimilaritySearcher = attr.ib()\n",
    "        \n",
    "    def recommend_similar_games(self, rated_games, ratings, n_recommended, n_similar=20):\n",
    "        similar_games, similarities = self.similarity_searcher.find_similar(rated_games, n_similar=n_similar)\n",
    "        mean_similar_games = similar_games.pop('mean')\n",
    "        mean_similarities = similarities.pop('mean_similarity')\n",
    "        \n",
    "        predicted_ratings = ratings * similarities / similarities.max()\n",
    "        predicted_ratings_flat = pd.concat([predicted_ratings[col] for col in predicted_ratings.columns])\n",
    "        similar_games_flat = pd.concat([similar_games[col] for col in similar_games.columns])\n",
    "        # TODO: is this best way to handle duplicates?\n",
    "        pred_df = pd.DataFrame({\n",
    "            'game': similar_games_flat,\n",
    "            'rating ': predicted_ratings_flat\n",
    "        }).groupby('game').agg('mean')\n",
    "        predicted_ratings_flat = pred_df.iloc[:,0].values\n",
    "        similar_games_flat = pred_df.index.values\n",
    "        \n",
    "        best_rated_indices = np.argsort(predicted_ratings_flat)[::-1][:n_recommended]\n",
    "        best_ratings = predicted_ratings_flat[best_rated_indices]\n",
    "        best_rated_games = similar_games_flat[best_rated_indices]\n",
    "        return best_rated_games, best_ratings\n",
    "        \n",
    "    def recommend_mean_similar_games(self, rated_games, ratings, n_recommended, n_similar=20):\n",
    "        similar_games, similarities = self.similarity_searcher.find_similar(rated_games_df, n_similar=n_similar)\n",
    "        mean_similar_games = similar_games.pop('mean')\n",
    "        mean_similarities = similarities.pop('mean_similarity')\n",
    "        return mean_similar_games, mean_similarities"
   ]
  },
  {
   "cell_type": "code",
   "execution_count": 31,
   "metadata": {},
   "outputs": [],
   "source": [
    "ratings = [4, 5, 6]\n",
    "rated_games = chosen_games_df['name']"
   ]
  },
  {
   "cell_type": "code",
   "execution_count": 32,
   "metadata": {},
   "outputs": [],
   "source": [
    "content_recommender = ContentBasedRecommender(similarity_searcher)\n",
    "recommended_games, ratings = content_recommender.recommend_similar_games(rated_games, ratings, 20)"
   ]
  },
  {
   "cell_type": "code",
   "execution_count": 33,
   "metadata": {},
   "outputs": [
    {
     "data": {
      "text/plain": [
       "array(['s.t.a.l.k.e.r. shadow of chernobyl',\n",
       "       's.t.a.l.k.e.r. call of pripyat', 's.t.a.l.k.e.r. clear sky',\n",
       "       'metro last light redux', 'zombi', 'doom 3', 'far cry', 'dayz',\n",
       "       'doom 3 bfg edition', 'half life 2 episode two', 'estranged act i',\n",
       "       'metro 2033 redux', 'arizona sunshine', 'shadows of kurgansk',\n",
       "       'time ramesside a new reckoning', 'metro exodus',\n",
       "       'unreal 2 the awakening', 'dying light', 'dead effect',\n",
       "       'nosferatu the wrath of malachi'], dtype=object)"
      ]
     },
     "execution_count": 33,
     "metadata": {},
     "output_type": "execute_result"
    }
   ],
   "source": [
    "recommended_games"
   ]
  },
  {
   "cell_type": "markdown",
   "metadata": {},
   "source": [
    "# User-based"
   ]
  },
  {
   "cell_type": "code",
   "execution_count": 34,
   "metadata": {},
   "outputs": [],
   "source": [
    "import os\n",
    "import pickle\n",
    "\n",
    "game_dataset_pickle_path = 'data/game_dataset.pkl'\n",
    "if os.path.exists(game_dataset_pickle_path):\n",
    "    game_dataset_raw = pickle.load(open(game_dataset_pickle_path, 'rb'))\n",
    "else:\n",
    "    steam_ratings_df = steam_data.filter_ratings_with_metadata(raw_steam_ratings_df)\n",
    "    game_dataset_raw = steam_data.RecommenderDataset.make_implicit_feedback_dataset(steam_ratings_df)\n",
    "    pickle.dump(game_dataset_raw, open(game_dataset_pickle_path, 'wb'))\n",
    "\n",
    "game_dataset = (\n",
    "    game_dataset_raw\n",
    "    .filter_out_insufficient_reviews('user_id', 5)\n",
    "    .filter_out_insufficient_reviews('name', 2)\n",
    ")"
   ]
  },
  {
   "cell_type": "code",
   "execution_count": 35,
   "metadata": {},
   "outputs": [],
   "source": [
    "user_game_matrix = steam_data.get_item_user_matrix(game_dataset)"
   ]
  },
  {
   "cell_type": "code",
   "execution_count": 36,
   "metadata": {},
   "outputs": [],
   "source": [
    "steam_ratings_df, target = game_dataset.data, game_dataset.target\n"
   ]
  },
  {
   "cell_type": "code",
   "execution_count": 38,
   "metadata": {},
   "outputs": [],
   "source": [
    "#export\n",
    "\n",
    "\n",
    "@attr.s\n",
    "class UserBasedRecommender:\n",
    "    \n",
    "    user_similarity_searcher: SimilaritySearcher = attr.ib()\n",
    "    ratings_matrix = attr.ib()\n",
    "    games = attr.ib()\n",
    "        \n",
    "    def recommend_games_from_similar_users(self, user_id, n_recommended, n_similar=5):\n",
    "        similar_users, similarities = self.user_similarity_searcher.find_similar([user_id], n_similar=n_similar)\n",
    "        mean_similar_users = similar_users.pop('mean')\n",
    "        mean_similarities = similarities.pop('mean_similarity')\n",
    "        similarities = similarities.values.reshape(-1)\n",
    "        similar_user_idxs = self.user_similarity_searcher.df[self.user_similarity_searcher.df['user_id'].isin(similar_users.values.reshape(-1))].index\n",
    "        similar_users_ratings = self.ratings_matrix[similar_user_idxs]\n",
    "        predicted_ratings_by_user = (np.diag(similarities / similarities.max())) @ similar_users_ratings\n",
    "        predicted_ratings = np.nan_to_num(predicted_ratings_by_user.sum(axis=0) / (predicted_ratings_by_user > 0).sum(axis=0))\n",
    "        best_rated_games_idxs = predicted_ratings.argsort()[::-1][:n_recommended]\n",
    "        best_rated_games = self.games[best_rated_games_idxs]\n",
    "        return best_rated_games, predicted_ratings[best_rated_games_idxs]\n",
    "    \n",
    "    @classmethod\n",
    "    def make_from_ratings(cls, ratings_df, target, target_col):\n",
    "        ratings_df = pd.concat([steam_ratings_df, target], axis=1)\n",
    "        item_user_pivoted_df = ratings_df.pivot_table(index='user_id', columns='name', values=target_col)\n",
    "        user_game_matrix = scipy.sparse.csr_matrix(item_user_pivoted_df.fillna(0))   \n",
    "        user_df = pd.DataFrame({'user_id': item_user_pivoted_df.index})\n",
    "        user_similarity_searcher = SimilaritySearcher(user_df, user_game_matrix, name_col='user_id')\n",
    "        games = item_user_pivoted_df.columns\n",
    "        return UserBasedRecommender(user_similarity_searcher, user_game_matrix, games)"
   ]
  },
  {
   "cell_type": "code",
   "execution_count": 39,
   "metadata": {},
   "outputs": [],
   "source": [
    "user_based_recommender = UserBasedRecommender.make_from_ratings(game_dataset.data, game_dataset.target, 'log_hours')"
   ]
  },
  {
   "cell_type": "code",
   "execution_count": 40,
   "metadata": {},
   "outputs": [],
   "source": [
    "ratings_df = pd.concat([game_dataset.data, game_dataset.target], axis=1)\n",
    "item_user_pivoted_df = ratings_df.pivot_table(index='name', columns='user_id', values='log_hours')"
   ]
  },
  {
   "cell_type": "code",
   "execution_count": 41,
   "metadata": {},
   "outputs": [
    {
     "data": {
      "text/html": [
       "<div>\n",
       "<style scoped>\n",
       "    .dataframe tbody tr th:only-of-type {\n",
       "        vertical-align: middle;\n",
       "    }\n",
       "\n",
       "    .dataframe tbody tr th {\n",
       "        vertical-align: top;\n",
       "    }\n",
       "\n",
       "    .dataframe thead th {\n",
       "        text-align: right;\n",
       "    }\n",
       "</style>\n",
       "<table border=\"1\" class=\"dataframe\">\n",
       "  <thead>\n",
       "    <tr style=\"text-align: right;\">\n",
       "      <th></th>\n",
       "      <th>user_id</th>\n",
       "    </tr>\n",
       "  </thead>\n",
       "  <tbody>\n",
       "    <tr>\n",
       "      <th>0</th>\n",
       "      <td>5250</td>\n",
       "    </tr>\n",
       "    <tr>\n",
       "      <th>1</th>\n",
       "      <td>76767</td>\n",
       "    </tr>\n",
       "    <tr>\n",
       "      <th>2</th>\n",
       "      <td>86540</td>\n",
       "    </tr>\n",
       "    <tr>\n",
       "      <th>3</th>\n",
       "      <td>103360</td>\n",
       "    </tr>\n",
       "    <tr>\n",
       "      <th>4</th>\n",
       "      <td>144736</td>\n",
       "    </tr>\n",
       "    <tr>\n",
       "      <th>...</th>\n",
       "      <td>...</td>\n",
       "    </tr>\n",
       "    <tr>\n",
       "      <th>2864</th>\n",
       "      <td>303129589</td>\n",
       "    </tr>\n",
       "    <tr>\n",
       "      <th>2865</th>\n",
       "      <td>303525289</td>\n",
       "    </tr>\n",
       "    <tr>\n",
       "      <th>2866</th>\n",
       "      <td>304971849</td>\n",
       "    </tr>\n",
       "    <tr>\n",
       "      <th>2867</th>\n",
       "      <td>306547522</td>\n",
       "    </tr>\n",
       "    <tr>\n",
       "      <th>2868</th>\n",
       "      <td>309404240</td>\n",
       "    </tr>\n",
       "  </tbody>\n",
       "</table>\n",
       "<p>2869 rows × 1 columns</p>\n",
       "</div>"
      ],
      "text/plain": [
       "        user_id\n",
       "0          5250\n",
       "1         76767\n",
       "2         86540\n",
       "3        103360\n",
       "4        144736\n",
       "...         ...\n",
       "2864  303129589\n",
       "2865  303525289\n",
       "2866  304971849\n",
       "2867  306547522\n",
       "2868  309404240\n",
       "\n",
       "[2869 rows x 1 columns]"
      ]
     },
     "execution_count": 41,
     "metadata": {},
     "output_type": "execute_result"
    }
   ],
   "source": [
    "user_based_recommender.user_similarity_searcher.df"
   ]
  },
  {
   "cell_type": "code",
   "execution_count": 42,
   "metadata": {},
   "outputs": [],
   "source": [
    "# Sanity check: "
   ]
  },
  {
   "cell_type": "code",
   "execution_count": 43,
   "metadata": {},
   "outputs": [],
   "source": [
    "i = 10\n",
    "user_id = user_based_recommender.user_similarity_searcher.df.iloc[10,0]\n",
    "user_ratings = item_user_pivoted_df.iloc[:,10]"
   ]
  },
  {
   "cell_type": "code",
   "execution_count": 44,
   "metadata": {},
   "outputs": [
    {
     "data": {
      "text/plain": [
       "name\n",
       "counter strike                     3.135494\n",
       "counter strike global offensive    6.194405\n",
       "counter strike nexon zombies       0.693147\n",
       "counter strike source              0.693147\n",
       "day of defeat                      0.693147\n",
       "deathmatch classic                 0.693147\n",
       "eldevin                            0.693147\n",
       "half life                          0.693147\n",
       "half life blue shift               0.693147\n",
       "half life opposing force           0.693147\n",
       "planetside 2                       0.693147\n",
       "raceroom racing experience         0.336472\n",
       "realm of the mad god               0.693147\n",
       "ricochet                           0.693147\n",
       "team fortress classic              0.693147\n",
       "unturned                           0.693147\n",
       "warface                            0.693147\n",
       "Name: 547685, dtype: float64"
      ]
     },
     "execution_count": 44,
     "metadata": {},
     "output_type": "execute_result"
    }
   ],
   "source": [
    "user_ratings[~user_ratings.isna()]"
   ]
  },
  {
   "cell_type": "code",
   "execution_count": 45,
   "metadata": {},
   "outputs": [],
   "source": [
    "user_idx = user_based_recommender.user_similarity_searcher.df[user_based_recommender.user_similarity_searcher.df['user_id'] == user_id].index[0]"
   ]
  },
  {
   "cell_type": "code",
   "execution_count": 46,
   "metadata": {},
   "outputs": [
    {
     "data": {
      "text/plain": [
       "0            5250\n",
       "1           76767\n",
       "2           86540\n",
       "3          103360\n",
       "4          144736\n",
       "          ...    \n",
       "2864    303129589\n",
       "2865    303525289\n",
       "2866    304971849\n",
       "2867    306547522\n",
       "2868    309404240\n",
       "Name: user_id, Length: 2869, dtype: int64"
      ]
     },
     "execution_count": 46,
     "metadata": {},
     "output_type": "execute_result"
    }
   ],
   "source": [
    "user_based_recommender.user_similarity_searcher.df['user_id']"
   ]
  },
  {
   "cell_type": "code",
   "execution_count": 54,
   "metadata": {},
   "outputs": [
    {
     "name": "stderr",
     "output_type": "stream",
     "text": [
      "/etc/conda/envs/ml/lib/python3.7/site-packages/ipykernel_launcher.py:19: RuntimeWarning: invalid value encountered in true_divide\n"
     ]
    },
    {
     "data": {
      "text/plain": [
       "(Index(['counter strike global offensive', 'counter strike',\n",
       "        'counter strike nexon zombies', 'team fortress 2', 'dota 2',\n",
       "        'counter strike source', 'half life blue shift',\n",
       "        'half life opposing force', 'half life', 'team fortress classic'],\n",
       "       dtype='object', name='name'),\n",
       " array([4.96166702, 3.15514907, 2.34060134, 0.98518951, 0.73594537,\n",
       "        0.68583722, 0.66945441, 0.66945441, 0.66945441, 0.66945441]))"
      ]
     },
     "execution_count": 54,
     "metadata": {},
     "output_type": "execute_result"
    }
   ],
   "source": [
    "user_based_recommender.recommend_games_from_similar_users(user_id, n_recommended=10, n_similar=6)"
   ]
  }
 ],
 "metadata": {
  "kernelspec": {
   "display_name": "ml",
   "language": "python",
   "name": "ml"
  },
  "language_info": {
   "codemirror_mode": {
    "name": "ipython",
    "version": 3
   },
   "file_extension": ".py",
   "mimetype": "text/x-python",
   "name": "python",
   "nbconvert_exporter": "python",
   "pygments_lexer": "ipython3",
   "version": "3.7.7"
  }
 },
 "nbformat": 4,
 "nbformat_minor": 4
}
