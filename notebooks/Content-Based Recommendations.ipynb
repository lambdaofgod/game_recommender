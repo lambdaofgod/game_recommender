{
 "cells": [
  {
   "cell_type": "code",
   "execution_count": null,
   "metadata": {},
   "outputs": [],
   "source": [
    "#default_exp content_based "
   ]
  },
  {
   "cell_type": "code",
   "execution_count": 2,
   "metadata": {},
   "outputs": [],
   "source": [
    "#export \n",
    "\n",
    "import scipy\n",
    "import pandas as pd\n",
    "import numpy as np\n",
    "\n",
    "\n",
    "from sklearn import compose, feature_extraction, metrics\n",
    "from functools import reduce, partial\n",
    "import attr\n",
    "from typing import Union\n",
    "\n",
    "from game_recommender import steam_data"
   ]
  },
  {
   "cell_type": "code",
   "execution_count": 3,
   "metadata": {},
   "outputs": [
    {
     "name": "stdout",
     "output_type": "stream",
     "text": [
      "/home/kuba/Projects/game_recommender\n"
     ]
    }
   ],
   "source": [
    "%cd .."
   ]
  },
  {
   "cell_type": "code",
   "execution_count": 4,
   "metadata": {},
   "outputs": [],
   "source": [
    "steam_df = steam_data.load_steam_df() "
   ]
  },
  {
   "cell_type": "code",
   "execution_count": 5,
   "metadata": {},
   "outputs": [],
   "source": [
    "chosen_games_substring = 's.t.a.l.k'"
   ]
  },
  {
   "cell_type": "code",
   "execution_count": 6,
   "metadata": {},
   "outputs": [],
   "source": [
    "chosen_games_df = steam_data.get_games_by_name(steam_df, chosen_games_substring) "
   ]
  },
  {
   "cell_type": "code",
   "execution_count": 7,
   "metadata": {},
   "outputs": [
    {
     "data": {
      "text/plain": [
       "376     s.t.a.l.k.e.r. shadow of chernobyl\n",
       "1276        s.t.a.l.k.e.r. call of pripyat\n",
       "7253              s.t.a.l.k.e.r. clear sky\n",
       "Name: name, dtype: object"
      ]
     },
     "execution_count": 7,
     "metadata": {},
     "output_type": "execute_result"
    }
   ],
   "source": [
    "chosen_games_df['name']"
   ]
  },
  {
   "cell_type": "code",
   "execution_count": 8,
   "metadata": {},
   "outputs": [
    {
     "data": {
      "text/plain": [
       "'atmospheric,post-apocalyptic,open world,fps,survival,masterpiece,action,rpg,survival horror,shooter,horror,first-person,singleplayer,classic,based on a novel,moddable,adventure,sci-fi,inventory management,difficult'"
      ]
     },
     "execution_count": 8,
     "metadata": {},
     "output_type": "execute_result"
    }
   ],
   "source": [
    "chosen_games_df.iloc[0]['popular_tags']"
   ]
  },
  {
   "cell_type": "code",
   "execution_count": 9,
   "metadata": {},
   "outputs": [
    {
     "data": {
      "text/plain": [
       "'single-player,multi-player'"
      ]
     },
     "execution_count": 9,
     "metadata": {},
     "output_type": "execute_result"
    }
   ],
   "source": [
    "chosen_games_df.iloc[0]['game_details']"
   ]
  },
  {
   "cell_type": "code",
   "execution_count": 10,
   "metadata": {},
   "outputs": [
    {
     "data": {
      "text/plain": [
       "'action,rpg'"
      ]
     },
     "execution_count": 10,
     "metadata": {},
     "output_type": "execute_result"
    }
   ],
   "source": [
    "chosen_games_df.iloc[0]['genre']"
   ]
  },
  {
   "cell_type": "code",
   "execution_count": 11,
   "metadata": {},
   "outputs": [
    {
     "data": {
      "text/plain": [
       "\" About This Game In 1986, the world's worst nuclear disaster occurred at the Chernobyl Nuclear Power Plant. Soviet authorities established an 'Exclusion Zone' around, but a second explosion hit the reactor in 2006, creating The Zone as we know it – dangerous place, filled with mutated creatures, deadly radiation, and a strange, anomalous energy. The Zone was cordoned off by the military, who would shoot on sight anyone foolish enough to get inside.  Year 2012. The Zone is still a dangerous place and a threat to all mankind. Mercenaries, bounty hunters and explorers ventured further and further into the heart of the Zone driven by reports of strange 'artifacts' imbued with anomalous energy. To sell them on the black market or trying to find the 'truth' behind the Zone. Whatever their motivation, over time these individuals - Scavengers, Trespassers, Adventurers, Loners, Killers, Explorers and Robbers - have become known as S.T.A.L.K.E.R.s.  You will have to find your own way to survive in the Zone!  An immersive storyline, seamlessly blended with a living, breathing, non-linear open-world environment. An accurately modeled real-world buildings and locations from deep inside of the Chernobyl Exclusion Zone. Unique 'Survival FPS' gameplay, which combines action, stealth, survival and RPG elements - to create an incomparable experience in the Zone. Enemy Threat Evaluation AI system - NPC characters react to changes in environments and situations. Realistic combat mechanics with accurate ballistic properties. Dynamic day-night cycle and weather system, that directly impacts gameplay. Advanced physics and dynamic lighting effects powered by the 'X-Ray Engine'. Intense multiplayer action, supporting up to 32 players. \""
      ]
     },
     "execution_count": 11,
     "metadata": {},
     "output_type": "execute_result"
    }
   ],
   "source": [
    "chosen_games_df['game_description'].iloc[0]"
   ]
  },
  {
   "cell_type": "code",
   "execution_count": 12,
   "metadata": {},
   "outputs": [
    {
     "data": {
      "text/plain": [
       "'atmospheric,post-apocalyptic,open world,fps,survival,masterpiece,action,rpg,survival horror,shooter,horror,first-person,singleplayer,classic,based on a novel,moddable,adventure,sci-fi,inventory management,difficult'"
      ]
     },
     "execution_count": 12,
     "metadata": {},
     "output_type": "execute_result"
    }
   ],
   "source": [
    "chosen_games_df['popular_tags'].iloc[0]"
   ]
  },
  {
   "cell_type": "code",
   "execution_count": 13,
   "metadata": {},
   "outputs": [],
   "source": [
    "game_descriptions = steam_df['game_description']"
   ]
  },
  {
   "cell_type": "markdown",
   "metadata": {},
   "source": [
    "# Finding games with similar descriptions"
   ]
  },
  {
   "cell_type": "code",
   "execution_count": 14,
   "metadata": {},
   "outputs": [],
   "source": [
    "from collections import defaultdict"
   ]
  },
  {
   "cell_type": "code",
   "execution_count": 15,
   "metadata": {},
   "outputs": [],
   "source": [
    "#export\n",
    "\n",
    "def split_by_comma_tokenizer(text):\n",
    "    return text.split(',') \n",
    "\n",
    "\n",
    "def _regroup_weights(weights, column_groups):\n",
    "    assert len(weights) == len(column_groups), 'specify weight for each column group'\n",
    "    return {\n",
    "        col: weight / len(col_group)\n",
    "        for (weight, col_group) in zip(weights, column_groups)\n",
    "        for col in col_group\n",
    "    }\n",
    "\n",
    "\n",
    "def make_df_column_vectorizer(\n",
    "        column_groups,\n",
    "        vectorizer_classes=feature_extraction.text.TfidfVectorizer,\n",
    "        weights=None,\n",
    "        tokenizers=None\n",
    "    ):\n",
    "    if type(vectorizer_classes) is not list:\n",
    "        vectorizer_classes = [vectorizer_classes for __ in range(len(column_groups))]\n",
    "    if tokenizers is None:\n",
    "        tokenizers = [None for __ in range(len(column_groups))]\n",
    "    vectorizers = [vectorizer_class(tokenizer=tokenizer) for (vectorizer_class, grp, tokenizer) in zip(vectorizer_classes, column_groups, tokenizers)] \n",
    "    if type(weights) is list:\n",
    "        weights = _regroup_weights(weights, column_groups)\n",
    "    \n",
    "    return compose.ColumnTransformer(\n",
    "        [\n",
    "            (col + '_tfidf', vectorizer, col)\n",
    "            for columns, vectorizer in zip(column_groups, vectorizers)\n",
    "            for col in columns\n",
    "        ],\n",
    "        transformer_weights=weights\n",
    "    )"
   ]
  },
  {
   "cell_type": "code",
   "execution_count": 16,
   "metadata": {},
   "outputs": [],
   "source": [
    "vectorizer = make_df_column_vectorizer([\n",
    "        ['popular_tags'],\n",
    "        ['game_description', 'desc_snippet'],\n",
    "    ],\n",
    "    vectorizer_classes=partial(\n",
    "            feature_extraction.text.TfidfVectorizer,\n",
    "            binary=True,\n",
    "            min_df=5\n",
    "    ),\n",
    "    tokenizers=[split_by_comma_tokenizer, None]\n",
    ")\n",
    "\n",
    "steam_metadata_vectors = vectorizer.fit_transform(steam_df)"
   ]
  },
  {
   "cell_type": "code",
   "execution_count": 17,
   "metadata": {},
   "outputs": [
    {
     "data": {
      "text/plain": [
       "(24210, 21)"
      ]
     },
     "execution_count": 17,
     "metadata": {},
     "output_type": "execute_result"
    }
   ],
   "source": [
    "steam_df.shape"
   ]
  },
  {
   "cell_type": "code",
   "execution_count": 18,
   "metadata": {},
   "outputs": [
    {
     "data": {
      "text/plain": [
       "(24210, 31455)"
      ]
     },
     "execution_count": 18,
     "metadata": {},
     "output_type": "execute_result"
    }
   ],
   "source": [
    "steam_metadata_vectors.shape"
   ]
  },
  {
   "cell_type": "code",
   "execution_count": 19,
   "metadata": {},
   "outputs": [],
   "source": [
    "#export\n",
    "\n",
    "@attr.s\n",
    "class MetadataSimilaritySearcher:\n",
    "    \n",
    "    metadata_df: pd.DataFrame = attr.ib()\n",
    "    metadata_vectors: Union[scipy.sparse.csr.csr_matrix, np.array] = attr.ib()\n",
    "    similarity = attr.ib(metrics.pairwise.cosine_similarity)\n",
    "    \n",
    "    def find_similar(\n",
    "            self,\n",
    "            chosen_games,\n",
    "            n_similar=20):\n",
    "        def get_names_from_indices(indices):\n",
    "            return self.metadata_df['name'].iloc[indices].values\n",
    "\n",
    "        chosen_metadata_vectors = self.metadata_vectors[chosen_games.index]\n",
    "        mean_metadata_vector = chosen_metadata_vectors.mean(axis=0)\n",
    "        similarities = self.similarity(chosen_metadata_vectors, self.metadata_vectors)\n",
    "        similarity_sorted_indices = similarities.argsort(axis=1)[:,::-1]\n",
    "        similarities_sorted = np.array([similarities[i, similarity_sorted_indices[i]] for i in range(len(chosen_games))])\n",
    "        mean_similarity = self.similarity(mean_metadata_vector.reshape(1,-1), self.metadata_vectors)\n",
    "        mean_metadata_similarity_sorted_indices = mean_similarity.argsort(axis=1)[:,::-1]\n",
    "        mean_similarities_sorted = mean_similarity[0,mean_metadata_similarity_sorted_indices.reshape(-1)]\n",
    "\n",
    "        mean_similar = get_names_from_indices(mean_metadata_similarity_sorted_indices[0][:n_similar])\n",
    "        game_names = {}\n",
    "        similarities = {}\n",
    "    \n",
    "        for (i, name) in enumerate(chosen_games.values):\n",
    "            game_names[name] = ( \n",
    "                    get_names_from_indices(\n",
    "                        similarity_sorted_indices[i][1:n_similar+1]\n",
    "                    )\n",
    "            )\n",
    "            similarities[name + '_similarities'] = similarities_sorted[i][1:n_similar+1]\n",
    "\n",
    "        game_names['mean'] = mean_similar\n",
    "        similarities['mean_similarity'] = mean_similarities_sorted[1:n_similar+1] \n",
    "        return pd.DataFrame(game_names), pd.DataFrame(similarities)"
   ]
  },
  {
   "cell_type": "code",
   "execution_count": 20,
   "metadata": {},
   "outputs": [],
   "source": [
    "#export\n",
    "\n",
    "def make_stacked_results_df(game_names, similarities):\n",
    "    df = pd.concat([game_names, similarities], axis=1)\n",
    "    return df.reindex(sorted(df.columns), axis=1)"
   ]
  },
  {
   "cell_type": "code",
   "execution_count": 21,
   "metadata": {},
   "outputs": [],
   "source": [
    "metadata_df = steam_df\n",
    "n_similar=20\n",
    "metadata_vectors = steam_metadata_vectors\n"
   ]
  },
  {
   "cell_type": "code",
   "execution_count": 22,
   "metadata": {},
   "outputs": [],
   "source": [
    "from sklearn import decomposition\n",
    "\n",
    "n_components = 250\n",
    "\n",
    "\n",
    "tsvd = decomposition.TruncatedSVD(n_components=n_components)\n",
    "nmf = decomposition.NMF(n_components=n_components, solver='mu')"
   ]
  },
  {
   "cell_type": "code",
   "execution_count": 23,
   "metadata": {},
   "outputs": [
    {
     "name": "stdout",
     "output_type": "stream",
     "text": [
      "CPU times: user 32.5 s, sys: 14.9 s, total: 47.3 s\n",
      "Wall time: 11.5 s\n"
     ]
    }
   ],
   "source": [
    "%%time\n",
    "steam_metadata_reduced_vectors = tsvd.fit_transform(steam_metadata_vectors)"
   ]
  },
  {
   "cell_type": "code",
   "execution_count": 24,
   "metadata": {},
   "outputs": [],
   "source": [
    "similarity_searcher = MetadataSimilaritySearcher(steam_df, steam_metadata_reduced_vectors)"
   ]
  },
  {
   "cell_type": "markdown",
   "metadata": {},
   "source": [
    "# Searching by SVD reduced data"
   ]
  },
  {
   "cell_type": "code",
   "execution_count": 25,
   "metadata": {},
   "outputs": [
    {
     "data": {
      "text/html": [
       "<div>\n",
       "<style scoped>\n",
       "    .dataframe tbody tr th:only-of-type {\n",
       "        vertical-align: middle;\n",
       "    }\n",
       "\n",
       "    .dataframe tbody tr th {\n",
       "        vertical-align: top;\n",
       "    }\n",
       "\n",
       "    .dataframe thead th {\n",
       "        text-align: right;\n",
       "    }\n",
       "</style>\n",
       "<table border=\"1\" class=\"dataframe\">\n",
       "  <thead>\n",
       "    <tr style=\"text-align: right;\">\n",
       "      <th></th>\n",
       "      <th>mean</th>\n",
       "      <th>mean_similarity</th>\n",
       "      <th>s.t.a.l.k.e.r. call of pripyat</th>\n",
       "      <th>s.t.a.l.k.e.r. call of pripyat_similarities</th>\n",
       "      <th>s.t.a.l.k.e.r. clear sky</th>\n",
       "      <th>s.t.a.l.k.e.r. clear sky_similarities</th>\n",
       "      <th>s.t.a.l.k.e.r. shadow of chernobyl</th>\n",
       "      <th>s.t.a.l.k.e.r. shadow of chernobyl_similarities</th>\n",
       "    </tr>\n",
       "  </thead>\n",
       "  <tbody>\n",
       "    <tr>\n",
       "      <th>0</th>\n",
       "      <td>s.t.a.l.k.e.r. clear sky</td>\n",
       "      <td>0.948348</td>\n",
       "      <td>s.t.a.l.k.e.r. clear sky</td>\n",
       "      <td>0.903892</td>\n",
       "      <td>s.t.a.l.k.e.r. call of pripyat</td>\n",
       "      <td>0.903892</td>\n",
       "      <td>s.t.a.l.k.e.r. clear sky</td>\n",
       "      <td>0.835435</td>\n",
       "    </tr>\n",
       "    <tr>\n",
       "      <th>1</th>\n",
       "      <td>s.t.a.l.k.e.r. call of pripyat</td>\n",
       "      <td>0.919325</td>\n",
       "      <td>s.t.a.l.k.e.r. shadow of chernobyl</td>\n",
       "      <td>0.777306</td>\n",
       "      <td>s.t.a.l.k.e.r. shadow of chernobyl</td>\n",
       "      <td>0.835435</td>\n",
       "      <td>s.t.a.l.k.e.r. call of pripyat</td>\n",
       "      <td>0.777306</td>\n",
       "    </tr>\n",
       "    <tr>\n",
       "      <th>2</th>\n",
       "      <td>s.t.a.l.k.e.r. shadow of chernobyl</td>\n",
       "      <td>0.734108</td>\n",
       "      <td>metro last light redux</td>\n",
       "      <td>0.683559</td>\n",
       "      <td>metro last light redux</td>\n",
       "      <td>0.691622</td>\n",
       "      <td>metro last light redux</td>\n",
       "      <td>0.706560</td>\n",
       "    </tr>\n",
       "    <tr>\n",
       "      <th>3</th>\n",
       "      <td>metro last light redux</td>\n",
       "      <td>0.712810</td>\n",
       "      <td>metro 2033 redux</td>\n",
       "      <td>0.679452</td>\n",
       "      <td>metro 2033 redux</td>\n",
       "      <td>0.682702</td>\n",
       "      <td>metro 2033 redux</td>\n",
       "      <td>0.657964</td>\n",
       "    </tr>\n",
       "    <tr>\n",
       "      <th>4</th>\n",
       "      <td>metro 2033 redux</td>\n",
       "      <td>0.674541</td>\n",
       "      <td>dayz</td>\n",
       "      <td>0.677325</td>\n",
       "      <td>time ramesside (a new reckoning)</td>\n",
       "      <td>0.679482</td>\n",
       "      <td>nosferatu the wrath of malachi</td>\n",
       "      <td>0.633565</td>\n",
       "    </tr>\n",
       "    <tr>\n",
       "      <th>5</th>\n",
       "      <td>time ramesside (a new reckoning)</td>\n",
       "      <td>0.669246</td>\n",
       "      <td>far cry</td>\n",
       "      <td>0.675317</td>\n",
       "      <td>zombi</td>\n",
       "      <td>0.675415</td>\n",
       "      <td>metro exodus</td>\n",
       "      <td>0.623927</td>\n",
       "    </tr>\n",
       "    <tr>\n",
       "      <th>6</th>\n",
       "      <td>zombi</td>\n",
       "      <td>0.661252</td>\n",
       "      <td>zombi</td>\n",
       "      <td>0.657139</td>\n",
       "      <td>halflife 2 episode two</td>\n",
       "      <td>0.651758</td>\n",
       "      <td>creature hunt</td>\n",
       "      <td>0.611045</td>\n",
       "    </tr>\n",
       "    <tr>\n",
       "      <th>7</th>\n",
       "      <td>unreal 2 the awakening</td>\n",
       "      <td>0.655796</td>\n",
       "      <td>shadows of kurgansk</td>\n",
       "      <td>0.656761</td>\n",
       "      <td>doom 3</td>\n",
       "      <td>0.648996</td>\n",
       "      <td>a.i.m.2 clan wars</td>\n",
       "      <td>0.604550</td>\n",
       "    </tr>\n",
       "    <tr>\n",
       "      <th>8</th>\n",
       "      <td>far cry</td>\n",
       "      <td>0.655257</td>\n",
       "      <td>halflife 2 episode two</td>\n",
       "      <td>0.652912</td>\n",
       "      <td>unreal 2 the awakening</td>\n",
       "      <td>0.646886</td>\n",
       "      <td>fallout 3</td>\n",
       "      <td>0.600223</td>\n",
       "    </tr>\n",
       "    <tr>\n",
       "      <th>9</th>\n",
       "      <td>halflife 2 episode two</td>\n",
       "      <td>0.653270</td>\n",
       "      <td>time ramesside (a new reckoning)</td>\n",
       "      <td>0.652170</td>\n",
       "      <td>doom 3 bfg edition</td>\n",
       "      <td>0.634805</td>\n",
       "      <td>fallout new vegas</td>\n",
       "      <td>0.593673</td>\n",
       "    </tr>\n",
       "    <tr>\n",
       "      <th>10</th>\n",
       "      <td>fallout 3</td>\n",
       "      <td>0.652762</td>\n",
       "      <td>unreal 2 the awakening</td>\n",
       "      <td>0.645753</td>\n",
       "      <td>dead effect</td>\n",
       "      <td>0.634566</td>\n",
       "      <td>i am alive</td>\n",
       "      <td>0.582732</td>\n",
       "    </tr>\n",
       "    <tr>\n",
       "      <th>11</th>\n",
       "      <td>fallout new vegas</td>\n",
       "      <td>0.646208</td>\n",
       "      <td>doom 3 bfg edition</td>\n",
       "      <td>0.641873</td>\n",
       "      <td>estranged act i</td>\n",
       "      <td>0.634475</td>\n",
       "      <td>unreal 2 the awakening</td>\n",
       "      <td>0.580121</td>\n",
       "    </tr>\n",
       "    <tr>\n",
       "      <th>12</th>\n",
       "      <td>doom 3</td>\n",
       "      <td>0.645821</td>\n",
       "      <td>fallout 3</td>\n",
       "      <td>0.640910</td>\n",
       "      <td>far cry</td>\n",
       "      <td>0.627619</td>\n",
       "      <td>zone anomaly</td>\n",
       "      <td>0.580104</td>\n",
       "    </tr>\n",
       "    <tr>\n",
       "      <th>13</th>\n",
       "      <td>dayz</td>\n",
       "      <td>0.645602</td>\n",
       "      <td>fallout new vegas</td>\n",
       "      <td>0.640703</td>\n",
       "      <td>arizona sunshine</td>\n",
       "      <td>0.622566</td>\n",
       "      <td>system shock 2</td>\n",
       "      <td>0.579931</td>\n",
       "    </tr>\n",
       "    <tr>\n",
       "      <th>14</th>\n",
       "      <td>nosferatu the wrath of malachi</td>\n",
       "      <td>0.644213</td>\n",
       "      <td>estranged act i</td>\n",
       "      <td>0.635661</td>\n",
       "      <td>dayz</td>\n",
       "      <td>0.615687</td>\n",
       "      <td>alien isolation</td>\n",
       "      <td>0.579033</td>\n",
       "    </tr>\n",
       "    <tr>\n",
       "      <th>15</th>\n",
       "      <td>metro exodus</td>\n",
       "      <td>0.643341</td>\n",
       "      <td>dying light</td>\n",
       "      <td>0.628726</td>\n",
       "      <td>fallout new vegas</td>\n",
       "      <td>0.614467</td>\n",
       "      <td>time ramesside (a new reckoning)</td>\n",
       "      <td>0.578904</td>\n",
       "    </tr>\n",
       "    <tr>\n",
       "      <th>16</th>\n",
       "      <td>dead effect</td>\n",
       "      <td>0.637280</td>\n",
       "      <td>doom 3</td>\n",
       "      <td>0.627941</td>\n",
       "      <td>nosferatu the wrath of malachi</td>\n",
       "      <td>0.614312</td>\n",
       "      <td>brigand oaxaca</td>\n",
       "      <td>0.577773</td>\n",
       "    </tr>\n",
       "    <tr>\n",
       "      <th>17</th>\n",
       "      <td>doom 3 bfg edition</td>\n",
       "      <td>0.632605</td>\n",
       "      <td>unturned</td>\n",
       "      <td>0.619278</td>\n",
       "      <td>halflife source</td>\n",
       "      <td>0.612425</td>\n",
       "      <td>red faction</td>\n",
       "      <td>0.577038</td>\n",
       "    </tr>\n",
       "    <tr>\n",
       "      <th>18</th>\n",
       "      <td>estranged act i</td>\n",
       "      <td>0.631010</td>\n",
       "      <td>dead effect</td>\n",
       "      <td>0.619180</td>\n",
       "      <td>metro exodus</td>\n",
       "      <td>0.612197</td>\n",
       "      <td>fallout 3 game of the year edition</td>\n",
       "      <td>0.576116</td>\n",
       "    </tr>\n",
       "    <tr>\n",
       "      <th>19</th>\n",
       "      <td>shadows of kurgansk</td>\n",
       "      <td>0.627630</td>\n",
       "      <td>the fifth day</td>\n",
       "      <td>0.613012</td>\n",
       "      <td>halflife 2</td>\n",
       "      <td>0.610343</td>\n",
       "      <td>witch hunt</td>\n",
       "      <td>0.574865</td>\n",
       "    </tr>\n",
       "  </tbody>\n",
       "</table>\n",
       "</div>"
      ],
      "text/plain": [
       "                                  mean  mean_similarity  \\\n",
       "0             s.t.a.l.k.e.r. clear sky         0.948348   \n",
       "1       s.t.a.l.k.e.r. call of pripyat         0.919325   \n",
       "2   s.t.a.l.k.e.r. shadow of chernobyl         0.734108   \n",
       "3               metro last light redux         0.712810   \n",
       "4                     metro 2033 redux         0.674541   \n",
       "5     time ramesside (a new reckoning)         0.669246   \n",
       "6                                zombi         0.661252   \n",
       "7               unreal 2 the awakening         0.655796   \n",
       "8                              far cry         0.655257   \n",
       "9               halflife 2 episode two         0.653270   \n",
       "10                           fallout 3         0.652762   \n",
       "11                   fallout new vegas         0.646208   \n",
       "12                              doom 3         0.645821   \n",
       "13                                dayz         0.645602   \n",
       "14      nosferatu the wrath of malachi         0.644213   \n",
       "15                        metro exodus         0.643341   \n",
       "16                         dead effect         0.637280   \n",
       "17                  doom 3 bfg edition         0.632605   \n",
       "18                     estranged act i         0.631010   \n",
       "19                 shadows of kurgansk         0.627630   \n",
       "\n",
       "        s.t.a.l.k.e.r. call of pripyat  \\\n",
       "0             s.t.a.l.k.e.r. clear sky   \n",
       "1   s.t.a.l.k.e.r. shadow of chernobyl   \n",
       "2               metro last light redux   \n",
       "3                     metro 2033 redux   \n",
       "4                                 dayz   \n",
       "5                              far cry   \n",
       "6                                zombi   \n",
       "7                  shadows of kurgansk   \n",
       "8               halflife 2 episode two   \n",
       "9     time ramesside (a new reckoning)   \n",
       "10              unreal 2 the awakening   \n",
       "11                  doom 3 bfg edition   \n",
       "12                           fallout 3   \n",
       "13                   fallout new vegas   \n",
       "14                     estranged act i   \n",
       "15                         dying light   \n",
       "16                              doom 3   \n",
       "17                            unturned   \n",
       "18                         dead effect   \n",
       "19                       the fifth day   \n",
       "\n",
       "    s.t.a.l.k.e.r. call of pripyat_similarities  \\\n",
       "0                                      0.903892   \n",
       "1                                      0.777306   \n",
       "2                                      0.683559   \n",
       "3                                      0.679452   \n",
       "4                                      0.677325   \n",
       "5                                      0.675317   \n",
       "6                                      0.657139   \n",
       "7                                      0.656761   \n",
       "8                                      0.652912   \n",
       "9                                      0.652170   \n",
       "10                                     0.645753   \n",
       "11                                     0.641873   \n",
       "12                                     0.640910   \n",
       "13                                     0.640703   \n",
       "14                                     0.635661   \n",
       "15                                     0.628726   \n",
       "16                                     0.627941   \n",
       "17                                     0.619278   \n",
       "18                                     0.619180   \n",
       "19                                     0.613012   \n",
       "\n",
       "              s.t.a.l.k.e.r. clear sky  s.t.a.l.k.e.r. clear sky_similarities  \\\n",
       "0       s.t.a.l.k.e.r. call of pripyat                               0.903892   \n",
       "1   s.t.a.l.k.e.r. shadow of chernobyl                               0.835435   \n",
       "2               metro last light redux                               0.691622   \n",
       "3                     metro 2033 redux                               0.682702   \n",
       "4     time ramesside (a new reckoning)                               0.679482   \n",
       "5                                zombi                               0.675415   \n",
       "6               halflife 2 episode two                               0.651758   \n",
       "7                               doom 3                               0.648996   \n",
       "8               unreal 2 the awakening                               0.646886   \n",
       "9                   doom 3 bfg edition                               0.634805   \n",
       "10                         dead effect                               0.634566   \n",
       "11                     estranged act i                               0.634475   \n",
       "12                             far cry                               0.627619   \n",
       "13                    arizona sunshine                               0.622566   \n",
       "14                                dayz                               0.615687   \n",
       "15                   fallout new vegas                               0.614467   \n",
       "16      nosferatu the wrath of malachi                               0.614312   \n",
       "17                     halflife source                               0.612425   \n",
       "18                        metro exodus                               0.612197   \n",
       "19                          halflife 2                               0.610343   \n",
       "\n",
       "    s.t.a.l.k.e.r. shadow of chernobyl  \\\n",
       "0             s.t.a.l.k.e.r. clear sky   \n",
       "1       s.t.a.l.k.e.r. call of pripyat   \n",
       "2               metro last light redux   \n",
       "3                     metro 2033 redux   \n",
       "4       nosferatu the wrath of malachi   \n",
       "5                         metro exodus   \n",
       "6                        creature hunt   \n",
       "7                    a.i.m.2 clan wars   \n",
       "8                            fallout 3   \n",
       "9                    fallout new vegas   \n",
       "10                          i am alive   \n",
       "11              unreal 2 the awakening   \n",
       "12                        zone anomaly   \n",
       "13                      system shock 2   \n",
       "14                     alien isolation   \n",
       "15    time ramesside (a new reckoning)   \n",
       "16                      brigand oaxaca   \n",
       "17                         red faction   \n",
       "18  fallout 3 game of the year edition   \n",
       "19                          witch hunt   \n",
       "\n",
       "    s.t.a.l.k.e.r. shadow of chernobyl_similarities  \n",
       "0                                          0.835435  \n",
       "1                                          0.777306  \n",
       "2                                          0.706560  \n",
       "3                                          0.657964  \n",
       "4                                          0.633565  \n",
       "5                                          0.623927  \n",
       "6                                          0.611045  \n",
       "7                                          0.604550  \n",
       "8                                          0.600223  \n",
       "9                                          0.593673  \n",
       "10                                         0.582732  \n",
       "11                                         0.580121  \n",
       "12                                         0.580104  \n",
       "13                                         0.579931  \n",
       "14                                         0.579033  \n",
       "15                                         0.578904  \n",
       "16                                         0.577773  \n",
       "17                                         0.577038  \n",
       "18                                         0.576116  \n",
       "19                                         0.574865  "
      ]
     },
     "execution_count": 25,
     "metadata": {},
     "output_type": "execute_result"
    }
   ],
   "source": [
    "make_stacked_results_df(*similarity_searcher.find_similar(chosen_games_df['name']))"
   ]
  },
  {
   "cell_type": "markdown",
   "metadata": {},
   "source": [
    "# Searching by NMF reduced data"
   ]
  },
  {
   "cell_type": "code",
   "execution_count": 26,
   "metadata": {},
   "outputs": [],
   "source": [
    "#%%time\n",
    "#steam_metadata_nmf_vectors = nmf.fit_transform(steam_metadata_vectors)"
   ]
  },
  {
   "cell_type": "code",
   "execution_count": 27,
   "metadata": {},
   "outputs": [],
   "source": [
    "#similar_games(chosen_games_df, steam_df, steam_metadata_nmf_vectors)"
   ]
  },
  {
   "cell_type": "code",
   "execution_count": 28,
   "metadata": {},
   "outputs": [],
   "source": [
    "# Recommending"
   ]
  },
  {
   "cell_type": "code",
   "execution_count": 29,
   "metadata": {},
   "outputs": [],
   "source": [
    "#export\n",
    "\n",
    "\n",
    "@attr.s\n",
    "class ContentBasedRecommender:\n",
    "    \n",
    "    similarity_searcher: MetadataSimilaritySearcher = attr.ib()\n",
    "        \n",
    "    def recommend_similar_games(self, rated_games, ratings, n_recommended, n_similar=20):\n",
    "        similar_games, similarities = self.similarity_searcher.find_similar(rated_games, n_similar=n_similar)\n",
    "        mean_similar_games = similar_games.pop('mean')\n",
    "        mean_similarities = similarities.pop('mean_similarity')\n",
    "        \n",
    "        predicted_ratings = ratings * similarities / similarities.max()\n",
    "        predicted_ratings_flat = pd.concat([predicted_ratings[col] for col in predicted_ratings.columns])\n",
    "        similar_games_flat = pd.concat([similar_games[col] for col in similar_games.columns])\n",
    "        # TODO: is this best way to handle duplicates?\n",
    "        pred_df = pd.DataFrame({\n",
    "            'game': similar_games_flat,\n",
    "            'rating ': predicted_ratings_flat\n",
    "        }).groupby('game').agg('mean')\n",
    "        predicted_ratings_flat = pred_df.iloc[:,0].values\n",
    "        similar_games_flat = pred_df.index.values\n",
    "        \n",
    "        best_rated_indices = np.argsort(predicted_ratings_flat)[::-1][:n_recommended]\n",
    "        best_ratings = predicted_ratings_flat[best_rated_indices]\n",
    "        best_rated_games = similar_games_flat[best_rated_indices]\n",
    "        return best_rated_games, best_ratings\n",
    "        \n",
    "    def recommend_mean_similar_games(self, rated_games, ratings, n_recommended, n_similar=20):\n",
    "        similar_games, similarities = self.similarity_searcher.find_similar(rated_games_df, n_similar=n_similar)\n",
    "        mean_similar_games = similar_games.pop('mean')\n",
    "        mean_similarities = similarities.pop('mean_similarity')\n",
    "        return mean_similar_games, mean_similarities"
   ]
  },
  {
   "cell_type": "code",
   "execution_count": 30,
   "metadata": {},
   "outputs": [],
   "source": [
    "ratings = [4, 5, 6]\n",
    "rated_games = chosen_games_df['name']"
   ]
  },
  {
   "cell_type": "code",
   "execution_count": 31,
   "metadata": {},
   "outputs": [],
   "source": [
    "content_recommender = ContentBasedRecommender(similarity_searcher)\n",
    "recommended_games, ratings = content_recommender.recommend_similar_games(rated_games, ratings, 20)"
   ]
  },
  {
   "cell_type": "code",
   "execution_count": 32,
   "metadata": {},
   "outputs": [
    {
     "data": {
      "text/plain": [
       "array(['s.t.a.l.k.e.r. shadow of chernobyl',\n",
       "       's.t.a.l.k.e.r. call of pripyat', 's.t.a.l.k.e.r. clear sky',\n",
       "       'arizona sunshine', 'halflife source', 'zombi', 'halflife 2',\n",
       "       'halflife 2 episode two', 'far cry', 'metro last light redux',\n",
       "       'dayz', 'doom 3', 'doom 3 bfg edition', 'estranged act i',\n",
       "       'dead effect', 'metro 2033 redux', 'shadows of kurgansk',\n",
       "       'time ramesside (a new reckoning)',\n",
       "       'nosferatu the wrath of malachi', 'unreal 2 the awakening'],\n",
       "      dtype=object)"
      ]
     },
     "execution_count": 32,
     "metadata": {},
     "output_type": "execute_result"
    }
   ],
   "source": [
    "recommended_games"
   ]
  }
 ],
 "metadata": {
  "kernelspec": {
   "display_name": "ml",
   "language": "python",
   "name": "ml"
  },
  "language_info": {
   "codemirror_mode": {
    "name": "ipython",
    "version": 3
   },
   "file_extension": ".py",
   "mimetype": "text/x-python",
   "name": "python",
   "nbconvert_exporter": "python",
   "pygments_lexer": "ipython3",
   "version": "3.7.7"
  }
 },
 "nbformat": 4,
 "nbformat_minor": 4
}
