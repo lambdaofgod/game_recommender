{
 "cells": [
  {
   "cell_type": "code",
   "execution_count": 1,
   "metadata": {},
   "outputs": [
    {
     "name": "stdout",
     "output_type": "stream",
     "text": [
      "File ‘../../assets/steam.csv’ already there; not retrieving.\n"
     ]
    }
   ],
   "source": [
    "!wget -nc https://query.data.world/s/cqkss4aadchksn4uwdlwuusnvpihrs -O ../../assets/steam.csv"
   ]
  },
  {
   "cell_type": "code",
   "execution_count": 2,
   "metadata": {},
   "outputs": [],
   "source": [
    "import pandas as pd\n",
    "from sklearn.feature_extraction.text import TfidfVectorizer\n",
    "from sklearn.metrics.pairwise import cosine_distances"
   ]
  },
  {
   "cell_type": "code",
   "execution_count": 3,
   "metadata": {},
   "outputs": [],
   "source": [
    "steam_df = pd.read_csv('data/steam.csv')"
   ]
  },
  {
   "cell_type": "code",
   "execution_count": 4,
   "metadata": {},
   "outputs": [],
   "source": [
    "steam_df = steam_df[~steam_df['QueryName'].isna()]"
   ]
  },
  {
   "cell_type": "code",
   "execution_count": 5,
   "metadata": {},
   "outputs": [],
   "source": [
    "chosen_game_names = steam_df['QueryName'][steam_df['QueryName'].str.contains('S.T.A.L.K')]"
   ]
  },
  {
   "cell_type": "code",
   "execution_count": 6,
   "metadata": {},
   "outputs": [],
   "source": [
    "chosen_games_df = steam_df[steam_df['QueryName'].isin(chosen_game_names)]"
   ]
  },
  {
   "cell_type": "code",
   "execution_count": 7,
   "metadata": {},
   "outputs": [
    {
     "data": {
      "text/plain": [
       "'In 1986 the worlds worst nuclear disaster occurred at the Chernobyl power station. Soviet authorities established a 30km Exclusion Zone around this nuclear wasteland but in 2006 a second explosion rocked the stricken reactor obliterating all living things and causing the Zones boundaries to ripple outwards. From this epicenter came waves of mutated creatures deadly radiation and a strange anomalous energy. The Zone was cordoned off by the military who would shoot on sight anyone foolish enough to brave the horrors within.It is now 2012 - man has ventured further and further into the heart of the Zone driven by reports of strange artifacts imbued with anomalous energy. Mercenaries and bounty hunters compete to recover these artifacts which command extortionate prices on the black market. Others seek to find the truth behind the Zone while some merely revel in the desolate lawlessness of the place. Whatever their motivation over time these individuals - Scavengers Trespassers Adventurers Loners Killer Explorers and Robbers - have become known as S.T.A.L.K.E.R.s.Awakening in the Zone you are one such S.T.A.L.K.E.R. fighting for survival in this man-made Hell while trying to discover the truth behind Chernobyls sinister past and ominous future.An immersive storyline seamlessly blended with a living breathing non-linear open-world environment governed by the revolutionary A-Life system.Accurately modeled real-world buildings and locations from deep inside the Chernobyl Exclusion Zone.Unique Survival FPS game play - combines action stealth survival and RPG elements to create an incomparable experience in the Zone.Enemy Threat Evaluation AI system - NPC characters react dynamically to environments and situations.Brutally realistic combat mechanics  - weapons display accurate ballistic properties and can be modified with silencers and telescopic scopes.Dynamic day/night and weather system directly impacts game play.Advanced physics and dynamic lighting effects powered by the proprietary X-Ray Engine.Intense multiplayer action supporting up to 32 players.'"
      ]
     },
     "execution_count": 7,
     "metadata": {},
     "output_type": "execute_result"
    }
   ],
   "source": [
    "chosen_games_df['AboutText'].iloc[0]"
   ]
  },
  {
   "cell_type": "code",
   "execution_count": 8,
   "metadata": {},
   "outputs": [],
   "source": [
    "game_descriptions = steam_df['AboutText']"
   ]
  },
  {
   "cell_type": "code",
   "execution_count": 9,
   "metadata": {},
   "outputs": [],
   "source": [
    "vectorizer = TfidfVectorizer()\n",
    "description_vectors = vectorizer.fit_transform(game_descriptions)"
   ]
  },
  {
   "cell_type": "code",
   "execution_count": 29,
   "metadata": {},
   "outputs": [
    {
     "data": {
      "text/plain": [
       "array(['S.T.A.L.K.E.R.: Shadow of Chernobyl', 'S.T.A.L.K.E.R.: Clear Sky',\n",
       "       'S.T.A.L.K.E.R.: Call of Pripyat'], dtype=object)"
      ]
     },
     "execution_count": 29,
     "metadata": {},
     "output_type": "execute_result"
    }
   ],
   "source": [
    "chosen_games_df['QueryName'].values"
   ]
  },
  {
   "cell_type": "code",
   "execution_count": 69,
   "metadata": {},
   "outputs": [],
   "source": [
    "def similar_games_titles(chosen_games_df, description_vectors, n_similar=20):\n",
    "    def get_names_from_indices(indices):\n",
    "        return steam_df['QueryName'][indices].values\n",
    "    \n",
    "    chosen_description_vectors = description_vectors[chosen_games_df.index]\n",
    "    mean_description_vector = chosen_description_vectors.mean(axis=0)\n",
    "    similarity_sorted_indices = cosine_distances(chosen_description_vectors, description_vectors).argsort()\n",
    "    mean_description_similarity_sorted_indices = cosine_distances(mean_description_vector.reshape(1,-1), description_vectors).argsort()\n",
    "    \n",
    "    mean_similar = get_names_from_indices(mean_description_similarity_sorted_indices[0][:n_similar])\n",
    "    \n",
    "    cols = {name: get_names_from_indices(similarity_sorted_indices[i][:n_similar]) for (i, name) in enumerate(chosen_games_df['QueryName'].values)}\n",
    "    cols['mean'] = mean_similar\n",
    "    df = pd.DataFrame(cols)\n",
    "    return df"
   ]
  },
  {
   "cell_type": "code",
   "execution_count": 70,
   "metadata": {},
   "outputs": [
    {
     "data": {
      "text/html": [
       "<div>\n",
       "<style scoped>\n",
       "    .dataframe tbody tr th:only-of-type {\n",
       "        vertical-align: middle;\n",
       "    }\n",
       "\n",
       "    .dataframe tbody tr th {\n",
       "        vertical-align: top;\n",
       "    }\n",
       "\n",
       "    .dataframe thead th {\n",
       "        text-align: right;\n",
       "    }\n",
       "</style>\n",
       "<table border=\"1\" class=\"dataframe\">\n",
       "  <thead>\n",
       "    <tr style=\"text-align: right;\">\n",
       "      <th></th>\n",
       "      <th>S.T.A.L.K.E.R.: Shadow of Chernobyl</th>\n",
       "      <th>S.T.A.L.K.E.R.: Clear Sky</th>\n",
       "      <th>S.T.A.L.K.E.R.: Call of Pripyat</th>\n",
       "      <th>mean</th>\n",
       "    </tr>\n",
       "  </thead>\n",
       "  <tbody>\n",
       "    <tr>\n",
       "      <th>0</th>\n",
       "      <td>S.T.A.L.K.E.R.: Shadow of Chernobyl</td>\n",
       "      <td>S.T.A.L.K.E.R.: Clear Sky</td>\n",
       "      <td>S.T.A.L.K.E.R.: Call of Pripyat</td>\n",
       "      <td>S.T.A.L.K.E.R.: Shadow of Chernobyl</td>\n",
       "    </tr>\n",
       "    <tr>\n",
       "      <th>1</th>\n",
       "      <td>Red Faction: Guerrilla Steam Edition</td>\n",
       "      <td>Company of Heroes: Tales of Valor</td>\n",
       "      <td>The Great Escape</td>\n",
       "      <td>S.T.A.L.K.E.R.: Clear Sky</td>\n",
       "    </tr>\n",
       "    <tr>\n",
       "      <th>2</th>\n",
       "      <td>Death and the Fly</td>\n",
       "      <td>Shapes of Gray</td>\n",
       "      <td>Subspace Continuum</td>\n",
       "      <td>S.T.A.L.K.E.R.: Call of Pripyat</td>\n",
       "    </tr>\n",
       "    <tr>\n",
       "      <th>3</th>\n",
       "      <td>Wave of Darkness</td>\n",
       "      <td>Disney Planes</td>\n",
       "      <td>Mahluk:Dark demon</td>\n",
       "      <td>Subspace Continuum</td>\n",
       "    </tr>\n",
       "    <tr>\n",
       "      <th>4</th>\n",
       "      <td>Detective Hank and the Golden Sneeze</td>\n",
       "      <td>Invisible, Inc.</td>\n",
       "      <td>Stories of Bethem: Full Moon</td>\n",
       "      <td>Red Faction: Guerrilla Steam Edition</td>\n",
       "    </tr>\n",
       "    <tr>\n",
       "      <th>5</th>\n",
       "      <td>Sign Motion</td>\n",
       "      <td>VERGE:Lost chapter</td>\n",
       "      <td>Alien Robot Monsters</td>\n",
       "      <td>Shapes of Gray</td>\n",
       "    </tr>\n",
       "    <tr>\n",
       "      <th>6</th>\n",
       "      <td>World Ship Simulator</td>\n",
       "      <td>Homefront</td>\n",
       "      <td>Space Overlords</td>\n",
       "      <td>Solar Struggle</td>\n",
       "    </tr>\n",
       "    <tr>\n",
       "      <th>7</th>\n",
       "      <td>Subspace Continuum</td>\n",
       "      <td>Solar Struggle</td>\n",
       "      <td>STAR WARS™: X-Wing Special Edition</td>\n",
       "      <td>Mahluk:Dark demon</td>\n",
       "    </tr>\n",
       "    <tr>\n",
       "      <th>8</th>\n",
       "      <td>Muddy Heights 2</td>\n",
       "      <td>Supraball</td>\n",
       "      <td>World of Soccer online</td>\n",
       "      <td>Abduction Action! Plus</td>\n",
       "    </tr>\n",
       "    <tr>\n",
       "      <th>9</th>\n",
       "      <td>Solar Struggle</td>\n",
       "      <td>LEGO® Star Wars™ III: The Clone Wars™</td>\n",
       "      <td>Arelite Core</td>\n",
       "      <td>DNO Rasa's Journey</td>\n",
       "    </tr>\n",
       "    <tr>\n",
       "      <th>10</th>\n",
       "      <td>SUPER IMPOSSIBLE ROAD</td>\n",
       "      <td>DARK SOULS III</td>\n",
       "      <td>Abduction Action! Plus</td>\n",
       "      <td>Supraball</td>\n",
       "    </tr>\n",
       "    <tr>\n",
       "      <th>11</th>\n",
       "      <td>TownCraft</td>\n",
       "      <td>Tom Clancy's Splinter Cell: Double Agent</td>\n",
       "      <td>Enter the Gungeon</td>\n",
       "      <td>TownCraft</td>\n",
       "    </tr>\n",
       "    <tr>\n",
       "      <th>12</th>\n",
       "      <td>Sketch Tales</td>\n",
       "      <td>The Typing of The Dead: Overkill</td>\n",
       "      <td>Industry Empire</td>\n",
       "      <td>TUG</td>\n",
       "    </tr>\n",
       "    <tr>\n",
       "      <th>13</th>\n",
       "      <td>Mahluk:Dark demon</td>\n",
       "      <td>Alan Wake's American Nightmare</td>\n",
       "      <td>TUG</td>\n",
       "      <td>Stories of Bethem: Full Moon</td>\n",
       "    </tr>\n",
       "    <tr>\n",
       "      <th>14</th>\n",
       "      <td>Shapes of Gray</td>\n",
       "      <td>Gear Gauntlet</td>\n",
       "      <td>Solar Shifter EX</td>\n",
       "      <td>World of Soccer online</td>\n",
       "    </tr>\n",
       "    <tr>\n",
       "      <th>15</th>\n",
       "      <td>Lara Croft GO</td>\n",
       "      <td>Abduction Action! Plus</td>\n",
       "      <td>Deadly Profits</td>\n",
       "      <td>Wave of Darkness</td>\n",
       "    </tr>\n",
       "    <tr>\n",
       "      <th>16</th>\n",
       "      <td>BrainBread 2</td>\n",
       "      <td>Subspace Continuum</td>\n",
       "      <td>DNO Rasa's Journey</td>\n",
       "      <td>Riddled Corpses</td>\n",
       "    </tr>\n",
       "    <tr>\n",
       "      <th>17</th>\n",
       "      <td>Beeswing</td>\n",
       "      <td>Interstellar Marines</td>\n",
       "      <td>One Tower</td>\n",
       "      <td>Space Overlords</td>\n",
       "    </tr>\n",
       "    <tr>\n",
       "      <th>18</th>\n",
       "      <td>TUG</td>\n",
       "      <td>DNO Rasa's Journey</td>\n",
       "      <td>Bowl Bound College Football</td>\n",
       "      <td>SUPER IMPOSSIBLE ROAD</td>\n",
       "    </tr>\n",
       "    <tr>\n",
       "      <th>19</th>\n",
       "      <td>Alan Wake's American Nightmare</td>\n",
       "      <td>Pressure</td>\n",
       "      <td>Just Bones</td>\n",
       "      <td>I Can't Escape: Darkness</td>\n",
       "    </tr>\n",
       "  </tbody>\n",
       "</table>\n",
       "</div>"
      ],
      "text/plain": [
       "     S.T.A.L.K.E.R.: Shadow of Chernobyl  \\\n",
       "0    S.T.A.L.K.E.R.: Shadow of Chernobyl   \n",
       "1   Red Faction: Guerrilla Steam Edition   \n",
       "2                      Death and the Fly   \n",
       "3                       Wave of Darkness   \n",
       "4   Detective Hank and the Golden Sneeze   \n",
       "5                            Sign Motion   \n",
       "6                   World Ship Simulator   \n",
       "7                     Subspace Continuum   \n",
       "8                        Muddy Heights 2   \n",
       "9                         Solar Struggle   \n",
       "10                 SUPER IMPOSSIBLE ROAD   \n",
       "11                             TownCraft   \n",
       "12                          Sketch Tales   \n",
       "13                     Mahluk:Dark demon   \n",
       "14                        Shapes of Gray   \n",
       "15                         Lara Croft GO   \n",
       "16                          BrainBread 2   \n",
       "17                              Beeswing   \n",
       "18                                   TUG   \n",
       "19        Alan Wake's American Nightmare   \n",
       "\n",
       "                   S.T.A.L.K.E.R.: Clear Sky  \\\n",
       "0                  S.T.A.L.K.E.R.: Clear Sky   \n",
       "1          Company of Heroes: Tales of Valor   \n",
       "2                             Shapes of Gray   \n",
       "3                              Disney Planes   \n",
       "4                            Invisible, Inc.   \n",
       "5                         VERGE:Lost chapter   \n",
       "6                                  Homefront   \n",
       "7                             Solar Struggle   \n",
       "8                                  Supraball   \n",
       "9      LEGO® Star Wars™ III: The Clone Wars™   \n",
       "10                            DARK SOULS III   \n",
       "11  Tom Clancy's Splinter Cell: Double Agent   \n",
       "12          The Typing of The Dead: Overkill   \n",
       "13            Alan Wake's American Nightmare   \n",
       "14                             Gear Gauntlet   \n",
       "15                    Abduction Action! Plus   \n",
       "16                        Subspace Continuum   \n",
       "17                      Interstellar Marines   \n",
       "18                        DNO Rasa's Journey   \n",
       "19                                  Pressure   \n",
       "\n",
       "       S.T.A.L.K.E.R.: Call of Pripyat                                  mean  \n",
       "0      S.T.A.L.K.E.R.: Call of Pripyat   S.T.A.L.K.E.R.: Shadow of Chernobyl  \n",
       "1                     The Great Escape             S.T.A.L.K.E.R.: Clear Sky  \n",
       "2                   Subspace Continuum       S.T.A.L.K.E.R.: Call of Pripyat  \n",
       "3                    Mahluk:Dark demon                    Subspace Continuum  \n",
       "4         Stories of Bethem: Full Moon  Red Faction: Guerrilla Steam Edition  \n",
       "5                 Alien Robot Monsters                        Shapes of Gray  \n",
       "6                      Space Overlords                        Solar Struggle  \n",
       "7   STAR WARS™: X-Wing Special Edition                     Mahluk:Dark demon  \n",
       "8               World of Soccer online                Abduction Action! Plus  \n",
       "9                         Arelite Core                    DNO Rasa's Journey  \n",
       "10              Abduction Action! Plus                             Supraball  \n",
       "11                   Enter the Gungeon                             TownCraft  \n",
       "12                     Industry Empire                                   TUG  \n",
       "13                                 TUG          Stories of Bethem: Full Moon  \n",
       "14                    Solar Shifter EX                World of Soccer online  \n",
       "15                      Deadly Profits                      Wave of Darkness  \n",
       "16                  DNO Rasa's Journey                       Riddled Corpses  \n",
       "17                           One Tower                       Space Overlords  \n",
       "18         Bowl Bound College Football                 SUPER IMPOSSIBLE ROAD  \n",
       "19                          Just Bones              I Can't Escape: Darkness  "
      ]
     },
     "execution_count": 70,
     "metadata": {},
     "output_type": "execute_result"
    }
   ],
   "source": [
    "similar_games_titles(chosen_games_df, description_vectors)"
   ]
  }
 ],
 "metadata": {
  "kernelspec": {
   "display_name": "ml",
   "language": "python",
   "name": "ml"
  },
  "language_info": {
   "codemirror_mode": {
    "name": "ipython",
    "version": 3
   },
   "file_extension": ".py",
   "mimetype": "text/x-python",
   "name": "python",
   "nbconvert_exporter": "python",
   "pygments_lexer": "ipython3",
   "version": "3.7.7"
  }
 },
 "nbformat": 4,
 "nbformat_minor": 2
}
