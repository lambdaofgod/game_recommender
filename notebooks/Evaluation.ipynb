{
 "cells": [
  {
   "cell_type": "code",
   "execution_count": 1,
   "metadata": {},
   "outputs": [],
   "source": [
    "#default_exp evaluation"
   ]
  },
  {
   "cell_type": "code",
   "execution_count": 14,
   "metadata": {},
   "outputs": [],
   "source": [
    "#export\n",
    "\n",
    "import os\n",
    "import pickle\n",
    "import attr\n",
    "\n",
    "import pandas as pd\n",
    "import scipy\n",
    "import numpy as np\n",
    "\n",
    "from game_recommender import steam_data, content_based, user_based, hybrid"
   ]
  },
  {
   "cell_type": "code",
   "execution_count": 4,
   "metadata": {},
   "outputs": [
    {
     "name": "stdout",
     "output_type": "stream",
     "text": [
      "/home/kuba/Projects/game_recommender\n"
     ]
    }
   ],
   "source": [
    "%cd .."
   ]
  },
  {
   "cell_type": "code",
   "execution_count": 6,
   "metadata": {},
   "outputs": [],
   "source": [
    "game_dataset = steam_data.get_steam_ratings_dataset()"
   ]
  },
  {
   "cell_type": "code",
   "execution_count": 5,
   "metadata": {},
   "outputs": [],
   "source": [
    "user_based_recommender = user_based.UserBasedRecommender.make_from_steam_ratings('log_hours')\n",
    "content_based_recommender = content_based.ContentBasedRecommender.make_from_steam_metadata()"
   ]
  },
  {
   "cell_type": "code",
   "execution_count": 19,
   "metadata": {},
   "outputs": [],
   "source": [
    "#export\n",
    "\n",
    "\n",
    "def get_recall_at(user_ratings, recommendations, k=10):\n",
    "    user_games = user_ratings.sort_values(ascending=False)[:k]\n",
    "    recommended_games = recommendations.sort_values(ascending=False)[:k]\n",
    "    return recommended_games.index.isin(user_games.index).sum() / len(user_games)\n",
    "\n",
    "\n",
    "def fill_nonexistent_with_zeros(source, target):\n",
    "    not_in_source = target[~target.index.isin(source.index)].index\n",
    "    zeroed_not_in_source = pd.Series(index=not_in_source, data=np.zeros_like(not_in_source))\n",
    "    return pd.concat([source, zeroed_not_in_source])\n",
    "\n",
    "\n",
    "def make_data_for_correlation_comparison(user_ratings, recommendations):\n",
    "    user_ratings_with_zeros = fill_nonexistent_with_zeros(recommendations, user_ratings)\n",
    "    recommendations_with_zeros = fill_nonexistent_with_zeros(user_ratings, recommendations)[user_ratings_with_zeros.index]\n",
    "    n_compared = min([len(user_ratings), len(recommendations)])\n",
    "    return user_ratings_with_zeros, recommendations_with_zeros, n_compared\n",
    "\n",
    "\n",
    "def get_correlation(user_ratings, recommendations, method=scipy.stats.spearmanr):\n",
    "    user_ratings_with_zeros, recommendations_with_zeros, n_compared = make_data_for_correlation_comparison(user_ratings, recommendations) \n",
    "    return method(user_ratings_with_zeros[:n_compared], recommendations_with_zeros[:n_compared])[0]"
   ]
  },
  {
   "cell_type": "code",
   "execution_count": 20,
   "metadata": {},
   "outputs": [],
   "source": [
    "ratings_df = pd.concat([game_dataset.data, game_dataset.target], axis=1)\n",
    "user_item_df = steam_data.get_user_item_df(ratings_df)"
   ]
  },
  {
   "cell_type": "code",
   "execution_count": 21,
   "metadata": {},
   "outputs": [],
   "source": [
    "recommender = hybrid.HybridRecommender(content_based_recommender, user_based_recommender)\n",
    "\n",
    "recommendations = recommender.get_weighted_recommendations(user_ratings, 20, user_recommendation_weight=1, content_recommendation_weight=1, mean_content_recommendation_weight=1)"
   ]
  },
  {
   "cell_type": "code",
   "execution_count": 22,
   "metadata": {},
   "outputs": [],
   "source": [
    "i = 10\n",
    "user_id = user_based_recommender.user_similarity_searcher.df.iloc[10,0]\n",
    "user_ratings_raw = user_item_df.iloc[10]\n",
    "user_ratings = user_ratings_raw[~user_ratings_raw.isna()]"
   ]
  },
  {
   "cell_type": "code",
   "execution_count": 23,
   "metadata": {},
   "outputs": [
    {
     "data": {
      "text/plain": [
       "0.3"
      ]
     },
     "execution_count": 23,
     "metadata": {},
     "output_type": "execute_result"
    }
   ],
   "source": [
    "get_recall_at(user_ratings, recommendations)"
   ]
  },
  {
   "cell_type": "code",
   "execution_count": 25,
   "metadata": {},
   "outputs": [
    {
     "data": {
      "text/plain": [
       "counter strike                      3.13549\n",
       "counter strike global offensive     6.19441\n",
       "counter strike nexon zombies       0.693147\n",
       "counter strike source              0.693147\n",
       "day of defeat                      0.693147\n",
       "deathmatch classic                 0.693147\n",
       "eldevin                            0.693147\n",
       "half life                          0.693147\n",
       "half life blue shift               0.693147\n",
       "half life opposing force           0.693147\n",
       "planetside 2                       0.693147\n",
       "raceroom racing experience         0.336472\n",
       "realm of the mad god               0.693147\n",
       "ricochet                           0.693147\n",
       "team fortress classic              0.693147\n",
       "unturned                           0.693147\n",
       "warface                            0.693147\n",
       "call of duty 4 modern warfare             0\n",
       "world of tanks blitz mmo                  0\n",
       "tanki online                              0\n",
       "blockade classic                          0\n",
       "team fortress 2                           0\n",
       "post scriptum                             0\n",
       "argo                                      0\n",
       "squad                                     0\n",
       "dota 2                                    0\n",
       "tera                                      0\n",
       "arma 2 operation arrowhead                0\n",
       "supreme commander 2                       0\n",
       "insurgency                                0\n",
       "rise of liberty                           0\n",
       "dtype: object"
      ]
     },
     "execution_count": 25,
     "metadata": {},
     "output_type": "execute_result"
    }
   ],
   "source": [
    "fill_nonexistent_with_zeros(user_ratings, recommendations)"
   ]
  },
  {
   "cell_type": "code",
   "execution_count": 26,
   "metadata": {},
   "outputs": [
    {
     "data": {
      "text/plain": [
       "0.10891622972743417"
      ]
     },
     "execution_count": 26,
     "metadata": {},
     "output_type": "execute_result"
    }
   ],
   "source": [
    "get_correlation(user_ratings, recommendations, method=scipy.stats.kendalltau)"
   ]
  }
 ],
 "metadata": {
  "kernelspec": {
   "display_name": "ml",
   "language": "python",
   "name": "ml"
  },
  "language_info": {
   "codemirror_mode": {
    "name": "ipython",
    "version": 3
   },
   "file_extension": ".py",
   "mimetype": "text/x-python",
   "name": "python",
   "nbconvert_exporter": "python",
   "pygments_lexer": "ipython3",
   "version": "3.7.7"
  }
 },
 "nbformat": 4,
 "nbformat_minor": 4
}
