{
 "cells": [
  {
   "cell_type": "code",
   "execution_count": 1,
   "metadata": {},
   "outputs": [],
   "source": [
    "#default_exp evaluation"
   ]
  },
  {
   "cell_type": "code",
   "execution_count": 2,
   "metadata": {},
   "outputs": [],
   "source": [
    "#export\n",
    "\n",
    "import os\n",
    "import pickle\n",
    "import attr\n",
    "\n",
    "import pandas as pd\n",
    "import scipy\n",
    "import numpy as np\n",
    "from functools import partial\n",
    "\n",
    "\n",
    "from game_recommender import steam_data, content_based, user_based, hybrid"
   ]
  },
  {
   "cell_type": "code",
   "execution_count": 3,
   "metadata": {},
   "outputs": [
    {
     "name": "stdout",
     "output_type": "stream",
     "text": [
      "/home/kuba/Projects/game_recommender\n"
     ]
    }
   ],
   "source": [
    "%cd .."
   ]
  },
  {
   "cell_type": "code",
   "execution_count": 4,
   "metadata": {},
   "outputs": [],
   "source": [
    "game_dataset = steam_data.get_steam_ratings_dataset()"
   ]
  },
  {
   "cell_type": "code",
   "execution_count": 5,
   "metadata": {},
   "outputs": [],
   "source": [
    "user_based_recommender = user_based.UserBasedRecommender.make_from_steam_ratings('log_hours')\n",
    "content_based_recommender = content_based.ContentBasedRecommender.make_from_steam_metadata()"
   ]
  },
  {
   "cell_type": "code",
   "execution_count": 6,
   "metadata": {},
   "outputs": [],
   "source": [
    "#export\n",
    "\n",
    "\n",
    "class metrics:\n",
    "        \n",
    "    @staticmethod\n",
    "    def get_correlation(user_ratings, recommendations, method=scipy.stats.kendalltau):\n",
    "        user_ratings_with_zeros, recommendations_with_zeros, n_compared = metrics._make_data_for_correlation_comparison(user_ratings, recommendations) \n",
    "        return method(user_ratings_with_zeros[:n_compared], recommendations_with_zeros[:n_compared])[0]\n",
    "\n",
    "    @staticmethod\n",
    "    def get_recall_at(user_ratings, recommendations, k=10):\n",
    "        user_games = user_ratings.sort_values(ascending=False)[:k]\n",
    "        recommended_games = recommendations.sort_values(ascending=False)[:k]\n",
    "        return recommended_games.index.isin(user_games.index).sum() / len(user_games)\n",
    "\n",
    "    @staticmethod\n",
    "    def _fill_nonexistent_with_zeros(source, target):\n",
    "        not_in_source = target[~target.index.isin(source.index)].index\n",
    "        zeroed_not_in_source = pd.Series(index=not_in_source, data=np.zeros_like(not_in_source))\n",
    "        return pd.concat([source, zeroed_not_in_source])\n",
    "\n",
    "    @staticmethod\n",
    "    def _make_data_for_correlation_comparison(user_ratings, recommendations):\n",
    "        user_ratings_with_zeros = metrics._fill_nonexistent_with_zeros(recommendations, user_ratings)\n",
    "        recommendations_with_zeros = metrics._fill_nonexistent_with_zeros(user_ratings, recommendations)[user_ratings_with_zeros.index]\n",
    "        n_compared = min([len(user_ratings), len(recommendations)])\n",
    "        return user_ratings_with_zeros, recommendations_with_zeros, n_compared\n"
   ]
  },
  {
   "cell_type": "code",
   "execution_count": 7,
   "metadata": {},
   "outputs": [],
   "source": [
    "user_item_df = game_dataset.get_user_item_df()"
   ]
  },
  {
   "cell_type": "markdown",
   "metadata": {},
   "source": [
    "# Evaluating recommendations for an example user"
   ]
  },
  {
   "cell_type": "code",
   "execution_count": 8,
   "metadata": {},
   "outputs": [],
   "source": [
    "i = 10\n",
    "user_id = user_based_recommender.user_similarity_searcher.df.iloc[i,0]\n",
    "user_ratings_raw = user_item_df.iloc[i]\n",
    "user_ratings = user_ratings_raw[~user_ratings_raw.isna()]"
   ]
  },
  {
   "cell_type": "code",
   "execution_count": 9,
   "metadata": {},
   "outputs": [
    {
     "data": {
      "text/plain": [
       "name\n",
       "counter strike                     3.135494\n",
       "counter strike global offensive    6.194405\n",
       "counter strike nexon zombies       0.693147\n",
       "counter strike source              0.693147\n",
       "day of defeat                      0.693147\n",
       "deathmatch classic                 0.693147\n",
       "eldevin                            0.693147\n",
       "half life                          0.693147\n",
       "half life blue shift               0.693147\n",
       "half life opposing force           0.693147\n",
       "planetside 2                       0.693147\n",
       "raceroom racing experience         0.336472\n",
       "realm of the mad god               0.693147\n",
       "ricochet                           0.693147\n",
       "team fortress classic              0.693147\n",
       "unturned                           0.693147\n",
       "warface                            0.693147\n",
       "Name: 547685, dtype: float64"
      ]
     },
     "execution_count": 9,
     "metadata": {},
     "output_type": "execute_result"
    }
   ],
   "source": [
    "user_ratings"
   ]
  },
  {
   "cell_type": "code",
   "execution_count": 10,
   "metadata": {},
   "outputs": [],
   "source": [
    "recommender = hybrid.HybridRecommender(content_based_recommender, user_based_recommender)\n",
    "\n",
    "recommendations = recommender.get_weighted_recommendations(user_ratings, 20, user_recommendation_weight=1, content_recommendation_weight=1, mean_content_recommendation_weight=1)"
   ]
  },
  {
   "cell_type": "code",
   "execution_count": 11,
   "metadata": {},
   "outputs": [
    {
     "data": {
      "text/plain": [
       "0.3"
      ]
     },
     "execution_count": 11,
     "metadata": {},
     "output_type": "execute_result"
    }
   ],
   "source": [
    "metrics.get_recall_at(user_ratings, recommendations)"
   ]
  },
  {
   "cell_type": "code",
   "execution_count": 12,
   "metadata": {},
   "outputs": [
    {
     "data": {
      "text/plain": [
       "counter strike                      3.13549\n",
       "counter strike global offensive     6.19441\n",
       "counter strike nexon zombies       0.693147\n",
       "counter strike source              0.693147\n",
       "day of defeat                      0.693147\n",
       "deathmatch classic                 0.693147\n",
       "eldevin                            0.693147\n",
       "half life                          0.693147\n",
       "half life blue shift               0.693147\n",
       "half life opposing force           0.693147\n",
       "planetside 2                       0.693147\n",
       "raceroom racing experience         0.336472\n",
       "realm of the mad god               0.693147\n",
       "ricochet                           0.693147\n",
       "team fortress classic              0.693147\n",
       "unturned                           0.693147\n",
       "warface                            0.693147\n",
       "call of duty 4 modern warfare             0\n",
       "world of tanks blitz mmo                  0\n",
       "tanki online                              0\n",
       "blockade classic                          0\n",
       "team fortress 2                           0\n",
       "post scriptum                             0\n",
       "argo                                      0\n",
       "squad                                     0\n",
       "dota 2                                    0\n",
       "tera                                      0\n",
       "arma 2 operation arrowhead                0\n",
       "supreme commander 2                       0\n",
       "insurgency                                0\n",
       "rise of liberty                           0\n",
       "dtype: object"
      ]
     },
     "execution_count": 12,
     "metadata": {},
     "output_type": "execute_result"
    }
   ],
   "source": [
    "metrics._fill_nonexistent_with_zeros(user_ratings, recommendations)"
   ]
  },
  {
   "cell_type": "code",
   "execution_count": 13,
   "metadata": {},
   "outputs": [
    {
     "data": {
      "text/plain": [
       "0.10891622972743417"
      ]
     },
     "execution_count": 13,
     "metadata": {},
     "output_type": "execute_result"
    }
   ],
   "source": [
    "metrics.get_correlation(user_ratings, recommendations, method=scipy.stats.kendalltau)"
   ]
  },
  {
   "cell_type": "code",
   "execution_count": 14,
   "metadata": {},
   "outputs": [],
   "source": [
    "@attr.s\n",
    "class HybridRecommenderEvaluator:\n",
    "    \n",
    "    recommender: hybrid.HybridRecommender = attr.ib()\n",
    "        \n",
    "    def get_per_user_recommendation_groups(self, users_ratings, n_recommended=20, n_similar_users=10, n_similar_items=10):\n",
    "        return [recommender.get_recommendation_groups(user_ratings, n_similar_users, n_similar_items) for user_ratings in users_ratings]\n",
    "    \n",
    "    def get_metric_values(\n",
    "            self,\n",
    "            users_ratings,\n",
    "            user_recommendations_groups,\n",
    "            n_recommended,\n",
    "            metric,\n",
    "            user_recommendation_weight=1,\n",
    "            content_recommendation_weight=1,\n",
    "            mean_content_recommendation_weight=1\n",
    "            ):\n",
    "        \n",
    "        weights = [user_recommendation_weight, content_recommendation_weight, mean_content_recommendation_weight]\n",
    "        metric_values = [\n",
    "            metric(users_ratings, recommender.weigh_recommendations(user_recommendation_group, weights, n_recommended))\n",
    "            for users_ratings, user_recommendation_group in zip(user_ratings, user_recommendations_groups)\n",
    "        ]\n",
    "        return pd.Series(metric_values)"
   ]
  },
  {
   "cell_type": "code",
   "execution_count": 15,
   "metadata": {},
   "outputs": [],
   "source": [
    "user_item_df_with_rankings = user_item_df[user_item_df.var(axis=1) > 1e-4]"
   ]
  },
  {
   "cell_type": "code",
   "execution_count": 16,
   "metadata": {},
   "outputs": [],
   "source": [
    "users_ratings_raw = user_item_df_with_rankings.iloc[:500]\n",
    "user_ratings = [ratings.dropna() for (__, ratings) in users_ratings_raw.iterrows()]\n",
    "\n",
    "#user_ratings = user_ratings_raw[~user_ratings_raw.isna()]"
   ]
  },
  {
   "cell_type": "code",
   "execution_count": 17,
   "metadata": {},
   "outputs": [
    {
     "data": {
      "text/plain": [
       "0.03046218487394958"
      ]
     },
     "execution_count": 17,
     "metadata": {},
     "output_type": "execute_result"
    }
   ],
   "source": [
    "(user_item_df.var(axis=1) < 1e-4).mean()"
   ]
  },
  {
   "cell_type": "code",
   "execution_count": 18,
   "metadata": {},
   "outputs": [],
   "source": [
    "evaluator = HybridRecommenderEvaluator(recommender)"
   ]
  },
  {
   "cell_type": "code",
   "execution_count": 19,
   "metadata": {},
   "outputs": [
    {
     "name": "stdout",
     "output_type": "stream",
     "text": [
      "CPU times: user 3min 45s, sys: 8.77 s, total: 3min 54s\n",
      "Wall time: 3min 54s\n"
     ]
    }
   ],
   "source": [
    "%%time\n",
    "rec_groups = evaluator.get_per_user_recommendation_groups(user_ratings)"
   ]
  },
  {
   "cell_type": "code",
   "execution_count": 20,
   "metadata": {},
   "outputs": [
    {
     "data": {
      "text/plain": [
       "count    500.000000\n",
       "mean       0.503060\n",
       "std        0.314806\n",
       "min        0.000000\n",
       "25%        0.300000\n",
       "50%        0.500000\n",
       "75%        0.714286\n",
       "max        1.000000\n",
       "dtype: float64"
      ]
     },
     "execution_count": 20,
     "metadata": {},
     "output_type": "execute_result"
    },
    {
     "data": {
      "image/png": "[encoded data removed]",
      "text/plain": [
       "<Figure size 432x288 with 1 Axes>"
      ]
     },
     "metadata": {
      "needs_background": "light"
     },
     "output_type": "display_data"
    }
   ],
   "source": [
    "recall = evaluator.get_metric_values(rec_groups, rec_groups, 10, metrics.get_recall_at, 1, 1, 1)\n",
    "recall.plot.hist()\n",
    "recall.describe()"
   ]
  },
  {
   "cell_type": "code",
   "execution_count": 21,
   "metadata": {},
   "outputs": [
    {
     "data": {
      "text/plain": [
       "count    496.000000\n",
       "mean       0.152909\n",
       "std        0.304881\n",
       "min       -0.800000\n",
       "25%       -0.039722\n",
       "50%        0.127173\n",
       "75%        0.358613\n",
       "max        0.856349\n",
       "dtype: float64"
      ]
     },
     "execution_count": 21,
     "metadata": {},
     "output_type": "execute_result"
    },
    {
     "data": {
      "image/png": "[encoded data removed]",
      "text/plain": [
       "<Figure size 432x288 with 1 Axes>"
      ]
     },
     "metadata": {
      "needs_background": "light"
     },
     "output_type": "display_data"
    }
   ],
   "source": [
    "correlation = evaluator.get_metric_values(rec_groups, rec_groups, 20, partial(metrics.get_correlation, method=scipy.stats.kendalltau), 1, 1, 1)\n",
    "correlation.plot.hist()\n",
    "correlation.describe()"
   ]
  },
  {
   "cell_type": "code",
   "execution_count": 22,
   "metadata": {},
   "outputs": [
    {
     "data": {
      "text/plain": [
       "name\n",
       "counter strike              0.095310\n",
       "day of defeat               0.693147\n",
       "deathmatch classic          0.693147\n",
       "half life                   0.693147\n",
       "half life blue shift        0.693147\n",
       "half life opposing force    0.693147\n",
       "ricochet                    0.693147\n",
       "team fortress classic       0.693147\n",
       "Name: 144736, dtype: float64"
      ]
     },
     "execution_count": 22,
     "metadata": {},
     "output_type": "execute_result"
    }
   ],
   "source": [
    "user_ratings[3]"
   ]
  },
  {
   "cell_type": "code",
   "execution_count": 23,
   "metadata": {},
   "outputs": [],
   "source": [
    "??scipy.stats.kendalltau"
   ]
  },
  {
   "cell_type": "code",
   "execution_count": 24,
   "metadata": {},
   "outputs": [],
   "source": [
    "example_user_ratings = user_ratings[-2]"
   ]
  },
  {
   "cell_type": "code",
   "execution_count": 25,
   "metadata": {},
   "outputs": [
    {
     "data": {
      "text/plain": [
       "name\n",
       "age of chivalry                                0.693147\n",
       "alien swarm                                    0.262364\n",
       "brawlhalla                                     0.182322\n",
       "contagion                                      0.641854\n",
       "counter strike global offensive                1.386294\n",
       "dino d day                                     0.693147\n",
       "dungeon defenders 2                            0.095310\n",
       "e.y.e divine cybermancy                        1.098612\n",
       "floating point                                 0.095310\n",
       "garrys mod                                     3.044522\n",
       "gear up                                        0.693147\n",
       "grand theft auto 4                             1.098612\n",
       "grand theft auto episodes from liberty city    0.693147\n",
       "gunpoint                                       0.693147\n",
       "half life 2                                    0.693147\n",
       "half life 2 deathmatch                         0.693147\n",
       "half life 2 episode one                        0.693147\n",
       "half life 2 episode two                        0.693147\n",
       "hammerwatch                                    0.693147\n",
       "heroes and generals                            0.262364\n",
       "insurgency                                     0.182322\n",
       "killing floor                                  3.178054\n",
       "killing floor toy master                       0.693147\n",
       "left 4 dead 2                                  1.840550\n",
       "max gentlemen                                  0.693147\n",
       "mount and blade warband                        2.694627\n",
       "natural selection 2                            0.916291\n",
       "neverwinter                                    1.435085\n",
       "orcs must die 2                                1.131402\n",
       "orion prelude                                  0.993252\n",
       "payday 2                                       1.193922\n",
       "payday the heist                               1.547563\n",
       "planetside 2                                   2.674149\n",
       "portal                                         1.667707\n",
       "race 07                                        0.788457\n",
       "risk of rain                                   0.405465\n",
       "saints row 4                                   1.131402\n",
       "sniper elite v2                                1.029619\n",
       "star conflict                                  1.931521\n",
       "starbound                                      1.840550\n",
       "steamworld dig                                 0.693147\n",
       "team fortress 2                                5.697093\n",
       "terraria                                       3.367296\n",
       "tom clancys rainbow six siege                  3.970292\n",
       "tom clancys rainbow six vegas                  0.693147\n",
       "tom clancys splinter cell blacklist            1.064711\n",
       "torchlight 2                                   2.079442\n",
       "unturned                                       0.955511\n",
       "warface                                        0.788457\n",
       "zombie panic source                            1.987874\n",
       "Name: 42928788, dtype: float64"
      ]
     },
     "execution_count": 25,
     "metadata": {},
     "output_type": "execute_result"
    }
   ],
   "source": [
    "example_user_ratings"
   ]
  },
  {
   "cell_type": "code",
   "execution_count": null,
   "metadata": {},
   "outputs": [],
   "source": []
  }
 ],
 "metadata": {
  "kernelspec": {
   "display_name": "ml",
   "language": "python",
   "name": "ml"
  },
  "language_info": {
   "codemirror_mode": {
    "name": "ipython",
    "version": 3
   },
   "file_extension": ".py",
   "mimetype": "text/x-python",
   "name": "python",
   "nbconvert_exporter": "python",
   "pygments_lexer": "ipython3",
   "version": "3.7.7"
  }
 },
 "nbformat": 4,
 "nbformat_minor": 4
}
