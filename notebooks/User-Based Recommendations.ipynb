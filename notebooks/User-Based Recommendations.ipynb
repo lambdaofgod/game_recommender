{
 "cells": [
  {
   "cell_type": "code",
   "execution_count": 17,
   "metadata": {},
   "outputs": [],
   "source": [
    "#default_exp user_based"
   ]
  },
  {
   "cell_type": "code",
   "execution_count": null,
   "metadata": {},
   "outputs": [],
   "source": [
    "import os\n",
    "import pickle\n",
    "import attr\n",
    "\n",
    "import pandas as pd\n",
    "import scipy\n",
    "import numpy as np\n",
    "\n",
    "from game_recommender import steam_data, content_based"
   ]
  },
  {
   "cell_type": "code",
   "execution_count": 2,
   "metadata": {},
   "outputs": [
    {
     "name": "stdout",
     "output_type": "stream",
     "text": [
      "/home/kuba/Projects/game_recommender\n"
     ]
    }
   ],
   "source": [
    "%cd .."
   ]
  },
  {
   "cell_type": "code",
   "execution_count": 3,
   "metadata": {},
   "outputs": [],
   "source": [
    "game_dataset_pickle_path = 'data/game_dataset.pkl'\n",
    "if os.path.exists(game_dataset_pickle_path):\n",
    "    game_dataset_raw = pickle.load(open(game_dataset_pickle_path, 'rb'))\n",
    "else:\n",
    "    steam_ratings_df = steam_data.filter_ratings_with_metadata(raw_steam_ratings_df)\n",
    "    game_dataset_raw = steam_data.RecommenderDataset.make_implicit_feedback_dataset(steam_ratings_df)\n",
    "    pickle.dump(game_dataset_raw, open(game_dataset_pickle_path, 'wb'))\n",
    "\n",
    "game_dataset = (\n",
    "    game_dataset_raw\n",
    "    .filter_out_insufficient_reviews('user_id', 5)\n",
    "    .filter_out_insufficient_reviews('name', 2)\n",
    ")"
   ]
  },
  {
   "cell_type": "code",
   "execution_count": 4,
   "metadata": {},
   "outputs": [],
   "source": [
    "user_game_matrix = steam_data.get_item_user_matrix(game_dataset)\n",
    "steam_ratings_df, target = game_dataset.data, game_dataset.target"
   ]
  },
  {
   "cell_type": "code",
   "execution_count": 8,
   "metadata": {},
   "outputs": [],
   "source": [
    "#export\n",
    "\n",
    "\n",
    "@attr.s\n",
    "class UserBasedRecommender:\n",
    "    \n",
    "    user_similarity_searcher: content_based.SimilaritySearcher = attr.ib()\n",
    "    ratings_matrix = attr.ib()\n",
    "    games = attr.ib()\n",
    "    EPS = 1e-6\n",
    "        \n",
    "    def recommend_games_from_similar_users(\n",
    "            self,\n",
    "            user_id=None,\n",
    "            user_vector=None,\n",
    "            n_recommended=10,\n",
    "            n_similar=5):\n",
    "        assert not user_id is None or not user_ratings is None, 'Need to specify user id or vector'\n",
    "        if user_id is not None:\n",
    "            similar_users, similarities = self.user_similarity_searcher.find_similar(chosen_items=[user_id], n_similar=n_similar)\n",
    "        else:\n",
    "            similar_users, similarities = self.user_similarity_searcher.find_similar(chosen_vectors=user_vector.reshape(1,-1), n_similar=n_similar)\n",
    "        mean_similar_users = similar_users.pop('mean')\n",
    "        mean_similarities = similarities.pop('mean_similarity')\n",
    "        similarities = similarities.values.reshape(-1)\n",
    "        similar_user_idxs = self.user_similarity_searcher.df[self.user_similarity_searcher.df['user_id'].isin(similar_users.values.reshape(-1))].index\n",
    "        similar_users_ratings = self.ratings_matrix[similar_user_idxs]\n",
    "        predicted_ratings_by_user = (np.diag(similarities / similarities.max())) @ similar_users_ratings\n",
    "        \n",
    "        pred_ratings_by_user_sum = (predicted_ratings_by_user > 0).sum(axis=0)\n",
    "        pred_ratings_by_user_sum[pred_ratings_by_user_sum < self.EPS] = 1\n",
    "        predicted_ratings = predicted_ratings_by_user.sum(axis=0) / pred_ratings_by_user_sum\n",
    "        best_rated_games_idxs = predicted_ratings.argsort()[::-1][:n_recommended]\n",
    "        best_rated_games = self.games[best_rated_games_idxs]\n",
    "        return best_rated_games, predicted_ratings[best_rated_games_idxs]\n",
    "    \n",
    "    @classmethod\n",
    "    def make_from_ratings(cls, ratings_df, target, target_col):\n",
    "        ratings_df = pd.concat([steam_ratings_df, target], axis=1)\n",
    "        item_user_pivoted_df = ratings_df.pivot_table(index='user_id', columns='name', values=target_col)\n",
    "        user_game_matrix = scipy.sparse.csr_matrix(item_user_pivoted_df.fillna(0))   \n",
    "        user_df = pd.DataFrame({'user_id': item_user_pivoted_df.index})\n",
    "        user_similarity_searcher = content_based.SimilaritySearcher(user_df, user_game_matrix, name_col='user_id')\n",
    "        games = item_user_pivoted_df.columns\n",
    "        return UserBasedRecommender(user_similarity_searcher, user_game_matrix, games)"
   ]
  },
  {
   "cell_type": "code",
   "execution_count": 9,
   "metadata": {},
   "outputs": [],
   "source": [
    "user_based_recommender = UserBasedRecommender.make_from_ratings(game_dataset.data, game_dataset.target, 'log_hours')"
   ]
  },
  {
   "cell_type": "code",
   "execution_count": 12,
   "metadata": {},
   "outputs": [],
   "source": [
    "ratings_df = pd.concat([game_dataset.data, game_dataset.target], axis=1)\n",
    "item_user_pivoted_df = ratings_df.pivot_table(index='name', columns='user_id', values='log_hours')"
   ]
  },
  {
   "cell_type": "code",
   "execution_count": 18,
   "metadata": {},
   "outputs": [],
   "source": [
    "i = 10\n",
    "user_id = user_based_recommender.user_similarity_searcher.df.iloc[10,0]\n",
    "user_ratings = item_user_pivoted_df.iloc[:,10]"
   ]
  },
  {
   "cell_type": "code",
   "execution_count": 19,
   "metadata": {},
   "outputs": [
    {
     "data": {
      "text/plain": [
       "(Index(['counter strike global offensive', 'counter strike',\n",
       "        'counter strike source', 'half life', 'team fortress classic',\n",
       "        'half life opposing force', 'half life blue shift', 'ricochet',\n",
       "        'day of defeat', 'deathmatch classic'],\n",
       "       dtype='object', name='name'),\n",
       " array([4.68298243, 2.46533538, 0.68583722, 0.66945441, 0.66945441,\n",
       "        0.66945441, 0.66945441, 0.66053106, 0.66053106, 0.66053106]))"
      ]
     },
     "execution_count": 19,
     "metadata": {},
     "output_type": "execute_result"
    }
   ],
   "source": [
    "user_based_recommender.recommend_games_from_similar_users(user_id, n_recommended=10, n_similar=5)"
   ]
  },
  {
   "cell_type": "code",
   "execution_count": 20,
   "metadata": {},
   "outputs": [
    {
     "data": {
      "text/plain": [
       "(Index(['counter strike global offensive', 'counter strike',\n",
       "        'counter strike source', 'half life', 'team fortress classic',\n",
       "        'half life opposing force', 'half life blue shift', 'ricochet',\n",
       "        'day of defeat', 'deathmatch classic'],\n",
       "       dtype='object', name='name'),\n",
       " array([4.68298243, 2.46533538, 0.68583722, 0.66945441, 0.66945441,\n",
       "        0.66945441, 0.66945441, 0.66053106, 0.66053106, 0.66053106]))"
      ]
     },
     "execution_count": 20,
     "metadata": {},
     "output_type": "execute_result"
    }
   ],
   "source": [
    "user_based_recommender.recommend_games_from_similar_users(user_vector=user_based_recommender.ratings_matrix[i], n_recommended=10, n_similar=5)"
   ]
  }
 ],
 "metadata": {
  "kernelspec": {
   "display_name": "ml",
   "language": "python",
   "name": "ml"
  },
  "language_info": {
   "codemirror_mode": {
    "name": "ipython",
    "version": 3
   },
   "file_extension": ".py",
   "mimetype": "text/x-python",
   "name": "python",
   "nbconvert_exporter": "python",
   "pygments_lexer": "ipython3",
   "version": "3.7.7"
  }
 },
 "nbformat": 4,
 "nbformat_minor": 4
}
