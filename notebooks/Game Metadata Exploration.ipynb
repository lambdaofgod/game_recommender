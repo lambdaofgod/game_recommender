{
 "cells": [
  {
   "cell_type": "code",
   "execution_count": null,
   "metadata": {},
   "outputs": [],
   "source": [
    "#default_exp steam_data"
   ]
  },
  {
   "cell_type": "code",
   "execution_count": null,
   "metadata": {},
   "outputs": [],
   "source": [
    "#export \n",
    "\n",
    "import scipy\n",
    "import pandas as pd\n",
    "import tqdm\n",
    "\n",
    "from sklearn import compose, feature_extraction, metrics\n",
    "from functools import reduce, partial\n",
    "import numpy as np\n",
    "import attr\n",
    "import seaborn as sns\n",
    "import re"
   ]
  },
  {
   "cell_type": "code",
   "execution_count": null,
   "metadata": {},
   "outputs": [],
   "source": [
    "#export\n",
    "\n",
    "METACRITIC_GAME_METADATA_PATH = 'data/metacritic-video-game-comments/metacritic_game_info.csv'\n",
    "STEAM_GAME_METADATA_PATH = 'data/steam_games_metadata/steam_games.csv'\n",
    "STEAM_GAME_RATINGS_PATH = 'data/steam-video-games/steam-200k.csv'"
   ]
  },
  {
   "cell_type": "markdown",
   "metadata": {},
   "source": [
    "# Steam data"
   ]
  },
  {
   "cell_type": "code",
   "execution_count": null,
   "metadata": {},
   "outputs": [],
   "source": [
    "%cd .."
   ]
  },
  {
   "cell_type": "code",
   "execution_count": null,
   "metadata": {},
   "outputs": [],
   "source": [
    "!ls data/steam_games_metadata/"
   ]
  },
  {
   "cell_type": "code",
   "execution_count": null,
   "metadata": {},
   "outputs": [],
   "source": [
    "!ls data/steam-video-games/"
   ]
  },
  {
   "cell_type": "code",
   "execution_count": null,
   "metadata": {},
   "outputs": [],
   "source": [
    "raw_steam_df = pd.read_csv(STEAM_GAME_METADATA_PATH)"
   ]
  },
  {
   "cell_type": "markdown",
   "metadata": {},
   "source": [
    "# Preprocessing\n",
    "\n",
    "The two datasets we use:\n",
    "\n",
    "- trolukovich/steam-games-complete-dataset\n",
    "- tamber/steam-video-games\n",
    "\n",
    "Have incompatible names, so we need to normalize them."
   ]
  },
  {
   "cell_type": "code",
   "execution_count": null,
   "metadata": {},
   "outputs": [],
   "source": [
    "# export\n",
    "\n",
    "characters_replaced_with_space_regex = re.compile('[\\:,®-–\"™]') \n",
    "dropped_patterns_regex = re.compile('beta|demo')\n",
    "\n",
    "\n",
    "def normalize_numerals(name):\n",
    "    normalized_name = name\n",
    "    numeral_patterns = [\n",
    "        ('ii', '2'),\n",
    "        ('iii', '3'),\n",
    "        ('iv', '4'),\n",
    "        ('vi', '6'),\n",
    "        ('v', '5')\n",
    "   ]\n",
    "    for (numeral, normalized_numeral) in numeral_patterns:\n",
    "        numeral_pattern = ' ' + numeral + '($| )'\n",
    "        normalized_numeral_pattern = ' ' + normalized_numeral + '\\\\1'\n",
    "        normalized_name = re.sub(numeral_pattern, normalized_numeral_pattern, normalized_name) \n",
    "    return normalized_name\n",
    "\n",
    "\n",
    "def normalize_name(name):\n",
    "    \n",
    "    name_without_illegal_characters = re.sub(characters_replaced_with_space_regex, ' ', name)\n",
    "    name_without_illegal_characters = re.sub(dropped_patterns_regex, '', name_without_illegal_characters)\n",
    "        \n",
    "    name_without_illegal_characters = (\n",
    "        name_without_illegal_characters\n",
    "        .replace('!', ' ')\n",
    "        .replace('(', ' ')\n",
    "        .replace(')', ' ')\n",
    "        .replace('+', ' ')\n",
    "        .replace('-', ' ')\n",
    "        .replace('&', 'and')\n",
    "        .replace('’', \"'\")\n",
    "        .replace('`', \"'\")\n",
    "        .replace('’', \"'\")\n",
    "        .replace(\"'s\", \"s\")\n",
    "        .replace(\"'t\", 't')\n",
    "        .replace('gold edition', 'gold')\n",
    "        .replace('gold pack', 'gold')\n",
    "        .replace('osx', '')\n",
    "        .lower()\n",
    "    )\n",
    "    name_without_multiple_whitespaces = re.sub('\\s+', ' ', name_without_illegal_characters)\n",
    "    name_with_normalized_numerals = normalize_numerals(name_without_multiple_whitespaces)\n",
    "    return name_with_normalized_numerals.lower().strip()\n",
    "\n",
    "\n",
    "def normalize_names(name_col):\n",
    "    return name_col.apply(normalize_name)"
   ]
  },
  {
   "cell_type": "code",
   "execution_count": null,
   "metadata": {},
   "outputs": [],
   "source": [
    "assert normalize_name(\"Sid Meier's Civilization IV\") == 'sid meiers civilization 4'\n",
    "assert normalize_name(\"Sid Meier's Civilization IV Warlords\") == 'sid meiers civilization 4 warlords'"
   ]
  },
  {
   "cell_type": "markdown",
   "metadata": {},
   "source": [
    "# Basic information"
   ]
  },
  {
   "cell_type": "code",
   "execution_count": null,
   "metadata": {},
   "outputs": [],
   "source": [
    "raw_steam_df.head()"
   ]
  },
  {
   "cell_type": "code",
   "execution_count": null,
   "metadata": {},
   "outputs": [],
   "source": [
    "raw_steam_df.info()"
   ]
  },
  {
   "cell_type": "markdown",
   "metadata": {},
   "source": [
    "# Content without names\n",
    "\n",
    "These correspond to steam product bundles. These aren't really games so we drop them. "
   ]
  },
  {
   "cell_type": "code",
   "execution_count": null,
   "metadata": {},
   "outputs": [],
   "source": [
    "raw_steam_df[raw_steam_df['name'].isna()].head()"
   ]
  },
  {
   "cell_type": "markdown",
   "metadata": {},
   "source": [
    "# Data cleaning\n",
    "\n",
    "We remove entries that have a null in any of interesting fields"
   ]
  },
  {
   "cell_type": "code",
   "execution_count": null,
   "metadata": {},
   "outputs": [],
   "source": [
    "#export\n",
    "\n",
    "def clean_steam_df(raw_steam_df):\n",
    "    text_columns = [\n",
    "        'name',\n",
    "        'game_description',\n",
    "        'game_details',\n",
    "        'popular_tags',\n",
    "        'desc_snippet',\n",
    "        'genre'\n",
    "    ]\n",
    "    invalid_indices = reduce(\n",
    "        lambda s1, s2: s1 | s2,\n",
    "        [raw_steam_df[c].isna() for c in text_columns])\n",
    "\n",
    "\n",
    "    tag_cols = ['popular_tags', 'game_details', 'genre']\n",
    "\n",
    "    steam_df = raw_steam_df.copy()[~invalid_indices]\n",
    "    steam_df.index = pd.RangeIndex(0, len(steam_df))\n",
    "    for c in tag_cols:\n",
    "        steam_df[c] = steam_df[c].str.lower()\n",
    "        \n",
    "    steam_df['name_unnormalized'] = steam_df['name']\n",
    "    steam_df['name'] = normalize_names(steam_df['name'])\n",
    "    return steam_df\n",
    "\n",
    "\n",
    "def load_steam_df(steam_games_metadata_path=STEAM_GAME_METADATA_PATH):\n",
    "    return clean_steam_df(pd.read_csv(steam_games_metadata_path))\n",
    "\n",
    "\n",
    "def get_games_by_name(steam_df, substr):\n",
    "    game_names = steam_df['name'][steam_df['name'].str.contains(substr)]\n",
    "    return steam_df[steam_df['name'].isin(game_names)]"
   ]
  },
  {
   "cell_type": "code",
   "execution_count": null,
   "metadata": {},
   "outputs": [],
   "source": [
    "steam_df = load_steam_df() "
   ]
  },
  {
   "cell_type": "code",
   "execution_count": null,
   "metadata": {},
   "outputs": [],
   "source": [
    "\n",
    "steam_df['name']"
   ]
  },
  {
   "cell_type": "code",
   "execution_count": null,
   "metadata": {},
   "outputs": [],
   "source": [
    "chosen_games_substring = 's.t.a.l.k'"
   ]
  },
  {
   "cell_type": "code",
   "execution_count": null,
   "metadata": {},
   "outputs": [],
   "source": [
    "chosen_games_df = get_games_by_name(steam_df, chosen_games_substring) "
   ]
  },
  {
   "cell_type": "code",
   "execution_count": null,
   "metadata": {},
   "outputs": [],
   "source": [
    "chosen_games_df['name']"
   ]
  },
  {
   "cell_type": "code",
   "execution_count": null,
   "metadata": {},
   "outputs": [],
   "source": [
    "chosen_games_df.iloc[0]['popular_tags']"
   ]
  },
  {
   "cell_type": "code",
   "execution_count": null,
   "metadata": {},
   "outputs": [],
   "source": [
    "chosen_games_df.iloc[0]['game_details']"
   ]
  },
  {
   "cell_type": "code",
   "execution_count": null,
   "metadata": {},
   "outputs": [],
   "source": [
    "chosen_games_df.iloc[0]['genre']"
   ]
  },
  {
   "cell_type": "code",
   "execution_count": null,
   "metadata": {},
   "outputs": [],
   "source": [
    "chosen_games_df['game_description'].iloc[0]"
   ]
  },
  {
   "cell_type": "code",
   "execution_count": null,
   "metadata": {},
   "outputs": [],
   "source": [
    "chosen_games_df['popular_tags'].iloc[0]"
   ]
  },
  {
   "cell_type": "code",
   "execution_count": null,
   "metadata": {},
   "outputs": [],
   "source": [
    "game_descriptions = steam_df['game_description']"
   ]
  },
  {
   "cell_type": "markdown",
   "metadata": {},
   "source": [
    "# Steam200k"
   ]
  },
  {
   "cell_type": "code",
   "execution_count": null,
   "metadata": {},
   "outputs": [],
   "source": [
    "!head $STEAM_GAME_RATINGS_PATH"
   ]
  },
  {
   "cell_type": "code",
   "execution_count": null,
   "metadata": {},
   "outputs": [],
   "source": [
    "# export\n",
    "\n",
    "\n",
    "def load_steam_ratings_df(steam_ratings_path=STEAM_GAME_RATINGS_PATH):\n",
    "    steam_ratings_df = pd.read_csv(STEAM_GAME_RATINGS_PATH)\n",
    "    steam_ratings_df.columns = ['user_id', 'name', 'ownership', 'hours', 'useless']\n",
    "    steam_ratings_df['log_hours'] = np.log1p(steam_ratings_df['hours'])\n",
    "    steam_ratings_df['played'] = 1 * (steam_ratings_df['ownership'] == 'play')\n",
    "    steam_ratings_df['interacted'] = 1\n",
    "    steam_ratings_df['name_unnormalized'] = steam_ratings_df['name']\n",
    "    steam_ratings_df['name'] = normalize_names(steam_ratings_df['name'])\n",
    "    return steam_ratings_df.drop(axis='columns', columns=['useless'])\n"
   ]
  },
  {
   "cell_type": "code",
   "execution_count": null,
   "metadata": {},
   "outputs": [],
   "source": [
    "#export\n",
    "\n",
    "\n",
    "@attr.s\n",
    "class RecommenderDataset:\n",
    "    \n",
    "    data = attr.ib()\n",
    "    target = attr.ib()\n",
    "    target_col = attr.ib(default='log_hours')\n",
    "    \n",
    "    def filter_out_insufficient_reviews(self, col, threshold):\n",
    "        is_number_of_reviews_sufficient = self._get_column_with_sufficient_reviews(self.data, col, threshold)\n",
    "        new_data = self.data[is_number_of_reviews_sufficient]\n",
    "        new_target = self.target[is_number_of_reviews_sufficient]\n",
    "        return RecommenderDataset(new_data, new_target, self.target_col)\n",
    "    \n",
    "    @classmethod\n",
    "    def _get_column_with_sufficient_reviews(cls, ratings_df, col, threshold):\n",
    "        game_review_counts = ratings_df.groupby(col).agg('count').iloc[:,0]\n",
    "        return ratings_df[col].isin(\n",
    "            game_review_counts.index[game_review_counts >= threshold]\n",
    "        )\n",
    "    \n",
    "    @staticmethod\n",
    "    def make_collaborative_filtering_dataset(steam_ratings_df, target_col='log_hours'):\n",
    "        \"\"\"\n",
    "        Clean data so that and 'hours' makes sense as target:\n",
    "        for players who played a game delete record of buying\n",
    "        \"\"\"\n",
    "        steam_ratings_df = steam_ratings_df[steam_ratings_df['played'] == 1]\n",
    "        target = steam_ratings_df[target_col]\n",
    "        data = steam_ratings_df.drop(columns=[target_col])\n",
    "        return RecommenderDataset(data, target, target_col)\n",
    "    \n",
    "    @staticmethod\n",
    "    def make_implicit_feedback_dataset(steam_ratings_df, target_col='log_hours'):\n",
    "        \"\"\"\n",
    "        Clean data so that and 'hours' is an implicit feedback target:\n",
    "        players that bought a game and didn't play it are treated as negative example\n",
    "        \"\"\"\n",
    "        filtered_steam_ratings_df = steam_ratings_df.groupby(['name', 'user_id']).apply(\n",
    "            lambda df: df if len(df) == 1 else df[df['ownership'] == 'play']\n",
    "        )\n",
    "        filtered_steam_ratings_df.index = pd.RangeIndex(len(filtered_steam_ratings_df))\n",
    "        not_played = steam_ratings_df['played'] == 0\n",
    "        target = filtered_steam_ratings_df[target_col]\n",
    "        data = filtered_steam_ratings_df.drop(columns=[target_col])\n",
    "        return RecommenderDataset(data, target, target_col)"
   ]
  },
  {
   "cell_type": "code",
   "execution_count": null,
   "metadata": {},
   "outputs": [],
   "source": [
    "#export\n",
    "\n",
    "\n",
    "def get_item_user_matrix(dataset):\n",
    "    steam_df, target = dataset.data, dataset.target\n",
    "    ratings_df = pd.concat([steam_df, target], axis=1)\n",
    "    item_user_pivoted_df = ratings_df.pivot_table(index='name', columns='user_id', values='log_hours')\n",
    "    user_game_matrix = scipy.sparse.csr_matrix(item_user_pivoted_df.fillna(0))   \n",
    "    return user_game_matrix\n",
    "\n",
    "\n",
    "def get_item_user_matrix_train_val_split(dataset,  train_labels, labels_val):\n",
    "    steam_df, target = dataset.data, dataset.target\n",
    "    ratings_df = pd.concat([steam_df, target], axis=1)\n",
    "    item_user_pivoted_df = ratings_df.pivot_table(index='name', columns='user_id', values='log_hours')\n",
    "    user_game_matrix_train = scipy.sparse.csr_matrix(item_user_pivoted_df.loc[:, steam_df.iloc[train_labels].index].fillna(0))\n",
    "    for __, row in tqdm.tqdm(ratings_df.iloc[labels_val].iterrows()):\n",
    "        item_user_pivoted_df.loc[row['name'], row['user_id']] = 0\n",
    "    \n",
    "    user_game_matrix_train = scipy.sparse.csr_matrix(item_user_pivoted_df.loc[:, steam_df.iloc[train_labels]['user_id'].unique()].fillna(0))\n",
    "    item_user_pivoted_df.iloc[:,:] = 0\n",
    "    for i, row in tqdm.tqdm(ratings_df.iloc[labels_val].iterrows()):\n",
    "        value = ratings_df[(ratings_df['user_id'] == row['user_id']) & (ratings_df['name'] == row['name'])]['log_hours'].iloc[0]\n",
    "        if i == 0:\n",
    "            print(value)\n",
    "            print(value.shape)\n",
    "        item_user_pivoted_df.loc[row['name'], row['user_id']] = value\n",
    "    \n",
    "    user_game_matrix_val = scipy.sparse.csr_matrix(item_user_pivoted_df.loc[:, steam_df.iloc[labels_val]['user_id'].unique()].fillna(0))\n",
    "    return user_game_matrix_train.T, user_game_matrix_val.T"
   ]
  },
  {
   "cell_type": "code",
   "execution_count": null,
   "metadata": {},
   "outputs": [],
   "source": [
    "steam_df.describe()"
   ]
  },
  {
   "cell_type": "code",
   "execution_count": null,
   "metadata": {},
   "outputs": [],
   "source": [
    "steam_ratings_df = load_steam_ratings_df()\n",
    "steam_ratings_df.groupby('user_id').agg('count')['name'].describe()"
   ]
  },
  {
   "cell_type": "code",
   "execution_count": null,
   "metadata": {},
   "outputs": [],
   "source": [
    "steam_ratings_df['played'].hist()"
   ]
  },
  {
   "cell_type": "code",
   "execution_count": null,
   "metadata": {},
   "outputs": [],
   "source": [
    "steam_ratings_df['hours'].min()"
   ]
  },
  {
   "cell_type": "code",
   "execution_count": null,
   "metadata": {},
   "outputs": [],
   "source": [
    "sns.distplot(steam_ratings_df['log_hours'], kde=False)"
   ]
  },
  {
   "cell_type": "code",
   "execution_count": null,
   "metadata": {},
   "outputs": [],
   "source": [
    "#ds = RecommenderDataset.make_implicit_feedback_dataset(steam_ratings_df)"
   ]
  },
  {
   "cell_type": "code",
   "execution_count": null,
   "metadata": {},
   "outputs": [],
   "source": [
    "#ds.data.index = pd.RangeIndex(len(ds.data))"
   ]
  },
  {
   "cell_type": "code",
   "execution_count": null,
   "metadata": {},
   "outputs": [],
   "source": [
    "steam_ratings_df.head()"
   ]
  },
  {
   "cell_type": "code",
   "execution_count": null,
   "metadata": {},
   "outputs": [],
   "source": [
    "len(set(steam_ratings_df.name))"
   ]
  },
  {
   "cell_type": "code",
   "execution_count": null,
   "metadata": {},
   "outputs": [],
   "source": [
    "len(set(steam_df.name))"
   ]
  },
  {
   "cell_type": "code",
   "execution_count": null,
   "metadata": {},
   "outputs": [],
   "source": [
    "games_with_metadata = set(normalize_names(steam_df['name']))\n",
    "games_with_reviews = set(normalize_names(steam_ratings_df['name']))\n",
    "games_without_metadata = games_with_reviews - games_with_metadata\n",
    "\n",
    "print(len(games_without_metadata))"
   ]
  },
  {
   "cell_type": "code",
   "execution_count": null,
   "metadata": {},
   "outputs": [],
   "source": [
    "steam_ratings_df.shape"
   ]
  },
  {
   "cell_type": "markdown",
   "metadata": {},
   "source": [
    "Ratings with games with metadata"
   ]
  },
  {
   "cell_type": "code",
   "execution_count": 1,
   "metadata": {},
   "outputs": [],
   "source": [
    "#export\n",
    "\n",
    "\n",
    "def filter_ratings_with_metadata(steam_ratings_df, steam_df=None):\n",
    "    if steam_df is None:\n",
    "        steam_df = load_steam_df()\n",
    "    games_with_metadata = set(normalize_names(steam_df['name']))\n",
    "    games_with_reviews = set(normalize_names(steam_ratings_df['name']))\n",
    "    games_without_metadata = games_with_reviews - games_with_metadata\n",
    "    return steam_ratings_df[~steam_ratings_df['name'].isin(games_without_metadata)]\n"
   ]
  },
  {
   "cell_type": "code",
   "execution_count": null,
   "metadata": {},
   "outputs": [],
   "source": [
    "steam_ratings_with_metadata_df = filter_ratings_with_metadata(steam_ratings_df)\n",
    "steam_ratings_with_metadata_df.shape"
   ]
  },
  {
   "cell_type": "code",
   "execution_count": null,
   "metadata": {},
   "outputs": [],
   "source": [
    "from fuzzywuzzy import fuzz\n",
    "from operator import itemgetter\n",
    "import tqdm\n",
    "\n",
    "for game_name in games_without_metadata:\n",
    "    similarities = [(name, fuzz.ratio(game_name, name) / 100) for name in set(steam_df.name)] \n",
    "    similarities = sorted(similarities, key=itemgetter(1), reverse=True)\n",
    "    if similarities[0][1] > 0.85:\n",
    "        print(game_name, similarities[0])"
   ]
  },
  {
   "cell_type": "code",
   "execution_count": null,
   "metadata": {},
   "outputs": [],
   "source": [
    "steam_ratings_df[steam_ratings_df.name.isin(games_without_metadata)].groupby('name').agg('count')"
   ]
  },
  {
   "cell_type": "code",
   "execution_count": null,
   "metadata": {},
   "outputs": [],
   "source": [
    "games_without_metadata"
   ]
  },
  {
   "cell_type": "code",
   "execution_count": null,
   "metadata": {},
   "outputs": [],
   "source": [
    "steam_ratings_df[steam_ratings_df.name.str.lower().str.replace(':','').isin(games_without_metadata)].groupby('name').agg('count')"
   ]
  },
  {
   "cell_type": "code",
   "execution_count": null,
   "metadata": {},
   "outputs": [],
   "source": [
    "steam_ratings_df[steam_ratings_df.name.str.lower().str.replace(':','').isin(games_without_metadata)].groupby('name').agg('count')"
   ]
  },
  {
   "cell_type": "code",
   "execution_count": null,
   "metadata": {},
   "outputs": [],
   "source": []
  }
 ],
 "metadata": {
  "kernelspec": {
   "display_name": "ml",
   "language": "python",
   "name": "ml"
  },
  "language_info": {
   "codemirror_mode": {
    "name": "ipython",
    "version": 3
   },
   "file_extension": ".py",
   "mimetype": "text/x-python",
   "name": "python",
   "nbconvert_exporter": "python",
   "pygments_lexer": "ipython3",
   "version": "3.7.7"
  }
 },
 "nbformat": 4,
 "nbformat_minor": 4
}
